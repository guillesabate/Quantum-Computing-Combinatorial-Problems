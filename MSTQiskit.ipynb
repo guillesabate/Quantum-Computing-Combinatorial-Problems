{
 "cells": [
  {
   "metadata": {},
   "cell_type": "markdown",
   "source": [
    "# MST Implementation on Qiskit\n",
    "\n",
    "Some sections of the code have been obtained from the contents on: "
   ],
   "id": "e61df25794cbb32f"
  },
  {
   "cell_type": "code",
   "id": "initial_id",
   "metadata": {
    "collapsed": true,
    "ExecuteTime": {
     "end_time": "2024-09-21T05:58:57.911691Z",
     "start_time": "2024-09-21T05:58:55.672379Z"
    }
   },
   "source": [
    "# Necessary Libraries for program execution\n",
    "import networkx as nx\n",
    "import numpy as np\n",
    "from qiskit_algorithms.utils import algorithm_globals\n",
    "from qiskit_optimization.algorithms import MinimumEigenOptimizer\n",
    "from qiskit_algorithms import SamplingVQE, NumPyMinimumEigensolver\n",
    "from networkx import Graph\n",
    "import matplotlib.pyplot as plt\n",
    "import matplotlib.colors as c\n",
    "import random\n",
    "from qiskit_optimization import QuadraticProgram\n",
    "from qiskit.quantum_info import SparsePauliOp, Pauli\n",
    "from qiskit_optimization.converters import QuadraticProgramToQubo\n",
    "from typing import Tuple\n",
    "import plotly.graph_objects as go\n"
   ],
   "outputs": [],
   "execution_count": 1
  },
  {
   "metadata": {},
   "cell_type": "markdown",
   "source": [
    "## 1. Parameter Selection\n",
    "Choose the desired parameters to configure the creation of a Max-Cut Algorithm\n",
    "- Seed for the random value generation to obtain different results with similar parameters, or set it to None in case you want to create random graphs every time\n",
    "- n for the total number of nodes in the problem\n",
    "- p for the probability of generating and edge between two nodes\n",
    "- minimum_weight for the minimum edge weight\n",
    "- maximum_weight for the maximum edge weight"
   ],
   "id": "70f673b6b1f22402"
  },
  {
   "metadata": {
    "ExecuteTime": {
     "end_time": "2024-09-21T05:58:57.915155Z",
     "start_time": "2024-09-21T05:58:57.911691Z"
    }
   },
   "cell_type": "code",
   "source": [
    "seed = 123\n",
    "n = 5\n",
    "p = 0.5\n",
    "minimum_weight = 1\n",
    "maximum_weight = 10"
   ],
   "id": "2e9cb699ff90dbff",
   "outputs": [],
   "execution_count": 2
  },
  {
   "metadata": {
    "ExecuteTime": {
     "end_time": "2024-09-21T05:58:57.920913Z",
     "start_time": "2024-09-21T05:58:57.915155Z"
    }
   },
   "cell_type": "code",
   "source": [
    "def draw_graph(G, seed, result_variables: list = None):\n",
    "    # position is stored as node attribute data for random_geometric_graph\n",
    "    pos = nx.spring_layout(G, seed=seed)  # Seed for reproducible layout\n",
    "    flag = False\n",
    "    if result_variables is not None:\n",
    "        for var in result_variables:\n",
    "            split = var.split('_')\n",
    "            if len(split) > 2 and split[0] == 'x':\n",
    "                flag = True\n",
    "                i = 0\n",
    "                j = 0\n",
    "                try:\n",
    "                  i = int(split[1])\n",
    "                  j = int(split[2])\n",
    "                except ValueError:\n",
    "                  flag = False\n",
    "                if flag:\n",
    "                    if result_variables[var] != 0:\n",
    "                        G[i][j]['color'] = c.to_rgba('b', 1)\n",
    "                    else:\n",
    "                        G[i][j]['color'] = c.to_rgba('b', 0.3)\n",
    "    \n",
    "\n",
    "    labels = {}\n",
    "    for i in range(G.number_of_nodes()):\n",
    "        labels[i] = str(i)\n",
    "    nx.draw_networkx_nodes(G, pos, label=labels)\n",
    "    labels = nx.get_edge_attributes(G,'weight')\n",
    "    if flag:\n",
    "        colors = []\n",
    "        for edge in G.edges():\n",
    "            colors.append(G[edge[0]][edge[1]]['color'])\n",
    "        nx.draw_networkx_edges(G, pos, edgelist=labels, edge_color=colors, width=4)\n",
    "    else:\n",
    "        nx.draw_networkx_edges(G, pos, edgelist=labels, width=4)  \n",
    "    nx.draw_networkx_edge_labels(G,pos,edge_labels=labels)\n",
    "    nx.draw_networkx_labels(G, pos)\n",
    "    plt.show()\n"
   ],
   "id": "a2857353d51f934a",
   "outputs": [],
   "execution_count": 3
  },
  {
   "metadata": {},
   "cell_type": "markdown",
   "source": "### 2. Create a Graph",
   "id": "8d2033c8f73d2c58"
  },
  {
   "metadata": {
    "ExecuteTime": {
     "end_time": "2024-09-21T05:58:57.924673Z",
     "start_time": "2024-09-21T05:58:57.920913Z"
    }
   },
   "cell_type": "code",
   "source": [
    "def create_random_instance(n: int, low: int = 0, high: int = 100, p: float = 1, seed: int = None) -> Graph:\n",
    "    \"\"\"Create a random instance of a Graph with n nodes and p probability of having weighted edges between nodes.\n",
    "\n",
    "    Args:\n",
    "        n: the number of nodes.\n",
    "        low: The minimum value for the coordinate of a node.\n",
    "        high: The maximum value for the coordinate of a node.\n",
    "        seed: the seed for the random values.\n",
    "        p: the probability that the node is visited.\n",
    "\n",
    "    Returns:\n",
    "         A Graph instance created from the input information\n",
    "    \"\"\"\n",
    "    if seed:\n",
    "        algorithm_globals.random_seed = seed\n",
    "        random.seed(seed)\n",
    "    #coord = algorithm_globals.random.uniform(low, high, (n, 2))\n",
    "    #pos = {i: (coord_[0], coord_[1]) for i, coord_ in enumerate(coord)}\n",
    "    gen_graph = nx.erdos_renyi_graph(n, p, seed=seed)\n",
    "    for i, j in gen_graph.edges:\n",
    "        gen_graph.edges[i, j][\"weight\"] = random.randint(low, high)\n",
    "    return gen_graph"
   ],
   "id": "87f0d7bd0e3f38e0",
   "outputs": [],
   "execution_count": 4
  },
  {
   "metadata": {
    "ExecuteTime": {
     "end_time": "2024-09-21T05:58:58.037129Z",
     "start_time": "2024-09-21T05:58:57.924673Z"
    }
   },
   "cell_type": "code",
   "source": [
    "graph = create_random_instance(n=n, low=minimum_weight, high=maximum_weight, p=p, seed=seed)\n",
    "draw_graph(graph, seed)\n",
    "print(graph.edges.data())\n",
    "'''\n",
    "for edge in graph.edges():\n",
    "    print(edge, graph[edge[0]][edge[1]]['weight'])\n",
    "'''"
   ],
   "id": "7f5279ecfef60cc7",
   "outputs": [
    {
     "data": {
      "text/plain": [
       "<Figure size 640x480 with 1 Axes>"
      ],
      "image/png": "[encoded data removed]"
     },
     "metadata": {},
     "output_type": "display_data"
    },
    {
     "name": "stdout",
     "output_type": "stream",
     "text": [
      "[(0, 1, {'weight': 1}), (0, 2, {'weight': 5}), (0, 3, {'weight': 2}), (0, 4, {'weight': 7}), (1, 3, {'weight': 5}), (2, 3, {'weight': 2}), (3, 4, {'weight': 1})]\n"
     ]
    },
    {
     "data": {
      "text/plain": [
       "\"\\nfor edge in graph.edges():\\n    print(edge, graph[edge[0]][edge[1]]['weight'])\\n\""
      ]
     },
     "execution_count": 5,
     "metadata": {},
     "output_type": "execute_result"
    }
   ],
   "execution_count": 5
  },
  {
   "metadata": {},
   "cell_type": "markdown",
   "source": [
    "## 3. Define the Quadratic Program\n",
    "In this stage we will translate the MST problem to solve in Graph format to a Quadratic Program \n",
    "\n",
    "### Binary Variable Assignation\n",
    "Each edge is assigned a binary variable, however each edge is represented only once, so we need to decided in one direction (in this case from minimum node index to maximum node index).\n",
    "### Objective Function Definition\n",
    "The objective function needs to be defined as the linear cost function we are looking forward to minimize. In this case, we are taking the values of each of the edges and mapping their weights\n",
    "### Degree Constraint\n",
    "We set a constraint to make sure that the total number of edges that the MST cut contains is equal to the number of vertices in the graph minus one, ensuring that the spanning tree's edges cover all of the vertices. \n",
    "### Cycle Constraints\n",
    "The Miller-Tucker-Zemlin (MTZ) formulation is used to eliminate the close cycles that can form when looking for solutions, ensuring we have an acyclical valid spanning tree.\n",
    "We introduce a continuous variable u for each vertex v except for a fixed root vertex (commonly vertex 0). These variables help to order the vertices in such a way that any inclusion of an edge in the MST maintains a valid order., where u ranges from 0 to n - 1.\n",
    "\n",
    "The continuous variables u act like position indicators for vertices. They help in defining an order or hierarchy among vertices.\n",
    "The MTZ constraints ensure that if an edge is included in the MST, the order of vertices as indicated by the continuous variables will prevent cycles from forming. By ensuring that ui and uj maintain a consistent order whenever an edge (i,j) is selected, we ensure the acyclic nature of the resulting graph.\n",
    "\n",
    "However, with the help of binary indicators, we are able to circumvent this problem through thee usage of binary indicators that they are used."
   ],
   "id": "a5f85fa417d1fb40"
  },
  {
   "metadata": {
    "ExecuteTime": {
     "end_time": "2024-09-21T05:58:58.041235Z",
     "start_time": "2024-09-21T05:58:58.037129Z"
    }
   },
   "cell_type": "code",
   "source": [
    "def mst_to_quadratic_program(G) -> QuadraticProgram:\n",
    "    \"\"\"Convert a MST graph problem instance into a\n",
    "    :class:`~qiskit_optimization.problems.QuadraticProgram`\n",
    "\n",
    "    Returns:\n",
    "        The :class:`~qiskit_optimization.problems.QuadraticProgram` created\n",
    "        from the MST graph problem instance.\n",
    "    \"\"\"\n",
    "    qp = QuadraticProgram(\"MST\")\n",
    "    \n",
    "    # Add binary variables for each edge\n",
    "    for u, v in G.edges():\n",
    "        qp.binary_var(name=f\"x_{min(u, v)}_{max(u, v)}\")\n",
    "    \n",
    "    # Add linear constraint (objective function)\n",
    "    linear = {f\"x_{min(u, v)}_{max(u, v)}\": G[u][v]['weight'] for u, v in G.edges()}\n",
    "    qp.minimize(linear=linear)\n",
    "    \n",
    "    # Add degree constraint\n",
    "    vertices = list(G.nodes())\n",
    "    qp.linear_constraint(\n",
    "        linear={f\"x_{min(u, v)}_{max(u, v)}\": 1 for u, v in G.edges()},\n",
    "        sense='==',\n",
    "        rhs=len(vertices) - 1\n",
    "    )\n",
    "    \n",
    "    '''\n",
    "    # Add cycle constraints\n",
    "    # Using a binary indicator approach to ensure connectivity\n",
    "    for v in vertices[1:]:\n",
    "        for u in vertices:\n",
    "            if u != v and G.has_edge(u, v):\n",
    "                qp.linear_constraint(\n",
    "                    linear={f\"x_{min(u, v)}_{max(u, v)}\": 1},\n",
    "                    sense='<=',\n",
    "                    rhs=1\n",
    "                )\n",
    "    '''\n",
    "    return qp"
   ],
   "id": "88c4ee785c969b12",
   "outputs": [],
   "execution_count": 6
  },
  {
   "metadata": {
    "ExecuteTime": {
     "end_time": "2024-09-21T05:58:58.048675Z",
     "start_time": "2024-09-21T05:58:58.041235Z"
    }
   },
   "cell_type": "code",
   "source": [
    "qp = mst_to_quadratic_program(graph)\n",
    "print(qp.prettyprint())"
   ],
   "id": "9df04dfb6b280bea",
   "outputs": [
    {
     "name": "stdout",
     "output_type": "stream",
     "text": [
      "Problem name: MST\n",
      "\n",
      "Minimize\n",
      "  x_0_1 + 5*x_0_2 + 2*x_0_3 + 7*x_0_4 + 5*x_1_3 + 2*x_2_3 + x_3_4\n",
      "\n",
      "Subject to\n",
      "  Linear constraints (1)\n",
      "    x_0_1 + x_0_2 + x_0_3 + x_0_4 + x_1_3 + x_2_3 + x_3_4 == 4  'c0'\n",
      "\n",
      "  Binary variables (7)\n",
      "    x_0_1 x_0_2 x_0_3 x_0_4 x_1_3 x_2_3 x_3_4\n",
      "\n"
     ]
    }
   ],
   "execution_count": 7
  },
  {
   "metadata": {},
   "cell_type": "markdown",
   "source": "## 4. Convert to QUBO",
   "id": "7864f78085bffa66"
  },
  {
   "metadata": {
    "ExecuteTime": {
     "end_time": "2024-09-21T05:58:58.056180Z",
     "start_time": "2024-09-21T05:58:58.050680Z"
    }
   },
   "cell_type": "code",
   "source": [
    "#Alternative to Ising implementation, without optimizing the matrix\n",
    "def custom_to_ising(quad_prog: QuadraticProgram) -> Tuple[SparsePauliOp, float]:\n",
    "    # if problem has variables that are not binary, raise an error\n",
    "    if quad_prog.get_num_vars() > quad_prog.get_num_binary_vars():\n",
    "        raise QiskitOptimizationError(\n",
    "            \"The type of all variables must be binary. \"\n",
    "            \"You can use `QuadraticProgramToQubo` converter \"\n",
    "            \"to convert integer variables to binary variables. \"\n",
    "            \"If the problem contains continuous variables, `to_ising` cannot handle it. \"\n",
    "            \"You might be able to solve it with `ADMMOptimizer`.\"\n",
    "        )\n",
    "\n",
    "    # if constraints exist, raise an error\n",
    "    if quad_prog.linear_constraints or quad_prog.quadratic_constraints:\n",
    "        raise QiskitOptimizationError(\n",
    "            \"There must be no constraint in the problem. \"\n",
    "            \"You can use `QuadraticProgramToQubo` converter \"\n",
    "            \"to convert constraints to penalty terms of the objective function.\"\n",
    "        )\n",
    "\n",
    "    # initialize Hamiltonian.\n",
    "    num_vars = quad_prog.get_num_vars()\n",
    "    pauli_list = []\n",
    "    offset = 0.0\n",
    "    zero = np.zeros(num_vars, dtype=bool)\n",
    "\n",
    "    # set a sign corresponding to a maximized or minimized problem.\n",
    "    # sign == 1 is for minimized problem. sign == -1 is for maximized problem.\n",
    "    sense = quad_prog.objective.sense.value\n",
    "\n",
    "    # convert a constant part of the objective function into Hamiltonian.\n",
    "    offset += quad_prog.objective.constant * sense\n",
    "\n",
    "    # convert linear parts of the objective function into Hamiltonian.\n",
    "    for idx, coef in quad_prog.objective.linear.to_dict().items():\n",
    "        z_p = zero.copy()\n",
    "        weight = coef * sense / 2\n",
    "        z_p[idx] = True\n",
    "\n",
    "        pauli_list.append(SparsePauliOp(Pauli((z_p, zero)), -weight))\n",
    "        offset += weight\n",
    "\n",
    "    # create Pauli terms\n",
    "    for (i, j), coeff in quad_prog.objective.quadratic.to_dict().items():\n",
    "        weight = coeff * sense / 4\n",
    "\n",
    "        if i == j:\n",
    "            offset += weight\n",
    "        else:\n",
    "            z_p = zero.copy()\n",
    "            z_p[i] = True\n",
    "            z_p[j] = True\n",
    "            pauli_list.append(SparsePauliOp(Pauli((z_p, zero)), weight))\n",
    "\n",
    "        z_p = zero.copy()\n",
    "        z_p[i] = True\n",
    "        pauli_list.append(SparsePauliOp(Pauli((z_p, zero)), -weight))\n",
    "\n",
    "        z_p = zero.copy()\n",
    "        z_p[j] = True\n",
    "        pauli_list.append(SparsePauliOp(Pauli((z_p, zero)), -weight))\n",
    "\n",
    "        offset += weight\n",
    "\n",
    "    if pauli_list:\n",
    "        # Remove paulis whose coefficients are zeros.\n",
    "        print(\"List of size \", len(pauli_list), pauli_list)\n",
    "        print(\"Sum of size \", len(sum(pauli_list)), sum(pauli_list))\n",
    "        qubit_op = sum(pauli_list).simplify(atol=0)\n",
    "    else:\n",
    "        # If there is no variable, we set num_nodes=1 so that qubit_op should be an operator.\n",
    "        # If num_nodes=0, I^0 = 1 (int).\n",
    "        num_vars = max(1, num_vars)\n",
    "        qubit_op = SparsePauliOp(\"I\" * num_vars, 0)\n",
    "\n",
    "    return qubit_op, offset"
   ],
   "id": "5c1eb581f889ee55",
   "outputs": [],
   "execution_count": 8
  },
  {
   "metadata": {
    "ExecuteTime": {
     "end_time": "2024-09-21T05:58:58.081627Z",
     "start_time": "2024-09-21T05:58:58.056180Z"
    }
   },
   "cell_type": "code",
   "source": [
    "# Regular approach with external library\n",
    "qp2qubo = QuadraticProgramToQubo()\n",
    "qubo = qp2qubo.convert(qp)\n",
    "\n",
    "# Custom implementation\n",
    "qubitOp, offset = custom_to_ising(qubo)\n",
    "\n",
    "# Regular implementation\n",
    "qubitOp, offset = qubo.to_ising()\n",
    "print(\"Standard QUBO:\", qubitOp)"
   ],
   "id": "febd882ce967adb1",
   "outputs": [
    {
     "name": "stdout",
     "output_type": "stream",
     "text": [
      "List of size  84 [SparsePauliOp(['IIIIIIZ'],\n",
      "              coeffs=[95.5+0.j]), SparsePauliOp(['IIIIIZI'],\n",
      "              coeffs=[93.5+0.j]), SparsePauliOp(['IIIIZII'],\n",
      "              coeffs=[95.+0.j]), SparsePauliOp(['IIIZIII'],\n",
      "              coeffs=[92.5+0.j]), SparsePauliOp(['IIZIIII'],\n",
      "              coeffs=[93.5+0.j]), SparsePauliOp(['IZIIIII'],\n",
      "              coeffs=[95.+0.j]), SparsePauliOp(['ZIIIIII'],\n",
      "              coeffs=[95.5+0.j]), SparsePauliOp(['IIIIIIZ'],\n",
      "              coeffs=[-6.+0.j]), SparsePauliOp(['IIIIIIZ'],\n",
      "              coeffs=[-6.+0.j]), SparsePauliOp(['IIIIIZZ'],\n",
      "              coeffs=[12.+0.j]), SparsePauliOp(['IIIIIIZ'],\n",
      "              coeffs=[-12.+0.j]), SparsePauliOp(['IIIIIZI'],\n",
      "              coeffs=[-12.+0.j]), SparsePauliOp(['IIIIZIZ'],\n",
      "              coeffs=[12.+0.j]), SparsePauliOp(['IIIIIIZ'],\n",
      "              coeffs=[-12.+0.j]), SparsePauliOp(['IIIIZII'],\n",
      "              coeffs=[-12.+0.j]), SparsePauliOp(['IIIZIIZ'],\n",
      "              coeffs=[12.+0.j]), SparsePauliOp(['IIIIIIZ'],\n",
      "              coeffs=[-12.+0.j]), SparsePauliOp(['IIIZIII'],\n",
      "              coeffs=[-12.+0.j]), SparsePauliOp(['IIZIIIZ'],\n",
      "              coeffs=[12.+0.j]), SparsePauliOp(['IIIIIIZ'],\n",
      "              coeffs=[-12.+0.j]), SparsePauliOp(['IIZIIII'],\n",
      "              coeffs=[-12.+0.j]), SparsePauliOp(['IZIIIIZ'],\n",
      "              coeffs=[12.+0.j]), SparsePauliOp(['IIIIIIZ'],\n",
      "              coeffs=[-12.+0.j]), SparsePauliOp(['IZIIIII'],\n",
      "              coeffs=[-12.+0.j]), SparsePauliOp(['ZIIIIIZ'],\n",
      "              coeffs=[12.+0.j]), SparsePauliOp(['IIIIIIZ'],\n",
      "              coeffs=[-12.+0.j]), SparsePauliOp(['ZIIIIII'],\n",
      "              coeffs=[-12.+0.j]), SparsePauliOp(['IIIIIZI'],\n",
      "              coeffs=[-6.+0.j]), SparsePauliOp(['IIIIIZI'],\n",
      "              coeffs=[-6.+0.j]), SparsePauliOp(['IIIIZZI'],\n",
      "              coeffs=[12.+0.j]), SparsePauliOp(['IIIIIZI'],\n",
      "              coeffs=[-12.+0.j]), SparsePauliOp(['IIIIZII'],\n",
      "              coeffs=[-12.+0.j]), SparsePauliOp(['IIIZIZI'],\n",
      "              coeffs=[12.+0.j]), SparsePauliOp(['IIIIIZI'],\n",
      "              coeffs=[-12.+0.j]), SparsePauliOp(['IIIZIII'],\n",
      "              coeffs=[-12.+0.j]), SparsePauliOp(['IIZIIZI'],\n",
      "              coeffs=[12.+0.j]), SparsePauliOp(['IIIIIZI'],\n",
      "              coeffs=[-12.+0.j]), SparsePauliOp(['IIZIIII'],\n",
      "              coeffs=[-12.+0.j]), SparsePauliOp(['IZIIIZI'],\n",
      "              coeffs=[12.+0.j]), SparsePauliOp(['IIIIIZI'],\n",
      "              coeffs=[-12.+0.j]), SparsePauliOp(['IZIIIII'],\n",
      "              coeffs=[-12.+0.j]), SparsePauliOp(['ZIIIIZI'],\n",
      "              coeffs=[12.+0.j]), SparsePauliOp(['IIIIIZI'],\n",
      "              coeffs=[-12.+0.j]), SparsePauliOp(['ZIIIIII'],\n",
      "              coeffs=[-12.+0.j]), SparsePauliOp(['IIIIZII'],\n",
      "              coeffs=[-6.+0.j]), SparsePauliOp(['IIIIZII'],\n",
      "              coeffs=[-6.+0.j]), SparsePauliOp(['IIIZZII'],\n",
      "              coeffs=[12.+0.j]), SparsePauliOp(['IIIIZII'],\n",
      "              coeffs=[-12.+0.j]), SparsePauliOp(['IIIZIII'],\n",
      "              coeffs=[-12.+0.j]), SparsePauliOp(['IIZIZII'],\n",
      "              coeffs=[12.+0.j]), SparsePauliOp(['IIIIZII'],\n",
      "              coeffs=[-12.+0.j]), SparsePauliOp(['IIZIIII'],\n",
      "              coeffs=[-12.+0.j]), SparsePauliOp(['IZIIZII'],\n",
      "              coeffs=[12.+0.j]), SparsePauliOp(['IIIIZII'],\n",
      "              coeffs=[-12.+0.j]), SparsePauliOp(['IZIIIII'],\n",
      "              coeffs=[-12.+0.j]), SparsePauliOp(['ZIIIZII'],\n",
      "              coeffs=[12.+0.j]), SparsePauliOp(['IIIIZII'],\n",
      "              coeffs=[-12.+0.j]), SparsePauliOp(['ZIIIIII'],\n",
      "              coeffs=[-12.+0.j]), SparsePauliOp(['IIIZIII'],\n",
      "              coeffs=[-6.+0.j]), SparsePauliOp(['IIIZIII'],\n",
      "              coeffs=[-6.+0.j]), SparsePauliOp(['IIZZIII'],\n",
      "              coeffs=[12.+0.j]), SparsePauliOp(['IIIZIII'],\n",
      "              coeffs=[-12.+0.j]), SparsePauliOp(['IIZIIII'],\n",
      "              coeffs=[-12.+0.j]), SparsePauliOp(['IZIZIII'],\n",
      "              coeffs=[12.+0.j]), SparsePauliOp(['IIIZIII'],\n",
      "              coeffs=[-12.+0.j]), SparsePauliOp(['IZIIIII'],\n",
      "              coeffs=[-12.+0.j]), SparsePauliOp(['ZIIZIII'],\n",
      "              coeffs=[12.+0.j]), SparsePauliOp(['IIIZIII'],\n",
      "              coeffs=[-12.+0.j]), SparsePauliOp(['ZIIIIII'],\n",
      "              coeffs=[-12.+0.j]), SparsePauliOp(['IIZIIII'],\n",
      "              coeffs=[-6.+0.j]), SparsePauliOp(['IIZIIII'],\n",
      "              coeffs=[-6.+0.j]), SparsePauliOp(['IZZIIII'],\n",
      "              coeffs=[12.+0.j]), SparsePauliOp(['IIZIIII'],\n",
      "              coeffs=[-12.+0.j]), SparsePauliOp(['IZIIIII'],\n",
      "              coeffs=[-12.+0.j]), SparsePauliOp(['ZIZIIII'],\n",
      "              coeffs=[12.+0.j]), SparsePauliOp(['IIZIIII'],\n",
      "              coeffs=[-12.+0.j]), SparsePauliOp(['ZIIIIII'],\n",
      "              coeffs=[-12.+0.j]), SparsePauliOp(['IZIIIII'],\n",
      "              coeffs=[-6.+0.j]), SparsePauliOp(['IZIIIII'],\n",
      "              coeffs=[-6.+0.j]), SparsePauliOp(['ZZIIIII'],\n",
      "              coeffs=[12.+0.j]), SparsePauliOp(['IZIIIII'],\n",
      "              coeffs=[-12.+0.j]), SparsePauliOp(['ZIIIIII'],\n",
      "              coeffs=[-12.+0.j]), SparsePauliOp(['ZIIIIII'],\n",
      "              coeffs=[-6.+0.j]), SparsePauliOp(['ZIIIIII'],\n",
      "              coeffs=[-6.+0.j])]\n",
      "Sum of size  84 SparsePauliOp(['IIIIIIZ', 'IIIIIZI', 'IIIIZII', 'IIIZIII', 'IIZIIII', 'IZIIIII', 'ZIIIIII', 'IIIIIIZ', 'IIIIIIZ', 'IIIIIZZ', 'IIIIIIZ', 'IIIIIZI', 'IIIIZIZ', 'IIIIIIZ', 'IIIIZII', 'IIIZIIZ', 'IIIIIIZ', 'IIIZIII', 'IIZIIIZ', 'IIIIIIZ', 'IIZIIII', 'IZIIIIZ', 'IIIIIIZ', 'IZIIIII', 'ZIIIIIZ', 'IIIIIIZ', 'ZIIIIII', 'IIIIIZI', 'IIIIIZI', 'IIIIZZI', 'IIIIIZI', 'IIIIZII', 'IIIZIZI', 'IIIIIZI', 'IIIZIII', 'IIZIIZI', 'IIIIIZI', 'IIZIIII', 'IZIIIZI', 'IIIIIZI', 'IZIIIII', 'ZIIIIZI', 'IIIIIZI', 'ZIIIIII', 'IIIIZII', 'IIIIZII', 'IIIZZII', 'IIIIZII', 'IIIZIII', 'IIZIZII', 'IIIIZII', 'IIZIIII', 'IZIIZII', 'IIIIZII', 'IZIIIII', 'ZIIIZII', 'IIIIZII', 'ZIIIIII', 'IIIZIII', 'IIIZIII', 'IIZZIII', 'IIIZIII', 'IIZIIII', 'IZIZIII', 'IIIZIII', 'IZIIIII', 'ZIIZIII', 'IIIZIII', 'ZIIIIII', 'IIZIIII', 'IIZIIII', 'IZZIIII', 'IIZIIII', 'IZIIIII', 'ZIZIIII', 'IIZIIII', 'ZIIIIII', 'IZIIIII', 'IZIIIII', 'ZZIIIII', 'IZIIIII', 'ZIIIIII', 'ZIIIIII', 'ZIIIIII'],\n",
      "              coeffs=[ 95.5+0.j,  93.5+0.j,  95. +0.j,  92.5+0.j,  93.5+0.j,  95. +0.j,\n",
      "  95.5+0.j,  -6. +0.j,  -6. +0.j,  12. +0.j, -12. +0.j, -12. +0.j,\n",
      "  12. +0.j, -12. +0.j, -12. +0.j,  12. +0.j, -12. +0.j, -12. +0.j,\n",
      "  12. +0.j, -12. +0.j, -12. +0.j,  12. +0.j, -12. +0.j, -12. +0.j,\n",
      "  12. +0.j, -12. +0.j, -12. +0.j,  -6. +0.j,  -6. +0.j,  12. +0.j,\n",
      " -12. +0.j, -12. +0.j,  12. +0.j, -12. +0.j, -12. +0.j,  12. +0.j,\n",
      " -12. +0.j, -12. +0.j,  12. +0.j, -12. +0.j, -12. +0.j,  12. +0.j,\n",
      " -12. +0.j, -12. +0.j,  -6. +0.j,  -6. +0.j,  12. +0.j, -12. +0.j,\n",
      " -12. +0.j,  12. +0.j, -12. +0.j, -12. +0.j,  12. +0.j, -12. +0.j,\n",
      " -12. +0.j,  12. +0.j, -12. +0.j, -12. +0.j,  -6. +0.j,  -6. +0.j,\n",
      "  12. +0.j, -12. +0.j, -12. +0.j,  12. +0.j, -12. +0.j, -12. +0.j,\n",
      "  12. +0.j, -12. +0.j, -12. +0.j,  -6. +0.j,  -6. +0.j,  12. +0.j,\n",
      " -12. +0.j, -12. +0.j,  12. +0.j, -12. +0.j, -12. +0.j,  -6. +0.j,\n",
      "  -6. +0.j,  12. +0.j, -12. +0.j, -12. +0.j,  -6. +0.j,  -6. +0.j])\n",
      "Standard QUBO: SparsePauliOp(['IIIIIIZ', 'IIIIIZI', 'IIIIZII', 'IIIZIII', 'IIZIIII', 'IZIIIII', 'ZIIIIII', 'IIIIIZZ', 'IIIIZIZ', 'IIIZIIZ', 'IIZIIIZ', 'IZIIIIZ', 'ZIIIIIZ', 'IIIIZZI', 'IIIZIZI', 'IIZIIZI', 'IZIIIZI', 'ZIIIIZI', 'IIIZZII', 'IIZIZII', 'IZIIZII', 'ZIIIZII', 'IIZZIII', 'IZIZIII', 'ZIIZIII', 'IZZIIII', 'ZIZIIII', 'ZZIIIII'],\n",
      "              coeffs=[11.5+0.j,  9.5+0.j, 11. +0.j,  8.5+0.j,  9.5+0.j, 11. +0.j, 11.5+0.j,\n",
      " 12. +0.j, 12. +0.j, 12. +0.j, 12. +0.j, 12. +0.j, 12. +0.j, 12. +0.j,\n",
      " 12. +0.j, 12. +0.j, 12. +0.j, 12. +0.j, 12. +0.j, 12. +0.j, 12. +0.j,\n",
      " 12. +0.j, 12. +0.j, 12. +0.j, 12. +0.j, 12. +0.j, 12. +0.j, 12. +0.j])\n"
     ]
    }
   ],
   "execution_count": 9
  },
  {
   "metadata": {},
   "cell_type": "markdown",
   "source": [
    "### Not very Important Functions stolen from Qiskit\n",
    "https://qiskit-community.github.io/qiskit-optimization/_modules/qiskit_optimization/applications/optimization_application.html#OptimizationApplication.sample_most_likely"
   ],
   "id": "47ab8cfb6bff054a"
  },
  {
   "metadata": {
    "ExecuteTime": {
     "end_time": "2024-09-21T05:58:58.086764Z",
     "start_time": "2024-09-21T05:58:58.081627Z"
    }
   },
   "cell_type": "code",
   "source": [
    "from typing import Dict, Union\n",
    "from qiskit.quantum_info import Statevector\n",
    "from qiskit.result import QuasiDistribution\n",
    "from collections import OrderedDict\n",
    "def sample_most_likely(\n",
    "        state_vector: Union[QuasiDistribution, Statevector, np.ndarray, Dict]\n",
    "    ) -> np.ndarray:\n",
    "        \"\"\"Compute the most likely binary string from state vector.\n",
    "\n",
    "        Args:\n",
    "            state_vector: state vector or counts or quasi-probabilities.\n",
    "\n",
    "        Returns:\n",
    "            binary string as numpy.ndarray of ints.\n",
    "\n",
    "        Raises:\n",
    "            ValueError: if state_vector is not QuasiDistribution, Statevector,\n",
    "                np.ndarray, or dict.\n",
    "        \"\"\"\n",
    "        if isinstance(state_vector, QuasiDistribution):\n",
    "            probabilities = state_vector.binary_probabilities()\n",
    "            binary_string = max(probabilities.items(), key=lambda kv: kv[1])[0]\n",
    "            x = np.asarray([int(y) for y in reversed(list(binary_string))])\n",
    "            return x\n",
    "        elif isinstance(state_vector, Statevector):\n",
    "            probabilities = state_vector.probabilities()\n",
    "            n = state_vector.num_qubits\n",
    "            k = np.argmax(np.abs(probabilities))\n",
    "            x = np.zeros(n)\n",
    "            for i in range(n):\n",
    "                x[i] = k % 2\n",
    "                k >>= 1\n",
    "            return x\n",
    "        elif isinstance(state_vector, (OrderedDict, dict)):\n",
    "            # get the binary string with the largest count\n",
    "            binary_string = max(state_vector.items(), key=lambda kv: kv[1])[0]\n",
    "            x = np.asarray([int(y) for y in reversed(list(binary_string))])\n",
    "            return x\n",
    "        elif isinstance(state_vector, np.ndarray):\n",
    "            n = int(np.log2(state_vector.shape[0]))\n",
    "            k = np.argmax(np.abs(state_vector))\n",
    "            x = np.zeros(n)\n",
    "            for i in range(n):\n",
    "                x[i] = k % 2\n",
    "                k >>= 1\n",
    "            return x\n",
    "        else:\n",
    "            raise ValueError(\n",
    "                \"state vector should be QuasiDistribution, Statevector, ndarray, or dict. \"\n",
    "                f\"But it is {type(state_vector)}.\"\n",
    "            )"
   ],
   "id": "9f205ed14fdc39da",
   "outputs": [],
   "execution_count": 10
  },
  {
   "metadata": {},
   "cell_type": "markdown",
   "source": "## Checking the Full Hamiltonian gives the right cost",
   "id": "46966afdcbd9e84c"
  },
  {
   "metadata": {
    "ExecuteTime": {
     "end_time": "2024-09-21T05:58:58.094850Z",
     "start_time": "2024-09-21T05:58:58.086764Z"
    }
   },
   "cell_type": "code",
   "source": [
    "# Making the Hamiltonian in its full form and getting the lowest eigenvalue and eigenvector\n",
    "ee = NumPyMinimumEigensolver()\n",
    "result = ee.compute_minimum_eigenvalue(qubitOp)\n",
    "\n",
    "print(\"energy:\", result.eigenvalue.real)\n",
    "print(\"MST objective:\", result.eigenvalue.real + offset)\n",
    "x = sample_most_likely(result.eigenstate)\n",
    "print(\"feasible:\", qubo.is_feasible(x))\n"
   ],
   "id": "c8a72d92a1dac353",
   "outputs": [
    {
     "name": "stdout",
     "output_type": "stream",
     "text": [
      "energy: -53.5\n",
      "MST objective: 6.0\n",
      "feasible: True\n"
     ]
    }
   ],
   "execution_count": 11
  },
  {
   "metadata": {},
   "cell_type": "markdown",
   "source": "## 5. Create QAOA Circuit",
   "id": "cb30caeaf1a6edf4"
  },
  {
   "metadata": {
    "ExecuteTime": {
     "end_time": "2024-09-21T05:58:58.098102Z",
     "start_time": "2024-09-21T05:58:58.094850Z"
    }
   },
   "cell_type": "code",
   "source": [
    "from qiskit.circuit.library.n_local.qaoa_ansatz import QAOAAnsatz\n",
    "from qiskit.circuit import Parameter, ParameterVector\n",
    "\n",
    "def qaoa_circuit_conversion(qubo: QuadraticProgram, p: int = 1):\n",
    "    \"\"\"\n",
    "    Given a QUBO instance and the number of layers p, constructs the corresponding parameterized QAOA circuit with p layers.\n",
    "    Args:\n",
    "        qubo: The quadratic program instance\n",
    "        p: The number of layers in the QAOA circuit\n",
    "    Returns:\n",
    "        The parameterized QAOA circuit\n",
    "    \"\"\"\n",
    "    size = qubo.get_num_vars()\n",
    "    operator, value = qubo.to_ising()\n",
    "    \n",
    "    qaoa_circuit = QAOAAnsatz(cost_operator=operator, reps=p)\n",
    "    #parameters = [Parameter(f'γ_{i}') for i in range(p)] + [Parameter(f'β_{i}') for i in range(p)]\n",
    "    #qaoa_circuit.assign_parameters(parameters, inplace=True)\n",
    "    \n",
    "    return qaoa_circuit"
   ],
   "id": "5cffc637a48b76c0",
   "outputs": [],
   "execution_count": 12
  },
  {
   "metadata": {
    "ExecuteTime": {
     "end_time": "2024-09-21T05:58:58.630469Z",
     "start_time": "2024-09-21T05:58:58.098102Z"
    }
   },
   "cell_type": "code",
   "source": [
    "circuit = qaoa_circuit_conversion(qubo, p=3)\n",
    "circuit.draw(output=\"mpl\", idle_wires=False, style=\"iqp\")"
   ],
   "id": "b7da0ede8e39c056",
   "outputs": [
    {
     "data": {
      "text/plain": [
       "<Figure size 371.107x618.722 with 1 Axes>"
      ],
      "image/png": "[encoded data removed]"
     },
     "execution_count": 13,
     "metadata": {},
     "output_type": "execute_result"
    }
   ],
   "execution_count": 13
  },
  {
   "metadata": {},
   "cell_type": "markdown",
   "source": "## 6. Hardware Execution",
   "id": "96e5e401f1ef8791"
  },
  {
   "metadata": {
    "ExecuteTime": {
     "end_time": "2024-09-21T05:59:07.957667Z",
     "start_time": "2024-09-21T05:58:58.630469Z"
    }
   },
   "cell_type": "code",
   "source": [
    "from qiskit_ibm_runtime import QiskitRuntimeService, Session\n",
    "from qiskit_ibm_runtime import EstimatorV2 as Estimator\n",
    "from qiskit_ibm_runtime import SamplerV2 as Sampler\n",
    "from qiskit.transpiler.preset_passmanagers import generate_preset_pass_manager\n",
    "from qiskit_aer import AerSimulator\n",
    "\n",
    "service = QiskitRuntimeService(channel=\"ibm_quantum\")\n",
    "\n",
    "# To execute in real hardware, set this variable to true!\n",
    "RUN_MODE = False\n",
    "\n",
    "if RUN_MODE:\n",
    "    # To run on hardware, select the backend with the fewest number of jobs in the queue\n",
    "    backend = service.least_busy(operational=True, simulator=False)\n",
    "else:\n",
    "    real_backend = service.backend(\"ibm_brisbane\")\n",
    "    backend = AerSimulator.from_backend(real_backend)\n",
    "\n",
    "pm = generate_preset_pass_manager(backend=backend, optimization_level=3)"
   ],
   "id": "eb2eda9d4390f601",
   "outputs": [
    {
     "ename": "KeyboardInterrupt",
     "evalue": "",
     "output_type": "error",
     "traceback": [
      "\u001B[1;31m---------------------------------------------------------------------------\u001B[0m",
      "\u001B[1;31mKeyboardInterrupt\u001B[0m                         Traceback (most recent call last)",
      "Cell \u001B[1;32mIn[14], line 16\u001B[0m\n\u001B[0;32m     14\u001B[0m     backend \u001B[38;5;241m=\u001B[39m service\u001B[38;5;241m.\u001B[39mleast_busy(operational\u001B[38;5;241m=\u001B[39m\u001B[38;5;28;01mTrue\u001B[39;00m, simulator\u001B[38;5;241m=\u001B[39m\u001B[38;5;28;01mFalse\u001B[39;00m)\n\u001B[0;32m     15\u001B[0m \u001B[38;5;28;01melse\u001B[39;00m:\n\u001B[1;32m---> 16\u001B[0m     real_backend \u001B[38;5;241m=\u001B[39m \u001B[43mservice\u001B[49m\u001B[38;5;241;43m.\u001B[39;49m\u001B[43mbackend\u001B[49m\u001B[43m(\u001B[49m\u001B[38;5;124;43m\"\u001B[39;49m\u001B[38;5;124;43mibm_brisbane\u001B[39;49m\u001B[38;5;124;43m\"\u001B[39;49m\u001B[43m)\u001B[49m\n\u001B[0;32m     17\u001B[0m     backend \u001B[38;5;241m=\u001B[39m AerSimulator\u001B[38;5;241m.\u001B[39mfrom_backend(real_backend)\n\u001B[0;32m     19\u001B[0m pm \u001B[38;5;241m=\u001B[39m generate_preset_pass_manager(backend\u001B[38;5;241m=\u001B[39mbackend, optimization_level\u001B[38;5;241m=\u001B[39m\u001B[38;5;241m3\u001B[39m)\n",
      "File \u001B[1;32m~\\PycharmProjects\\qiskitTesting\\.venv\\Lib\\site-packages\\qiskit_ibm_runtime\\qiskit_runtime_service.py:778\u001B[0m, in \u001B[0;36mQiskitRuntimeService.backend\u001B[1;34m(self, name, instance)\u001B[0m\n\u001B[0;32m    762\u001B[0m \u001B[38;5;250m\u001B[39m\u001B[38;5;124;03m\"\"\"Return a single backend matching the specified filtering.\u001B[39;00m\n\u001B[0;32m    763\u001B[0m \n\u001B[0;32m    764\u001B[0m \u001B[38;5;124;03mArgs:\u001B[39;00m\n\u001B[1;32m   (...)\u001B[0m\n\u001B[0;32m    775\u001B[0m \u001B[38;5;124;03m    QiskitBackendNotFoundError: if no backend could be found.\u001B[39;00m\n\u001B[0;32m    776\u001B[0m \u001B[38;5;124;03m\"\"\"\u001B[39;00m\n\u001B[0;32m    777\u001B[0m \u001B[38;5;66;03m# pylint: disable=arguments-differ, line-too-long\u001B[39;00m\n\u001B[1;32m--> 778\u001B[0m backends \u001B[38;5;241m=\u001B[39m \u001B[38;5;28;43mself\u001B[39;49m\u001B[38;5;241;43m.\u001B[39;49m\u001B[43mbackends\u001B[49m\u001B[43m(\u001B[49m\u001B[43mname\u001B[49m\u001B[43m,\u001B[49m\u001B[43m \u001B[49m\u001B[43minstance\u001B[49m\u001B[38;5;241;43m=\u001B[39;49m\u001B[43minstance\u001B[49m\u001B[43m)\u001B[49m\n\u001B[0;32m    779\u001B[0m \u001B[38;5;28;01mif\u001B[39;00m \u001B[38;5;129;01mnot\u001B[39;00m backends:\n\u001B[0;32m    780\u001B[0m     cloud_msg_url \u001B[38;5;241m=\u001B[39m \u001B[38;5;124m\"\u001B[39m\u001B[38;5;124m\"\u001B[39m\n",
      "File \u001B[1;32m~\\PycharmProjects\\qiskitTesting\\.venv\\Lib\\site-packages\\qiskit_ibm_runtime\\qiskit_runtime_service.py:540\u001B[0m, in \u001B[0;36mQiskitRuntimeService.backends\u001B[1;34m(self, name, min_num_qubits, instance, dynamic_circuits, filters, **kwargs)\u001B[0m\n\u001B[0;32m    538\u001B[0m     \u001B[38;5;28;01mraise\u001B[39;00m QiskitBackendNotFoundError(\u001B[38;5;124m\"\u001B[39m\u001B[38;5;124mNo backend matches the criteria.\u001B[39m\u001B[38;5;124m\"\u001B[39m)\n\u001B[0;32m    539\u001B[0m \u001B[38;5;28;01mif\u001B[39;00m \u001B[38;5;129;01mnot\u001B[39;00m \u001B[38;5;28mself\u001B[39m\u001B[38;5;241m.\u001B[39m_backends[name] \u001B[38;5;129;01mor\u001B[39;00m instance_filter \u001B[38;5;241m!=\u001B[39m \u001B[38;5;28mself\u001B[39m\u001B[38;5;241m.\u001B[39m_backends[name]\u001B[38;5;241m.\u001B[39m_instance:\n\u001B[1;32m--> 540\u001B[0m     \u001B[38;5;28;43mself\u001B[39;49m\u001B[38;5;241;43m.\u001B[39;49m\u001B[43m_set_backend_config\u001B[49m\u001B[43m(\u001B[49m\u001B[43mname\u001B[49m\u001B[43m)\u001B[49m\n\u001B[0;32m    541\u001B[0m     \u001B[38;5;28mself\u001B[39m\u001B[38;5;241m.\u001B[39m_backends[name] \u001B[38;5;241m=\u001B[39m \u001B[38;5;28mself\u001B[39m\u001B[38;5;241m.\u001B[39m_create_backend_obj(\n\u001B[0;32m    542\u001B[0m         \u001B[38;5;28mself\u001B[39m\u001B[38;5;241m.\u001B[39m_backend_configs[name],\n\u001B[0;32m    543\u001B[0m         instance_filter,\n\u001B[0;32m    544\u001B[0m     )\n\u001B[0;32m    545\u001B[0m \u001B[38;5;28;01mif\u001B[39;00m \u001B[38;5;28mself\u001B[39m\u001B[38;5;241m.\u001B[39m_backends[name]:\n",
      "File \u001B[1;32m~\\PycharmProjects\\qiskitTesting\\.venv\\Lib\\site-packages\\qiskit_ibm_runtime\\qiskit_runtime_service.py:601\u001B[0m, in \u001B[0;36mQiskitRuntimeService._set_backend_config\u001B[1;34m(self, backend_name, instance)\u001B[0m\n\u001B[0;32m    595\u001B[0m \u001B[38;5;250m\u001B[39m\u001B[38;5;124;03m\"\"\"Retrieve backend configuration and add to backend_configs.\u001B[39;00m\n\u001B[0;32m    596\u001B[0m \u001B[38;5;124;03mArgs:\u001B[39;00m\n\u001B[0;32m    597\u001B[0m \u001B[38;5;124;03m    backend_name: backend name that will be returned.\u001B[39;00m\n\u001B[0;32m    598\u001B[0m \u001B[38;5;124;03m    instance: the current h/g/p.\u001B[39;00m\n\u001B[0;32m    599\u001B[0m \u001B[38;5;124;03m\"\"\"\u001B[39;00m\n\u001B[0;32m    600\u001B[0m \u001B[38;5;28;01mif\u001B[39;00m backend_name \u001B[38;5;129;01mnot\u001B[39;00m \u001B[38;5;129;01min\u001B[39;00m \u001B[38;5;28mself\u001B[39m\u001B[38;5;241m.\u001B[39m_backend_configs:\n\u001B[1;32m--> 601\u001B[0m     raw_config \u001B[38;5;241m=\u001B[39m \u001B[38;5;28;43mself\u001B[39;49m\u001B[38;5;241;43m.\u001B[39;49m\u001B[43m_api_client\u001B[49m\u001B[38;5;241;43m.\u001B[39;49m\u001B[43mbackend_configuration\u001B[49m\u001B[43m(\u001B[49m\u001B[43mbackend_name\u001B[49m\u001B[43m)\u001B[49m\n\u001B[0;32m    602\u001B[0m     config \u001B[38;5;241m=\u001B[39m configuration_from_server_data(raw_config\u001B[38;5;241m=\u001B[39mraw_config, instance\u001B[38;5;241m=\u001B[39minstance)\n\u001B[0;32m    603\u001B[0m     \u001B[38;5;28mself\u001B[39m\u001B[38;5;241m.\u001B[39m_backend_configs[backend_name] \u001B[38;5;241m=\u001B[39m config\n",
      "File \u001B[1;32m~\\PycharmProjects\\qiskitTesting\\.venv\\Lib\\site-packages\\qiskit_ibm_runtime\\api\\clients\\runtime.py:304\u001B[0m, in \u001B[0;36mRuntimeClient.backend_configuration\u001B[1;34m(self, backend_name)\u001B[0m\n\u001B[0;32m    295\u001B[0m \u001B[38;5;28;01mdef\u001B[39;00m \u001B[38;5;21mbackend_configuration\u001B[39m(\u001B[38;5;28mself\u001B[39m, backend_name: \u001B[38;5;28mstr\u001B[39m) \u001B[38;5;241m-\u001B[39m\u001B[38;5;241m>\u001B[39m Dict[\u001B[38;5;28mstr\u001B[39m, Any]:\n\u001B[0;32m    296\u001B[0m \u001B[38;5;250m    \u001B[39m\u001B[38;5;124;03m\"\"\"Return the configuration of the IBM backend.\u001B[39;00m\n\u001B[0;32m    297\u001B[0m \n\u001B[0;32m    298\u001B[0m \u001B[38;5;124;03m    Args:\u001B[39;00m\n\u001B[1;32m   (...)\u001B[0m\n\u001B[0;32m    302\u001B[0m \u001B[38;5;124;03m        Backend configuration.\u001B[39;00m\n\u001B[0;32m    303\u001B[0m \u001B[38;5;124;03m    \"\"\"\u001B[39;00m\n\u001B[1;32m--> 304\u001B[0m     \u001B[38;5;28;01mreturn\u001B[39;00m \u001B[38;5;28;43mself\u001B[39;49m\u001B[38;5;241;43m.\u001B[39;49m\u001B[43m_api\u001B[49m\u001B[38;5;241;43m.\u001B[39;49m\u001B[43mbackend\u001B[49m\u001B[43m(\u001B[49m\u001B[43mbackend_name\u001B[49m\u001B[43m)\u001B[49m\u001B[38;5;241;43m.\u001B[39;49m\u001B[43mconfiguration\u001B[49m\u001B[43m(\u001B[49m\u001B[43m)\u001B[49m\n",
      "File \u001B[1;32m~\\PycharmProjects\\qiskitTesting\\.venv\\Lib\\site-packages\\qiskit_ibm_runtime\\api\\rest\\cloud_backend.py:50\u001B[0m, in \u001B[0;36mCloudBackend.configuration\u001B[1;34m(self)\u001B[0m\n\u001B[0;32m     44\u001B[0m \u001B[38;5;250m\u001B[39m\u001B[38;5;124;03m\"\"\"Return backend configuration.\u001B[39;00m\n\u001B[0;32m     45\u001B[0m \n\u001B[0;32m     46\u001B[0m \u001B[38;5;124;03mReturns:\u001B[39;00m\n\u001B[0;32m     47\u001B[0m \u001B[38;5;124;03m    JSON response of backend configuration.\u001B[39;00m\n\u001B[0;32m     48\u001B[0m \u001B[38;5;124;03m\"\"\"\u001B[39;00m\n\u001B[0;32m     49\u001B[0m url \u001B[38;5;241m=\u001B[39m \u001B[38;5;28mself\u001B[39m\u001B[38;5;241m.\u001B[39mget_url(\u001B[38;5;124m\"\u001B[39m\u001B[38;5;124mconfiguration\u001B[39m\u001B[38;5;124m\"\u001B[39m)\n\u001B[1;32m---> 50\u001B[0m \u001B[38;5;28;01mreturn\u001B[39;00m \u001B[38;5;28;43mself\u001B[39;49m\u001B[38;5;241;43m.\u001B[39;49m\u001B[43msession\u001B[49m\u001B[38;5;241;43m.\u001B[39;49m\u001B[43mget\u001B[49m\u001B[43m(\u001B[49m\u001B[43murl\u001B[49m\u001B[43m)\u001B[49m\u001B[38;5;241m.\u001B[39mjson()\n",
      "File \u001B[1;32m~\\PycharmProjects\\qiskitTesting\\.venv\\Lib\\site-packages\\requests\\sessions.py:602\u001B[0m, in \u001B[0;36mSession.get\u001B[1;34m(self, url, **kwargs)\u001B[0m\n\u001B[0;32m    594\u001B[0m \u001B[38;5;250m\u001B[39m\u001B[38;5;124mr\u001B[39m\u001B[38;5;124;03m\"\"\"Sends a GET request. Returns :class:`Response` object.\u001B[39;00m\n\u001B[0;32m    595\u001B[0m \n\u001B[0;32m    596\u001B[0m \u001B[38;5;124;03m:param url: URL for the new :class:`Request` object.\u001B[39;00m\n\u001B[0;32m    597\u001B[0m \u001B[38;5;124;03m:param \\*\\*kwargs: Optional arguments that ``request`` takes.\u001B[39;00m\n\u001B[0;32m    598\u001B[0m \u001B[38;5;124;03m:rtype: requests.Response\u001B[39;00m\n\u001B[0;32m    599\u001B[0m \u001B[38;5;124;03m\"\"\"\u001B[39;00m\n\u001B[0;32m    601\u001B[0m kwargs\u001B[38;5;241m.\u001B[39msetdefault(\u001B[38;5;124m\"\u001B[39m\u001B[38;5;124mallow_redirects\u001B[39m\u001B[38;5;124m\"\u001B[39m, \u001B[38;5;28;01mTrue\u001B[39;00m)\n\u001B[1;32m--> 602\u001B[0m \u001B[38;5;28;01mreturn\u001B[39;00m \u001B[38;5;28;43mself\u001B[39;49m\u001B[38;5;241;43m.\u001B[39;49m\u001B[43mrequest\u001B[49m\u001B[43m(\u001B[49m\u001B[38;5;124;43m\"\u001B[39;49m\u001B[38;5;124;43mGET\u001B[39;49m\u001B[38;5;124;43m\"\u001B[39;49m\u001B[43m,\u001B[49m\u001B[43m \u001B[49m\u001B[43murl\u001B[49m\u001B[43m,\u001B[49m\u001B[43m \u001B[49m\u001B[38;5;241;43m*\u001B[39;49m\u001B[38;5;241;43m*\u001B[39;49m\u001B[43mkwargs\u001B[49m\u001B[43m)\u001B[49m\n",
      "File \u001B[1;32m~\\PycharmProjects\\qiskitTesting\\.venv\\Lib\\site-packages\\qiskit_ibm_runtime\\api\\session.py:328\u001B[0m, in \u001B[0;36mRetrySession.request\u001B[1;34m(self, method, url, bare, **kwargs)\u001B[0m\n\u001B[0;32m    326\u001B[0m \u001B[38;5;28;01mtry\u001B[39;00m:\n\u001B[0;32m    327\u001B[0m     \u001B[38;5;28mself\u001B[39m\u001B[38;5;241m.\u001B[39m_log_request_info(final_url, method, kwargs)\n\u001B[1;32m--> 328\u001B[0m     response \u001B[38;5;241m=\u001B[39m \u001B[38;5;28;43msuper\u001B[39;49m\u001B[43m(\u001B[49m\u001B[43m)\u001B[49m\u001B[38;5;241;43m.\u001B[39;49m\u001B[43mrequest\u001B[49m\u001B[43m(\u001B[49m\u001B[43mmethod\u001B[49m\u001B[43m,\u001B[49m\u001B[43m \u001B[49m\u001B[43mfinal_url\u001B[49m\u001B[43m,\u001B[49m\u001B[43m \u001B[49m\u001B[43mheaders\u001B[49m\u001B[38;5;241;43m=\u001B[39;49m\u001B[43mheaders\u001B[49m\u001B[43m,\u001B[49m\u001B[43m \u001B[49m\u001B[38;5;241;43m*\u001B[39;49m\u001B[38;5;241;43m*\u001B[39;49m\u001B[43mkwargs\u001B[49m\u001B[43m)\u001B[49m\n\u001B[0;32m    329\u001B[0m     response\u001B[38;5;241m.\u001B[39mraise_for_status()\n\u001B[0;32m    330\u001B[0m \u001B[38;5;28;01mexcept\u001B[39;00m RequestException \u001B[38;5;28;01mas\u001B[39;00m ex:\n\u001B[0;32m    331\u001B[0m     \u001B[38;5;66;03m# Wrap the requests exceptions into a IBM Q custom one, for\u001B[39;00m\n\u001B[0;32m    332\u001B[0m     \u001B[38;5;66;03m# compatibility.\u001B[39;00m\n",
      "File \u001B[1;32m~\\PycharmProjects\\qiskitTesting\\.venv\\Lib\\site-packages\\requests\\sessions.py:589\u001B[0m, in \u001B[0;36mSession.request\u001B[1;34m(self, method, url, params, data, headers, cookies, files, auth, timeout, allow_redirects, proxies, hooks, stream, verify, cert, json)\u001B[0m\n\u001B[0;32m    584\u001B[0m send_kwargs \u001B[38;5;241m=\u001B[39m {\n\u001B[0;32m    585\u001B[0m     \u001B[38;5;124m\"\u001B[39m\u001B[38;5;124mtimeout\u001B[39m\u001B[38;5;124m\"\u001B[39m: timeout,\n\u001B[0;32m    586\u001B[0m     \u001B[38;5;124m\"\u001B[39m\u001B[38;5;124mallow_redirects\u001B[39m\u001B[38;5;124m\"\u001B[39m: allow_redirects,\n\u001B[0;32m    587\u001B[0m }\n\u001B[0;32m    588\u001B[0m send_kwargs\u001B[38;5;241m.\u001B[39mupdate(settings)\n\u001B[1;32m--> 589\u001B[0m resp \u001B[38;5;241m=\u001B[39m \u001B[38;5;28;43mself\u001B[39;49m\u001B[38;5;241;43m.\u001B[39;49m\u001B[43msend\u001B[49m\u001B[43m(\u001B[49m\u001B[43mprep\u001B[49m\u001B[43m,\u001B[49m\u001B[43m \u001B[49m\u001B[38;5;241;43m*\u001B[39;49m\u001B[38;5;241;43m*\u001B[39;49m\u001B[43msend_kwargs\u001B[49m\u001B[43m)\u001B[49m\n\u001B[0;32m    591\u001B[0m \u001B[38;5;28;01mreturn\u001B[39;00m resp\n",
      "File \u001B[1;32m~\\PycharmProjects\\qiskitTesting\\.venv\\Lib\\site-packages\\requests\\sessions.py:703\u001B[0m, in \u001B[0;36mSession.send\u001B[1;34m(self, request, **kwargs)\u001B[0m\n\u001B[0;32m    700\u001B[0m start \u001B[38;5;241m=\u001B[39m preferred_clock()\n\u001B[0;32m    702\u001B[0m \u001B[38;5;66;03m# Send the request\u001B[39;00m\n\u001B[1;32m--> 703\u001B[0m r \u001B[38;5;241m=\u001B[39m \u001B[43madapter\u001B[49m\u001B[38;5;241;43m.\u001B[39;49m\u001B[43msend\u001B[49m\u001B[43m(\u001B[49m\u001B[43mrequest\u001B[49m\u001B[43m,\u001B[49m\u001B[43m \u001B[49m\u001B[38;5;241;43m*\u001B[39;49m\u001B[38;5;241;43m*\u001B[39;49m\u001B[43mkwargs\u001B[49m\u001B[43m)\u001B[49m\n\u001B[0;32m    705\u001B[0m \u001B[38;5;66;03m# Total elapsed time of the request (approximately)\u001B[39;00m\n\u001B[0;32m    706\u001B[0m elapsed \u001B[38;5;241m=\u001B[39m preferred_clock() \u001B[38;5;241m-\u001B[39m start\n",
      "File \u001B[1;32m~\\PycharmProjects\\qiskitTesting\\.venv\\Lib\\site-packages\\requests\\adapters.py:486\u001B[0m, in \u001B[0;36mHTTPAdapter.send\u001B[1;34m(self, request, stream, timeout, verify, cert, proxies)\u001B[0m\n\u001B[0;32m    483\u001B[0m     timeout \u001B[38;5;241m=\u001B[39m TimeoutSauce(connect\u001B[38;5;241m=\u001B[39mtimeout, read\u001B[38;5;241m=\u001B[39mtimeout)\n\u001B[0;32m    485\u001B[0m \u001B[38;5;28;01mtry\u001B[39;00m:\n\u001B[1;32m--> 486\u001B[0m     resp \u001B[38;5;241m=\u001B[39m \u001B[43mconn\u001B[49m\u001B[38;5;241;43m.\u001B[39;49m\u001B[43murlopen\u001B[49m\u001B[43m(\u001B[49m\n\u001B[0;32m    487\u001B[0m \u001B[43m        \u001B[49m\u001B[43mmethod\u001B[49m\u001B[38;5;241;43m=\u001B[39;49m\u001B[43mrequest\u001B[49m\u001B[38;5;241;43m.\u001B[39;49m\u001B[43mmethod\u001B[49m\u001B[43m,\u001B[49m\n\u001B[0;32m    488\u001B[0m \u001B[43m        \u001B[49m\u001B[43murl\u001B[49m\u001B[38;5;241;43m=\u001B[39;49m\u001B[43murl\u001B[49m\u001B[43m,\u001B[49m\n\u001B[0;32m    489\u001B[0m \u001B[43m        \u001B[49m\u001B[43mbody\u001B[49m\u001B[38;5;241;43m=\u001B[39;49m\u001B[43mrequest\u001B[49m\u001B[38;5;241;43m.\u001B[39;49m\u001B[43mbody\u001B[49m\u001B[43m,\u001B[49m\n\u001B[0;32m    490\u001B[0m \u001B[43m        \u001B[49m\u001B[43mheaders\u001B[49m\u001B[38;5;241;43m=\u001B[39;49m\u001B[43mrequest\u001B[49m\u001B[38;5;241;43m.\u001B[39;49m\u001B[43mheaders\u001B[49m\u001B[43m,\u001B[49m\n\u001B[0;32m    491\u001B[0m \u001B[43m        \u001B[49m\u001B[43mredirect\u001B[49m\u001B[38;5;241;43m=\u001B[39;49m\u001B[38;5;28;43;01mFalse\u001B[39;49;00m\u001B[43m,\u001B[49m\n\u001B[0;32m    492\u001B[0m \u001B[43m        \u001B[49m\u001B[43massert_same_host\u001B[49m\u001B[38;5;241;43m=\u001B[39;49m\u001B[38;5;28;43;01mFalse\u001B[39;49;00m\u001B[43m,\u001B[49m\n\u001B[0;32m    493\u001B[0m \u001B[43m        \u001B[49m\u001B[43mpreload_content\u001B[49m\u001B[38;5;241;43m=\u001B[39;49m\u001B[38;5;28;43;01mFalse\u001B[39;49;00m\u001B[43m,\u001B[49m\n\u001B[0;32m    494\u001B[0m \u001B[43m        \u001B[49m\u001B[43mdecode_content\u001B[49m\u001B[38;5;241;43m=\u001B[39;49m\u001B[38;5;28;43;01mFalse\u001B[39;49;00m\u001B[43m,\u001B[49m\n\u001B[0;32m    495\u001B[0m \u001B[43m        \u001B[49m\u001B[43mretries\u001B[49m\u001B[38;5;241;43m=\u001B[39;49m\u001B[38;5;28;43mself\u001B[39;49m\u001B[38;5;241;43m.\u001B[39;49m\u001B[43mmax_retries\u001B[49m\u001B[43m,\u001B[49m\n\u001B[0;32m    496\u001B[0m \u001B[43m        \u001B[49m\u001B[43mtimeout\u001B[49m\u001B[38;5;241;43m=\u001B[39;49m\u001B[43mtimeout\u001B[49m\u001B[43m,\u001B[49m\n\u001B[0;32m    497\u001B[0m \u001B[43m        \u001B[49m\u001B[43mchunked\u001B[49m\u001B[38;5;241;43m=\u001B[39;49m\u001B[43mchunked\u001B[49m\u001B[43m,\u001B[49m\n\u001B[0;32m    498\u001B[0m \u001B[43m    \u001B[49m\u001B[43m)\u001B[49m\n\u001B[0;32m    500\u001B[0m \u001B[38;5;28;01mexcept\u001B[39;00m (ProtocolError, \u001B[38;5;167;01mOSError\u001B[39;00m) \u001B[38;5;28;01mas\u001B[39;00m err:\n\u001B[0;32m    501\u001B[0m     \u001B[38;5;28;01mraise\u001B[39;00m \u001B[38;5;167;01mConnectionError\u001B[39;00m(err, request\u001B[38;5;241m=\u001B[39mrequest)\n",
      "File \u001B[1;32m~\\PycharmProjects\\qiskitTesting\\.venv\\Lib\\site-packages\\urllib3\\connectionpool.py:793\u001B[0m, in \u001B[0;36mHTTPConnectionPool.urlopen\u001B[1;34m(self, method, url, body, headers, retries, redirect, assert_same_host, timeout, pool_timeout, release_conn, chunked, body_pos, preload_content, decode_content, **response_kw)\u001B[0m\n\u001B[0;32m    790\u001B[0m response_conn \u001B[38;5;241m=\u001B[39m conn \u001B[38;5;28;01mif\u001B[39;00m \u001B[38;5;129;01mnot\u001B[39;00m release_conn \u001B[38;5;28;01melse\u001B[39;00m \u001B[38;5;28;01mNone\u001B[39;00m\n\u001B[0;32m    792\u001B[0m \u001B[38;5;66;03m# Make the request on the HTTPConnection object\u001B[39;00m\n\u001B[1;32m--> 793\u001B[0m response \u001B[38;5;241m=\u001B[39m \u001B[38;5;28;43mself\u001B[39;49m\u001B[38;5;241;43m.\u001B[39;49m\u001B[43m_make_request\u001B[49m\u001B[43m(\u001B[49m\n\u001B[0;32m    794\u001B[0m \u001B[43m    \u001B[49m\u001B[43mconn\u001B[49m\u001B[43m,\u001B[49m\n\u001B[0;32m    795\u001B[0m \u001B[43m    \u001B[49m\u001B[43mmethod\u001B[49m\u001B[43m,\u001B[49m\n\u001B[0;32m    796\u001B[0m \u001B[43m    \u001B[49m\u001B[43murl\u001B[49m\u001B[43m,\u001B[49m\n\u001B[0;32m    797\u001B[0m \u001B[43m    \u001B[49m\u001B[43mtimeout\u001B[49m\u001B[38;5;241;43m=\u001B[39;49m\u001B[43mtimeout_obj\u001B[49m\u001B[43m,\u001B[49m\n\u001B[0;32m    798\u001B[0m \u001B[43m    \u001B[49m\u001B[43mbody\u001B[49m\u001B[38;5;241;43m=\u001B[39;49m\u001B[43mbody\u001B[49m\u001B[43m,\u001B[49m\n\u001B[0;32m    799\u001B[0m \u001B[43m    \u001B[49m\u001B[43mheaders\u001B[49m\u001B[38;5;241;43m=\u001B[39;49m\u001B[43mheaders\u001B[49m\u001B[43m,\u001B[49m\n\u001B[0;32m    800\u001B[0m \u001B[43m    \u001B[49m\u001B[43mchunked\u001B[49m\u001B[38;5;241;43m=\u001B[39;49m\u001B[43mchunked\u001B[49m\u001B[43m,\u001B[49m\n\u001B[0;32m    801\u001B[0m \u001B[43m    \u001B[49m\u001B[43mretries\u001B[49m\u001B[38;5;241;43m=\u001B[39;49m\u001B[43mretries\u001B[49m\u001B[43m,\u001B[49m\n\u001B[0;32m    802\u001B[0m \u001B[43m    \u001B[49m\u001B[43mresponse_conn\u001B[49m\u001B[38;5;241;43m=\u001B[39;49m\u001B[43mresponse_conn\u001B[49m\u001B[43m,\u001B[49m\n\u001B[0;32m    803\u001B[0m \u001B[43m    \u001B[49m\u001B[43mpreload_content\u001B[49m\u001B[38;5;241;43m=\u001B[39;49m\u001B[43mpreload_content\u001B[49m\u001B[43m,\u001B[49m\n\u001B[0;32m    804\u001B[0m \u001B[43m    \u001B[49m\u001B[43mdecode_content\u001B[49m\u001B[38;5;241;43m=\u001B[39;49m\u001B[43mdecode_content\u001B[49m\u001B[43m,\u001B[49m\n\u001B[0;32m    805\u001B[0m \u001B[43m    \u001B[49m\u001B[38;5;241;43m*\u001B[39;49m\u001B[38;5;241;43m*\u001B[39;49m\u001B[43mresponse_kw\u001B[49m\u001B[43m,\u001B[49m\n\u001B[0;32m    806\u001B[0m \u001B[43m\u001B[49m\u001B[43m)\u001B[49m\n\u001B[0;32m    808\u001B[0m \u001B[38;5;66;03m# Everything went great!\u001B[39;00m\n\u001B[0;32m    809\u001B[0m clean_exit \u001B[38;5;241m=\u001B[39m \u001B[38;5;28;01mTrue\u001B[39;00m\n",
      "File \u001B[1;32m~\\PycharmProjects\\qiskitTesting\\.venv\\Lib\\site-packages\\urllib3\\connectionpool.py:537\u001B[0m, in \u001B[0;36mHTTPConnectionPool._make_request\u001B[1;34m(self, conn, method, url, body, headers, retries, timeout, chunked, response_conn, preload_content, decode_content, enforce_content_length)\u001B[0m\n\u001B[0;32m    535\u001B[0m \u001B[38;5;66;03m# Receive the response from the server\u001B[39;00m\n\u001B[0;32m    536\u001B[0m \u001B[38;5;28;01mtry\u001B[39;00m:\n\u001B[1;32m--> 537\u001B[0m     response \u001B[38;5;241m=\u001B[39m \u001B[43mconn\u001B[49m\u001B[38;5;241;43m.\u001B[39;49m\u001B[43mgetresponse\u001B[49m\u001B[43m(\u001B[49m\u001B[43m)\u001B[49m\n\u001B[0;32m    538\u001B[0m \u001B[38;5;28;01mexcept\u001B[39;00m (BaseSSLError, \u001B[38;5;167;01mOSError\u001B[39;00m) \u001B[38;5;28;01mas\u001B[39;00m e:\n\u001B[0;32m    539\u001B[0m     \u001B[38;5;28mself\u001B[39m\u001B[38;5;241m.\u001B[39m_raise_timeout(err\u001B[38;5;241m=\u001B[39me, url\u001B[38;5;241m=\u001B[39murl, timeout_value\u001B[38;5;241m=\u001B[39mread_timeout)\n",
      "File \u001B[1;32m~\\PycharmProjects\\qiskitTesting\\.venv\\Lib\\site-packages\\urllib3\\connection.py:466\u001B[0m, in \u001B[0;36mHTTPConnection.getresponse\u001B[1;34m(self)\u001B[0m\n\u001B[0;32m    463\u001B[0m \u001B[38;5;28;01mfrom\u001B[39;00m \u001B[38;5;21;01m.\u001B[39;00m\u001B[38;5;21;01mresponse\u001B[39;00m \u001B[38;5;28;01mimport\u001B[39;00m HTTPResponse\n\u001B[0;32m    465\u001B[0m \u001B[38;5;66;03m# Get the response from http.client.HTTPConnection\u001B[39;00m\n\u001B[1;32m--> 466\u001B[0m httplib_response \u001B[38;5;241m=\u001B[39m \u001B[38;5;28;43msuper\u001B[39;49m\u001B[43m(\u001B[49m\u001B[43m)\u001B[49m\u001B[38;5;241;43m.\u001B[39;49m\u001B[43mgetresponse\u001B[49m\u001B[43m(\u001B[49m\u001B[43m)\u001B[49m\n\u001B[0;32m    468\u001B[0m \u001B[38;5;28;01mtry\u001B[39;00m:\n\u001B[0;32m    469\u001B[0m     assert_header_parsing(httplib_response\u001B[38;5;241m.\u001B[39mmsg)\n",
      "File \u001B[1;32mC:\\Program Files\\WindowsApps\\PythonSoftwareFoundation.Python.3.11_3.11.2544.0_x64__qbz5n2kfra8p0\\Lib\\http\\client.py:1395\u001B[0m, in \u001B[0;36mHTTPConnection.getresponse\u001B[1;34m(self)\u001B[0m\n\u001B[0;32m   1393\u001B[0m \u001B[38;5;28;01mtry\u001B[39;00m:\n\u001B[0;32m   1394\u001B[0m     \u001B[38;5;28;01mtry\u001B[39;00m:\n\u001B[1;32m-> 1395\u001B[0m         \u001B[43mresponse\u001B[49m\u001B[38;5;241;43m.\u001B[39;49m\u001B[43mbegin\u001B[49m\u001B[43m(\u001B[49m\u001B[43m)\u001B[49m\n\u001B[0;32m   1396\u001B[0m     \u001B[38;5;28;01mexcept\u001B[39;00m \u001B[38;5;167;01mConnectionError\u001B[39;00m:\n\u001B[0;32m   1397\u001B[0m         \u001B[38;5;28mself\u001B[39m\u001B[38;5;241m.\u001B[39mclose()\n",
      "File \u001B[1;32mC:\\Program Files\\WindowsApps\\PythonSoftwareFoundation.Python.3.11_3.11.2544.0_x64__qbz5n2kfra8p0\\Lib\\http\\client.py:325\u001B[0m, in \u001B[0;36mHTTPResponse.begin\u001B[1;34m(self)\u001B[0m\n\u001B[0;32m    323\u001B[0m \u001B[38;5;66;03m# read until we get a non-100 response\u001B[39;00m\n\u001B[0;32m    324\u001B[0m \u001B[38;5;28;01mwhile\u001B[39;00m \u001B[38;5;28;01mTrue\u001B[39;00m:\n\u001B[1;32m--> 325\u001B[0m     version, status, reason \u001B[38;5;241m=\u001B[39m \u001B[38;5;28;43mself\u001B[39;49m\u001B[38;5;241;43m.\u001B[39;49m\u001B[43m_read_status\u001B[49m\u001B[43m(\u001B[49m\u001B[43m)\u001B[49m\n\u001B[0;32m    326\u001B[0m     \u001B[38;5;28;01mif\u001B[39;00m status \u001B[38;5;241m!=\u001B[39m CONTINUE:\n\u001B[0;32m    327\u001B[0m         \u001B[38;5;28;01mbreak\u001B[39;00m\n",
      "File \u001B[1;32mC:\\Program Files\\WindowsApps\\PythonSoftwareFoundation.Python.3.11_3.11.2544.0_x64__qbz5n2kfra8p0\\Lib\\http\\client.py:286\u001B[0m, in \u001B[0;36mHTTPResponse._read_status\u001B[1;34m(self)\u001B[0m\n\u001B[0;32m    285\u001B[0m \u001B[38;5;28;01mdef\u001B[39;00m \u001B[38;5;21m_read_status\u001B[39m(\u001B[38;5;28mself\u001B[39m):\n\u001B[1;32m--> 286\u001B[0m     line \u001B[38;5;241m=\u001B[39m \u001B[38;5;28mstr\u001B[39m(\u001B[38;5;28;43mself\u001B[39;49m\u001B[38;5;241;43m.\u001B[39;49m\u001B[43mfp\u001B[49m\u001B[38;5;241;43m.\u001B[39;49m\u001B[43mreadline\u001B[49m\u001B[43m(\u001B[49m\u001B[43m_MAXLINE\u001B[49m\u001B[43m \u001B[49m\u001B[38;5;241;43m+\u001B[39;49m\u001B[43m \u001B[49m\u001B[38;5;241;43m1\u001B[39;49m\u001B[43m)\u001B[49m, \u001B[38;5;124m\"\u001B[39m\u001B[38;5;124miso-8859-1\u001B[39m\u001B[38;5;124m\"\u001B[39m)\n\u001B[0;32m    287\u001B[0m     \u001B[38;5;28;01mif\u001B[39;00m \u001B[38;5;28mlen\u001B[39m(line) \u001B[38;5;241m>\u001B[39m _MAXLINE:\n\u001B[0;32m    288\u001B[0m         \u001B[38;5;28;01mraise\u001B[39;00m LineTooLong(\u001B[38;5;124m\"\u001B[39m\u001B[38;5;124mstatus line\u001B[39m\u001B[38;5;124m\"\u001B[39m)\n",
      "File \u001B[1;32mC:\\Program Files\\WindowsApps\\PythonSoftwareFoundation.Python.3.11_3.11.2544.0_x64__qbz5n2kfra8p0\\Lib\\socket.py:706\u001B[0m, in \u001B[0;36mSocketIO.readinto\u001B[1;34m(self, b)\u001B[0m\n\u001B[0;32m    704\u001B[0m \u001B[38;5;28;01mwhile\u001B[39;00m \u001B[38;5;28;01mTrue\u001B[39;00m:\n\u001B[0;32m    705\u001B[0m     \u001B[38;5;28;01mtry\u001B[39;00m:\n\u001B[1;32m--> 706\u001B[0m         \u001B[38;5;28;01mreturn\u001B[39;00m \u001B[38;5;28;43mself\u001B[39;49m\u001B[38;5;241;43m.\u001B[39;49m\u001B[43m_sock\u001B[49m\u001B[38;5;241;43m.\u001B[39;49m\u001B[43mrecv_into\u001B[49m\u001B[43m(\u001B[49m\u001B[43mb\u001B[49m\u001B[43m)\u001B[49m\n\u001B[0;32m    707\u001B[0m     \u001B[38;5;28;01mexcept\u001B[39;00m timeout:\n\u001B[0;32m    708\u001B[0m         \u001B[38;5;28mself\u001B[39m\u001B[38;5;241m.\u001B[39m_timeout_occurred \u001B[38;5;241m=\u001B[39m \u001B[38;5;28;01mTrue\u001B[39;00m\n",
      "File \u001B[1;32mC:\\Program Files\\WindowsApps\\PythonSoftwareFoundation.Python.3.11_3.11.2544.0_x64__qbz5n2kfra8p0\\Lib\\ssl.py:1314\u001B[0m, in \u001B[0;36mSSLSocket.recv_into\u001B[1;34m(self, buffer, nbytes, flags)\u001B[0m\n\u001B[0;32m   1310\u001B[0m     \u001B[38;5;28;01mif\u001B[39;00m flags \u001B[38;5;241m!=\u001B[39m \u001B[38;5;241m0\u001B[39m:\n\u001B[0;32m   1311\u001B[0m         \u001B[38;5;28;01mraise\u001B[39;00m \u001B[38;5;167;01mValueError\u001B[39;00m(\n\u001B[0;32m   1312\u001B[0m           \u001B[38;5;124m\"\u001B[39m\u001B[38;5;124mnon-zero flags not allowed in calls to recv_into() on \u001B[39m\u001B[38;5;132;01m%s\u001B[39;00m\u001B[38;5;124m\"\u001B[39m \u001B[38;5;241m%\u001B[39m\n\u001B[0;32m   1313\u001B[0m           \u001B[38;5;28mself\u001B[39m\u001B[38;5;241m.\u001B[39m\u001B[38;5;18m__class__\u001B[39m)\n\u001B[1;32m-> 1314\u001B[0m     \u001B[38;5;28;01mreturn\u001B[39;00m \u001B[38;5;28;43mself\u001B[39;49m\u001B[38;5;241;43m.\u001B[39;49m\u001B[43mread\u001B[49m\u001B[43m(\u001B[49m\u001B[43mnbytes\u001B[49m\u001B[43m,\u001B[49m\u001B[43m \u001B[49m\u001B[43mbuffer\u001B[49m\u001B[43m)\u001B[49m\n\u001B[0;32m   1315\u001B[0m \u001B[38;5;28;01melse\u001B[39;00m:\n\u001B[0;32m   1316\u001B[0m     \u001B[38;5;28;01mreturn\u001B[39;00m \u001B[38;5;28msuper\u001B[39m()\u001B[38;5;241m.\u001B[39mrecv_into(buffer, nbytes, flags)\n",
      "File \u001B[1;32mC:\\Program Files\\WindowsApps\\PythonSoftwareFoundation.Python.3.11_3.11.2544.0_x64__qbz5n2kfra8p0\\Lib\\ssl.py:1166\u001B[0m, in \u001B[0;36mSSLSocket.read\u001B[1;34m(self, len, buffer)\u001B[0m\n\u001B[0;32m   1164\u001B[0m \u001B[38;5;28;01mtry\u001B[39;00m:\n\u001B[0;32m   1165\u001B[0m     \u001B[38;5;28;01mif\u001B[39;00m buffer \u001B[38;5;129;01mis\u001B[39;00m \u001B[38;5;129;01mnot\u001B[39;00m \u001B[38;5;28;01mNone\u001B[39;00m:\n\u001B[1;32m-> 1166\u001B[0m         \u001B[38;5;28;01mreturn\u001B[39;00m \u001B[38;5;28;43mself\u001B[39;49m\u001B[38;5;241;43m.\u001B[39;49m\u001B[43m_sslobj\u001B[49m\u001B[38;5;241;43m.\u001B[39;49m\u001B[43mread\u001B[49m\u001B[43m(\u001B[49m\u001B[38;5;28;43mlen\u001B[39;49m\u001B[43m,\u001B[49m\u001B[43m \u001B[49m\u001B[43mbuffer\u001B[49m\u001B[43m)\u001B[49m\n\u001B[0;32m   1167\u001B[0m     \u001B[38;5;28;01melse\u001B[39;00m:\n\u001B[0;32m   1168\u001B[0m         \u001B[38;5;28;01mreturn\u001B[39;00m \u001B[38;5;28mself\u001B[39m\u001B[38;5;241m.\u001B[39m_sslobj\u001B[38;5;241m.\u001B[39mread(\u001B[38;5;28mlen\u001B[39m)\n",
      "\u001B[1;31mKeyboardInterrupt\u001B[0m: "
     ]
    }
   ],
   "execution_count": 14
  },
  {
   "metadata": {},
   "cell_type": "code",
   "source": [
    "# Executing Qiskit Primitives\n",
    "session = Session(backend=backend)\n",
    "\n",
    "# Configure estimator\n",
    "estimator = Estimator(session=session)\n",
    "estimator.options.default_shots = 10_000\n",
    "estimator.options.dynamical_decoupling.enable = True\n",
    "\n",
    "# Configure sampler\n",
    "sampler = Sampler(session=session)\n",
    "sampler.options.default_shots = 10_000\n",
    "sampler.options.dynamical_decoupling.enable = True"
   ],
   "id": "44c84e076fa5be96",
   "outputs": [],
   "execution_count": null
  },
  {
   "metadata": {},
   "cell_type": "markdown",
   "source": "### 6.1 Circuit Transpile",
   "id": "bf45d276a7d0dc2e"
  },
  {
   "metadata": {},
   "cell_type": "code",
   "source": [
    "# Ansatz Optimization\n",
    "ansatz_isa = pm.run(circuit)\n",
    "#ansatz_isa.draw(output=\"mpl\", idle_wires=False, style=\"iqp\")\n",
    "\n",
    "# ISA Observables\n",
    "hamiltonian, _ = qubo.to_ising()\n",
    "hamiltonian_isa = hamiltonian.apply_layout(ansatz_isa.layout)\n",
    "print(hamiltonian_isa)"
   ],
   "id": "17a8b9b1dd3deac5",
   "outputs": [],
   "execution_count": null
  },
  {
   "metadata": {},
   "cell_type": "code",
   "source": "ansatz_isa.draw('mpl', style=\"iqp\")\n",
   "id": "a4b6ebc0d701f5cc",
   "outputs": [],
   "execution_count": null
  },
  {
   "metadata": {},
   "cell_type": "markdown",
   "source": [
    "\n",
    "### 6.2 Estimating on Hardware"
   ],
   "id": "8102aaf9fe52aa09"
  },
  {
   "metadata": {},
   "cell_type": "code",
   "source": [
    "def cost_func(params, ansatz, hamiltonian, estimator):\n",
    "    \"\"\"Return estimate of energy from estimator\n",
    "\n",
    "    Parameters:\n",
    "        params (ndarray): Array of ansatz parameters\n",
    "        ansatz (QuantumCircuit): Parameterized ansatz circuit\n",
    "        hamiltonian (SparsePauliOp): Operator representation of Hamiltonian\n",
    "        estimator (EstimatorV2): Estimator primitive instance\n",
    "\n",
    "    Returns:\n",
    "        float: Energy estimate\n",
    "    \"\"\"\n",
    "    pub = (ansatz, [hamiltonian], [params])\n",
    "    result = estimator.run(pubs=[pub]).result()\n",
    "    cost = result[0].data.evs[0]\n",
    "\n",
    "    return cost"
   ],
   "id": "deb26383e1df5eb0",
   "outputs": [],
   "execution_count": null
  },
  {
   "metadata": {},
   "cell_type": "code",
   "source": [
    "def build_callback(ansatz, hamiltonian, estimator, callback_dict):\n",
    "    \"\"\"Return callback function that uses Estimator instance,\n",
    "    and stores intermediate values into a dictionary.\n",
    "\n",
    "    Parameters:\n",
    "        ansatz (QuantumCircuit): Parameterized ansatz circuit\n",
    "        hamiltonian (SparsePauliOp): Operator representation of Hamiltonian\n",
    "        estimator (EstimatorV2): Estimator primitive instance\n",
    "        callback_dict (dict): Mutable dict for storing values\n",
    "\n",
    "    Returns:\n",
    "        Callable: Callback function object\n",
    "    \"\"\"\n",
    "\n",
    "    def callback(current_vector):\n",
    "        \"\"\"Callback function storing previous solution vector,\n",
    "        computing the intermediate cost value, and displaying number\n",
    "        of completed iterations and average time per iteration.\n",
    "\n",
    "        Values are stored in pre-defined 'callback_dict' dictionary.\n",
    "\n",
    "        Parameters:\n",
    "            current_vector (ndarray): Current vector of parameters\n",
    "                                      returned by optimizer\n",
    "        \"\"\"\n",
    "        # Keep track of the number of iterations\n",
    "        callback_dict[\"iters\"] += 1\n",
    "        # Set the prev_vector to the latest one\n",
    "        callback_dict[\"prev_vector\"] = current_vector\n",
    "        # Compute the value of the cost function at the current vector\n",
    "        # This adds an additional function evaluation\n",
    "        pub = (ansatz, [hamiltonian], [current_vector])\n",
    "        result = estimator.run(pubs=[pub]).result()\n",
    "        current_cost = result[0].data.evs[0]\n",
    "        callback_dict[\"cost_history\"].append(current_cost)\n",
    "        # Print to screen on single line\n",
    "        print(\n",
    "            \"Iters. done: {} [Current cost: {}]\".format(callback_dict[\"iters\"], current_cost),\n",
    "            end=\"\\r\",\n",
    "            flush=True,\n",
    "        )\n",
    "\n",
    "    return callback\n",
    "\n",
    "callback_dict = {\n",
    "    \"prev_vector\": None,\n",
    "    \"iters\": 0,\n",
    "    \"cost_history\": [],\n",
    "}"
   ],
   "id": "806c42b907e58059",
   "outputs": [],
   "execution_count": null
  },
  {
   "metadata": {},
   "cell_type": "code",
   "source": [
    "# SciPy minimizer routine\n",
    "from scipy.optimize import minimize\n",
    "\n",
    "# Initial Parameters\n",
    "x0 = 2 * np.pi * np.random.rand(ansatz_isa.num_parameters)\n",
    "\n",
    "with Session(backend=backend) as session:\n",
    "    estimator = Estimator(session=session)\n",
    "    estimator.options.default_shots = 10000\n",
    "\n",
    "    callback = build_callback(ansatz_isa, hamiltonian_isa, estimator, callback_dict)\n",
    "\n",
    "    res = minimize(\n",
    "        cost_func,\n",
    "        x0,\n",
    "        args=(ansatz_isa, hamiltonian_isa, estimator),\n",
    "        method=\"COBYLA\",\n",
    "        callback=callback\n",
    "    )\n",
    "    print(res)\n",
    "\n",
    "print(res.values())"
   ],
   "id": "b31f877091742ce5",
   "outputs": [],
   "execution_count": null
  },
  {
   "metadata": {},
   "cell_type": "markdown",
   "source": "### 6.3 Sampling on Hardware",
   "id": "dedb3596a0ad9e3d"
  },
  {
   "metadata": {},
   "cell_type": "code",
   "source": [
    "from qiskit.visualization import plot_distribution\n",
    "\n",
    "# Assign solution parameters to ansatz\n",
    "qc = circuit.assign_parameters(res.x)  \n",
    "# Add measurements to our circuit\n",
    "qc.measure_all()\n",
    "qc_isa = pm.run(qc)\n",
    "qc_isa.draw(output=\"mpl\", idle_wires=False, style=\"iqp\")\n",
    " \n",
    "result = sampler.run([qc_isa]).result()\n",
    "samp_dist = result[0].data.meas.get_counts()\n",
    "# Close the session since we are now done with it\n",
    "session.close()\n",
    "\n",
    "plot_distribution(samp_dist, figsize=(30, 5))"
   ],
   "id": "561b171c09f45a6c",
   "outputs": [],
   "execution_count": null
  },
  {
   "metadata": {},
   "cell_type": "markdown",
   "source": "## 7. Post-Processing",
   "id": "345bc163de530360"
  },
  {
   "metadata": {},
   "cell_type": "code",
   "source": [
    "def bitstring_to_edges(bitstring: str, G: Graph) -> list:\n",
    "    \"\"\"\n",
    "    Translate a bitstring back to the selected edges in the graph.\n",
    "    \n",
    "    Args:\n",
    "        bitstring (str): A bitstring representing the solution.\n",
    "        G (Graph): The original graph.\n",
    "    \n",
    "    Returns:\n",
    "        list: A list of edges (tuples) that are selected.\n",
    "    \"\"\"\n",
    "    selected_edges = []\n",
    "    edge_list = list(G.edges())\n",
    "    \n",
    "    # Iterate through the bitstring and the edges\n",
    "    for bit, edge in zip(bitstring, edge_list):\n",
    "        if bit == '1':\n",
    "            selected_edges.append(edge)\n",
    "    \n",
    "    return selected_edges"
   ],
   "id": "ed5c3d83751b224c",
   "outputs": [],
   "execution_count": null
  },
  {
   "metadata": {},
   "cell_type": "code",
   "source": [
    "def cost_from_bistring(bitstring: str, qubo: QuadraticProgram) -> float:\n",
    "    \"\"\"\n",
    "    Calculate the cost value of a bitstring for a given QUBO instance.\n",
    "\n",
    "    Args:\n",
    "        bitstring (str): A bitstring representing the solution.\n",
    "        qubo (QuadraticProgram): A QUBO instance.\n",
    "\n",
    "    Returns:\n",
    "        float: The cost value of the bitstring.\n",
    "    \"\"\"\n",
    "    \n",
    "    # Convert bitstring to a numpy array of integers\n",
    "    x = np.array([int(bit) for bit in bitstring])\n",
    "    \n",
    "    # Initialize cost\n",
    "    cost = 0.0\n",
    "\n",
    "    # Calculate linear term contribution\n",
    "    for i, var in enumerate(qubo.objective.linear.to_dict()):\n",
    "        cost += qubo.objective.linear[i] * x[i]\n",
    "\n",
    "    # Calculate quadratic term contribution\n",
    "    for (i, j), coeff in qubo.objective.quadratic.to_dict().items():\n",
    "        cost += coeff * x[i] * x[j]\n",
    "\n",
    "    return cost"
   ],
   "id": "a18e8acdf8cad2e9",
   "outputs": [],
   "execution_count": null
  },
  {
   "metadata": {},
   "cell_type": "code",
   "source": [
    "def calculate_cost_from_edges(selected_edges, qp):\n",
    "    total_cost = 0.0\n",
    "    \n",
    "    cost_function = str(qp.objective)\n",
    "    for edge in selected_edges:\n",
    "        # Check if the edge exists in the quadratic program's objective function\n",
    "        var = \"x_\"+ str(edge[0]) + \"_\" + str(edge[1])\n",
    "        cost_function = cost_function.replace(var, \"1\")\n",
    "    function_split = cost_function.split(\" \")\n",
    "    function_clean = []\n",
    "    for term in function_split:\n",
    "        if \"m\" not in term:\n",
    "            if \"x\" not in term:\n",
    "                function_clean.append(term)\n",
    "            else:\n",
    "                function_clean.append(\"0\")\n",
    "    function_string = \"\".join(function_clean)\n",
    "    cost = eval(function_string)\n",
    "    return cost"
   ],
   "id": "b1c870cce61436c9",
   "outputs": [],
   "execution_count": null
  },
  {
   "metadata": {},
   "cell_type": "code",
   "source": [
    "def plot_samples(samples):\n",
    "    \"\"\"\n",
    "    Plots a bar diagram for the samples of a quantum algorithm\n",
    "    Args:\n",
    "        samples\n",
    "    \"\"\"\n",
    "    #Sort samples by probability\n",
    "    samples = sorted(samples.items(), key=lambda kv: kv[1])\n",
    "    \n",
    "    # Reinterpret the bitstrings back to the original layout\n",
    "    bitstrings = []\n",
    "    for sample in samples:\n",
    "        vars = []\n",
    "        # Invert the bitstring because the results are inverted!\n",
    "        for char in sample[0][::-1]:\n",
    "            vars.append(int(char))\n",
    "        bitstrings.append(\"\".join(map(str, map(int, qp2qubo.interpret(vars).tolist()))))\n",
    "    \n",
    "    #Get list of probabilities, function values and bitstrings\n",
    "    probabilities = [sample[1] for sample in samples]\n",
    "    \n",
    "    # Interpret the bitstrings back to the original shape\n",
    "    values = [calculate_cost_from_edges(bitstring_to_edges(bitstring, graph), qp) for bitstring in bitstrings]\n",
    "    alt_values = [value if graph.number_of_nodes() - 1 != len(bitstring_to_edges(bitstrings[idx], graph)) else -1 for idx, value in enumerate(values)]\n",
    "    \n",
    "    # Group bitstrings\n",
    "    unique_bitstrings = []\n",
    "    total_probs = []\n",
    "    unique_values = []\n",
    "    unique_alt_values = []\n",
    "    for index, bit_string in enumerate(bitstrings): \n",
    "        if bit_string not in unique_bitstrings: \n",
    "            unique_bitstrings.append(bit_string)\n",
    "            unique_values.append(values[index])\n",
    "            unique_alt_values.append(alt_values[index])\n",
    "            total_probs.append(0)\n",
    "        total_probs[unique_bitstrings.index(bit_string)] += probabilities[index]\n",
    "    \n",
    "    #Plot bar diagram for frequency\n",
    "    sample_plot = go.Bar(x = unique_bitstrings, y = total_probs, marker=dict(color=unique_alt_values, colorscale = 'plasma',colorbar=dict(title='Interpreted Function Value')))\n",
    "    fig = go.Figure(\n",
    "        data=sample_plot, \n",
    "        layout = dict(\n",
    "            xaxis=dict(\n",
    "                type = 'category'\n",
    "            )\n",
    "        )\n",
    "    )\n",
    "    fig.update_layout(barmode='stack', xaxis={'categoryorder':'total ascending'})\n",
    "    fig.show()\n",
    "        \n",
    "    #print (unique_bitstrings, total_probs, unique_values)\n",
    "    #Plot bar diagram for cost\n",
    "    sample_plot = go.Bar(x = unique_bitstrings, y = total_probs, marker=dict(color=unique_values, colorscale = 'solar',colorbar=dict(title='Penalized Function Value')))\n",
    "    fig = go.Figure(\n",
    "        data=sample_plot, \n",
    "        layout = dict(\n",
    "            xaxis=dict(\n",
    "                type = 'category'\n",
    "            )\n",
    "        )\n",
    "    )\n",
    "    fig.update_layout(barmode='stack', xaxis={'categoryorder':'total ascending'})\n",
    "    fig.show()"
   ],
   "id": "bba705b26749d11e",
   "outputs": [],
   "execution_count": null
  },
  {
   "metadata": {},
   "cell_type": "code",
   "source": [
    "plot_samples(samp_dist)\n",
    "#print(samp_dist)"
   ],
   "id": "286962eaa0ac8e48",
   "outputs": [],
   "execution_count": null
  },
  {
   "metadata": {},
   "cell_type": "code",
   "source": [
    "## Checking QUBO\n",
    "'''\n",
    "# Print linear coefficients\n",
    "print(\"Linear Coefficients:\")\n",
    "for i, coeff in enumerate(qubo.objective.linear.to_dict()):\n",
    "    print(f\"x_{i}: {coeff}\")\n",
    "\n",
    "# Print quadratic coefficients\n",
    "print(\"Quadratic Coefficients:\")\n",
    "for (i, j), coeff in qubo.objective.quadratic.to_dict().items():\n",
    "    print(f\"x_{i} * x_{j}: {coeff}\")\n",
    "\n",
    "# Print the offset if applicable\n",
    "if hasattr(qubo, 'offset'):\n",
    "    print(\"Offset:\", qubo.offset)\n",
    "'''"
   ],
   "id": "47d7129fa171505",
   "outputs": [],
   "execution_count": null
  },
  {
   "metadata": {},
   "cell_type": "code",
   "source": [
    "# Assuming samp_dist is a dictionary with bitstrings as keys and their counts as values\n",
    "samples = list(sorted(samp_dist.items(), key=lambda kv: kv[1]))\n",
    "\n",
    "samps = []\n",
    "for bitstring, count in samples:\n",
    "    vars = []\n",
    "    for char in bitstring:\n",
    "        vars.append(int(char))\n",
    "    bitstring = \"\".join(map(str, map(int, qp2qubo.interpret(vars).tolist())))\n",
    "    \n",
    "    cost = cost_from_bistring(bitstring, qubo)\n",
    "    samps.append([bitstring, count, cost])\n",
    "\n",
    "samps.sort(key=lambda kv: kv[0])  # Sort by cost\n",
    "\n",
    "for sample in samps:\n",
    "    bitstring, count, cost = sample\n",
    "    selected_edges = bitstring_to_edges(bitstring, graph)\n",
    "    print(f\"Cost: {cost}, from String: {bitstring}, with selected edges: {selected_edges}\")\n"
   ],
   "id": "fa8f03335847af86",
   "outputs": [],
   "execution_count": null
  },
  {
   "metadata": {},
   "cell_type": "code",
   "source": [
    "'''\n",
    "# Credentials Login\n",
    "from qiskit_ibm_runtime import QiskitRuntimeService\n",
    "\n",
    "gmail_token = 'ec8c90467f71da5bb79c7192307ad7e1adeb07cbffe3ffc4d9d3c9dfc61700ac672e478f753e611ba1dba599bcfce14ea118ab39e4a48793c9709f5706c0d85c'\n",
    "token = \"210b071a2d234c2363d69efbe21a792e4d11cbc52ac1e8c8caa4f2110fca3422dd63c308624c1df9956cfde32f5e3abc332b9a77b2a1283eada66cbc14c85f40\"\n",
    "QiskitRuntimeService.save_account(channel=\"ibm_quantum\", token=gmail_token)\n",
    "'''\n",
    "#session.close()"
   ],
   "id": "5889855855df325",
   "outputs": [],
   "execution_count": null
  },
  {
   "metadata": {},
   "cell_type": "code",
   "source": [
    "# Disable the current account\n",
    "''''\n",
    "\n",
    "import os\n",
    "\n",
    "# Disable the current account\n",
    "QiskitRuntimeService.delete_account()\n",
    "\n",
    "# Delete the local file storing the token\n",
    "config_path = os.path.expanduser(\"~/.qiskit/qiskit-ibm.json\")\n",
    "if os.path.exists(config_path):\n",
    "    os.remove(config_path)\n",
    "'''"
   ],
   "id": "720039edf0b689c",
   "outputs": [],
   "execution_count": null
  }
 ],
 "metadata": {
  "kernelspec": {
   "display_name": "Python 3",
   "language": "python",
   "name": "python3"
  },
  "language_info": {
   "codemirror_mode": {
    "name": "ipython",
    "version": 2
   },
   "file_extension": ".py",
   "mimetype": "text/x-python",
   "name": "python",
   "nbconvert_exporter": "python",
   "pygments_lexer": "ipython2",
   "version": "2.7.6"
  }
 },
 "nbformat": 4,
 "nbformat_minor": 5
}
