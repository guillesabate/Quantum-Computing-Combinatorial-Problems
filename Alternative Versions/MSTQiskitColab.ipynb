{
 "cells": [
  {
   "cell_type": "code",
   "id": "initial_id",
   "metadata": {
    "collapsed": true,
    "ExecuteTime": {
     "end_time": "2024-05-26T16:16:47.473337Z",
     "start_time": "2024-05-26T16:16:47.470695Z"
    }
   },
   "source": [
    "# Necessary Libraries for program execution\n",
    "\n",
    "import networkx as nx\n",
    "import numpy as np\n",
    "from qiskit_algorithms.utils import algorithm_globals\n",
    "from qiskit_optimization.algorithms import MinimumEigenOptimizer\n",
    "from qiskit_algorithms import SamplingVQE, NumPyMinimumEigensolver\n"
   ],
   "execution_count": 59,
   "outputs": []
  },
  {
   "metadata": {},
   "cell_type": "markdown",
   "source": "### Draw a Graph",
   "id": "70f673b6b1f22402"
  },
  {
   "metadata": {
    "ExecuteTime": {
     "end_time": "2024-05-26T17:23:30.444964Z",
     "start_time": "2024-05-26T17:23:30.439377Z"
    }
   },
   "cell_type": "code",
   "source": [
    "from networkx import Graph\n",
    "import matplotlib.pyplot as plt\n",
    "import matplotlib.colors as c\n",
    "\n",
    "def draw_graph(G, seed, result_variables: list = None):\n",
    "    # position is stored as node attribute data for random_geometric_graph\n",
    "    pos = nx.spring_layout(G, seed=seed)  # Seed for reproducible layout\n",
    "    flag = False\n",
    "    if result_variables is not None:\n",
    "        for var in result_variables:\n",
    "            split = var.split('_')\n",
    "            if len(split) > 2 and split[0] == 'x':\n",
    "                flag = True\n",
    "                i = 0\n",
    "                j = 0\n",
    "                try:\n",
    "                  i = int(split[1])\n",
    "                  j = int(split[2])\n",
    "                except ValueError:\n",
    "                  flag = False\n",
    "                if flag:\n",
    "                    if result_variables[var] != 0:\n",
    "                        G[i][j]['color'] = c.to_rgba('b', 1)\n",
    "                    else:\n",
    "                        G[i][j]['color'] = c.to_rgba('b', 0.3)\n",
    "    \n",
    "\n",
    "    labels = {}\n",
    "    for i in range(G.number_of_nodes()):\n",
    "        labels[i] = str(i)\n",
    "    nx.draw_networkx_nodes(G, pos, label=labels)\n",
    "    labels = nx.get_edge_attributes(G,'weight')\n",
    "    if flag:\n",
    "        colors = []\n",
    "        for edge in G.edges():\n",
    "            colors.append(G[edge[0]][edge[1]]['color'])\n",
    "        nx.draw_networkx_edges(G, pos, edgelist=labels, edge_color=colors, width=4)\n",
    "    else:\n",
    "        nx.draw_networkx_edges(G, pos, edgelist=labels, width=4)  \n",
    "    nx.draw_networkx_edge_labels(G,pos,edge_labels=labels)\n",
    "    nx.draw_networkx_labels(G, pos)\n",
    "    plt.show()\n"
   ],
   "id": "a2857353d51f934a",
   "execution_count": 115,
   "outputs": []
  },
  {
   "metadata": {},
   "cell_type": "markdown",
   "source": "### Create a Random Graph",
   "id": "8d2033c8f73d2c58"
  },
  {
   "metadata": {
    "ExecuteTime": {
     "end_time": "2024-05-26T17:23:33.154695Z",
     "start_time": "2024-05-26T17:23:33.151024Z"
    }
   },
   "cell_type": "code",
   "source": [
    "import random\n",
    "\n",
    "def create_random_instance(n: int, low: int = 0, high: int = 100, p: float = 1, seed: int = None) -> Graph:\n",
    "    \"\"\"Create a random instance of a Graph with n nodes and p probability of having weighted edges between nodes.\n",
    "\n",
    "    Args:\n",
    "        n: the number of nodes.\n",
    "        low: The minimum value for the coordinate of a node.\n",
    "        high: The maximum value for the coordinate of a node.\n",
    "        seed: the seed for the random values.\n",
    "        p: the probability that the node is visited.\n",
    "\n",
    "    Returns:\n",
    "         A Graph instance created from the input information\n",
    "    \"\"\"\n",
    "    if seed:\n",
    "        algorithm_globals.random_seed = seed\n",
    "        random.seed(seed)\n",
    "    #coord = algorithm_globals.random.uniform(low, high, (n, 2))\n",
    "    #pos = {i: (coord_[0], coord_[1]) for i, coord_ in enumerate(coord)}\n",
    "    gen_graph = nx.erdos_renyi_graph(n, p, seed=seed)\n",
    "    for i, j in gen_graph.edges:\n",
    "        gen_graph.edges[i, j][\"weight\"] = random.randint(low, high)\n",
    "    return gen_graph\n",
    "\n"
   ],
   "id": "87f0d7bd0e3f38e0",
   "execution_count": 116,
   "outputs": []
  },
  {
   "metadata": {},
   "cell_type": "markdown",
   "source": [
    "### Graph Parameters\n",
    "Configure the seed to obtain different results with similar parameters, or set it to None in case you want to create random graphs every time\n",
    "Change the parameter n to alter the number of nodes\n",
    "Set the parameter p to change the probability of generating an edge between nodes\n"
   ],
   "id": "bc812f1c663d15ef"
  },
  {
   "metadata": {
    "ExecuteTime": {
     "end_time": "2024-05-26T17:24:29.916517Z",
     "start_time": "2024-05-26T17:24:29.848975Z"
    }
   },
   "cell_type": "code",
   "source": [
    "seed = 123\n",
    "n = 4\n",
    "p=0.8\n",
    "graph = create_random_instance(n=n, low=1, high=10, p=p, seed=seed)\n",
    "\n",
    "draw_graph(graph, seed)\n",
    "'''\n",
    "for edge in graph.edges():\n",
    "    print(edge, graph[edge[0]][edge[1]]['weight'])\n",
    "'''"
   ],
   "id": "7f5279ecfef60cc7",
   "execution_count": 119,
   "outputs": []
  },
  {
   "metadata": {},
   "cell_type": "markdown",
   "source": [
    "# Quadratic Program conversion\n",
    "In this stage we will translate the MST problem to solve in Graph format to a Quadratic Program \n",
    "## Binary Variable Assignation\n",
    "Each edge is assigned a binary variable, however each edge is represented only once, so we need to decided in one direction (in this case from minimum node index to maximum node index).\n",
    "## Objective Function Definition\n",
    "The objective function needs to be defined as the linear cost function we are looking forward to minimize. In this case, we are taking the values of each of the edges and mapping their weights\n",
    "## Degree Constraint\n",
    "We set a constraint to make sure that the total number of edges that the MST cut contains is equal to the number of vertices in the graph minus one, ensuring that the spanning tree's edges cover all of the vertices. \n",
    "## Cycle Constraints\n",
    "The Miller-Tucker-Zemlin (MTZ) formulation is used to eliminate the close cycles that can form when looking for solutions, ensuring we have an acyclical valid spanning tree.\n",
    "We introduce a continuous variable u for each vertex v except for a fixed root vertex (commonly vertex 0). These variables help to order the vertices in such a way that any inclusion of an edge in the MST maintains a valid order., where u ranges from 0 to n - 1.\n",
    "\n",
    "The continuous variables u act like position indicators for vertices. They help in defining an order or hierarchy among vertices.\n",
    "The MTZ constraints ensure that if an edge is included in the MST, the order of vertices as indicated by the continuous variables will prevent cycles from forming. By ensuring that ui and uj maintain a consistent order whenever an edge (i,j) is selected, we ensure the acyclic nature of the resulting graph.\n",
    "\n",
    "However, with the help of binary indicators, we are able to circumvent this problem through thee usage of binary indicators that they are used."
   ],
   "id": "a5f85fa417d1fb40"
  },
  {
   "metadata": {
    "ExecuteTime": {
     "end_time": "2024-05-26T16:16:47.630007Z",
     "start_time": "2024-05-26T16:16:47.625610Z"
    }
   },
   "cell_type": "code",
   "source": [
    "from qiskit_optimization import QuadraticProgram\n",
    "from qiskit_optimization.translators import from_docplex_mp\n",
    "from docplex.mp.model import Model\n",
    "\n",
    "def mst_to_quadratic_program(G) -> QuadraticProgram:\n",
    "    \"\"\"Convert a MST graph problem instance into a\n",
    "    :class:`~qiskit_optimization.problems.QuadraticProgram`\n",
    "\n",
    "    Returns:\n",
    "        The :class:`~qiskit_optimization.problems.QuadraticProgram` created\n",
    "        from the MST graph problem instance.\n",
    "    \"\"\"\n",
    "    qp = QuadraticProgram()\n",
    "    \n",
    "    # Add binary variables for each edge\n",
    "    for u, v in G.edges():\n",
    "        qp.binary_var(name=f\"x_{min(u, v)}_{max(u, v)}\")\n",
    "    \n",
    "    # Add linear constraint (objective function)\n",
    "    linear = {f\"x_{min(u, v)}_{max(u, v)}\": G[u][v]['weight'] for u, v in G.edges()}\n",
    "    qp.minimize(linear=linear)\n",
    "    \n",
    "    # Add degree constraint\n",
    "    vertices = list(G.nodes())\n",
    "    qp.linear_constraint(\n",
    "        linear={f\"x_{min(u, v)}_{max(u, v)}\": 1 for u, v in G.edges()},\n",
    "        sense='==',\n",
    "        rhs=len(vertices) - 1\n",
    "    )\n",
    "    \n",
    "    # Add cycle constraints\n",
    "    # Using a binary indicator approach to ensure connectivity\n",
    "    for v in vertices[1:]:\n",
    "        for u in vertices:\n",
    "            if u != v and G.has_edge(u, v):\n",
    "                qp.linear_constraint(\n",
    "                    linear={f\"x_{min(u, v)}_{max(u, v)}\": 1},\n",
    "                    sense='<=',\n",
    "                    rhs=1\n",
    "                )\n",
    "    '''\n",
    "    u_vars = {v: qp.continuous_var(name=f\"u_{v}\", lowerbound=0, upperbound=len(vertices) - 1) for v in vertices[1:]}\n",
    "\n",
    "    for i in range(1, len(vertices)):\n",
    "        for j in range(1, len(vertices)):\n",
    "            if i != j and G.has_edge(i, j):\n",
    "                qp.linear_constraint(\n",
    "                    linear={f\"u_{i}\": 1, f\"u_{j}\": -1, f\"x_{min(i, j)}_{max(i, j)}\": len(vertices) - 1},\n",
    "                    sense='<=',\n",
    "                    rhs=len(vertices) - 2\n",
    "                )\n",
    "    '''\n",
    "            \n",
    "    return qp\n"
   ],
   "id": "88c4ee785c969b12",
   "execution_count": 63,
   "outputs": []
  },
  {
   "metadata": {
    "ExecuteTime": {
     "end_time": "2024-05-26T16:16:47.634658Z",
     "start_time": "2024-05-26T16:16:47.630007Z"
    }
   },
   "cell_type": "code",
   "source": "qp = mst_to_quadratic_program(graph)",
   "id": "9df04dfb6b280bea",
   "execution_count": 64,
   "outputs": []
  },
  {
   "metadata": {},
   "cell_type": "markdown",
   "source": "# From Quadratic Program to QUBO",
   "id": "7864f78085bffa66"
  },
  {
   "metadata": {
    "ExecuteTime": {
     "end_time": "2024-05-26T16:16:47.645315Z",
     "start_time": "2024-05-26T16:16:47.635663Z"
    }
   },
   "cell_type": "code",
   "source": [
    "from qiskit_optimization.converters import QuadraticProgramToQubo\n",
    "\n",
    "qp2qubo = QuadraticProgramToQubo()\n",
    "qubo = qp2qubo.convert(qp)\n",
    "qubitOp, offset = qubo.to_ising()\n",
    "print(\"Offset:\", offset)\n",
    "print(\"Ising Hamiltonian:\")\n",
    "print(str(qubitOp))"
   ],
   "id": "febd882ce967adb1",
   "execution_count": 65,
   "outputs": []
  },
  {
   "metadata": {
    "ExecuteTime": {
     "end_time": "2024-05-26T16:16:47.649022Z",
     "start_time": "2024-05-26T16:16:47.645315Z"
    }
   },
   "cell_type": "code",
   "source": [
    "'''\n",
    "# Solving with MinimumEigenOptimizer\n",
    "exact = MinimumEigenOptimizer(NumPyMinimumEigensolver())\n",
    "result = exact.solve(qubo)\n",
    "print(result.prettyprint())\n",
    "draw_graph(graph, seed, result.variables_dict)\n",
    "'''"
   ],
   "id": "58b36eb1964f8124",
   "execution_count": 66,
   "outputs": []
  },
  {
   "metadata": {},
   "cell_type": "markdown",
   "source": [
    "### Not very Important Functions stolen from Qiskit\n",
    "https://qiskit-community.github.io/qiskit-optimization/_modules/qiskit_optimization/applications/optimization_application.html#OptimizationApplication.sample_most_likely"
   ],
   "id": "47ab8cfb6bff054a"
  },
  {
   "metadata": {
    "ExecuteTime": {
     "end_time": "2024-05-26T16:16:47.657304Z",
     "start_time": "2024-05-26T16:16:47.652026Z"
    }
   },
   "cell_type": "code",
   "source": [
    "from typing import Dict, Union\n",
    "from qiskit.quantum_info import Statevector\n",
    "from qiskit.result import QuasiDistribution\n",
    "from collections import OrderedDict\n",
    "def sample_most_likely(\n",
    "        state_vector: Union[QuasiDistribution, Statevector, np.ndarray, Dict]\n",
    "    ) -> np.ndarray:\n",
    "        \"\"\"Compute the most likely binary string from state vector.\n",
    "\n",
    "        Args:\n",
    "            state_vector: state vector or counts or quasi-probabilities.\n",
    "\n",
    "        Returns:\n",
    "            binary string as numpy.ndarray of ints.\n",
    "\n",
    "        Raises:\n",
    "            ValueError: if state_vector is not QuasiDistribution, Statevector,\n",
    "                np.ndarray, or dict.\n",
    "        \"\"\"\n",
    "        if isinstance(state_vector, QuasiDistribution):\n",
    "            probabilities = state_vector.binary_probabilities()\n",
    "            binary_string = max(probabilities.items(), key=lambda kv: kv[1])[0]\n",
    "            x = np.asarray([int(y) for y in reversed(list(binary_string))])\n",
    "            return x\n",
    "        elif isinstance(state_vector, Statevector):\n",
    "            probabilities = state_vector.probabilities()\n",
    "            n = state_vector.num_qubits\n",
    "            k = np.argmax(np.abs(probabilities))\n",
    "            x = np.zeros(n)\n",
    "            for i in range(n):\n",
    "                x[i] = k % 2\n",
    "                k >>= 1\n",
    "            return x\n",
    "        elif isinstance(state_vector, (OrderedDict, dict)):\n",
    "            # get the binary string with the largest count\n",
    "            binary_string = max(state_vector.items(), key=lambda kv: kv[1])[0]\n",
    "            x = np.asarray([int(y) for y in reversed(list(binary_string))])\n",
    "            return x\n",
    "        elif isinstance(state_vector, np.ndarray):\n",
    "            n = int(np.log2(state_vector.shape[0]))\n",
    "            k = np.argmax(np.abs(state_vector))\n",
    "            x = np.zeros(n)\n",
    "            for i in range(n):\n",
    "                x[i] = k % 2\n",
    "                k >>= 1\n",
    "            return x\n",
    "        else:\n",
    "            raise ValueError(\n",
    "                \"state vector should be QuasiDistribution, Statevector, ndarray, or dict. \"\n",
    "                f\"But it is {type(state_vector)}.\"\n",
    "            )"
   ],
   "id": "9f205ed14fdc39da",
   "execution_count": 67,
   "outputs": []
  },
  {
   "metadata": {},
   "cell_type": "markdown",
   "source": "## Checking the Full Hamiltonian gives the right cost",
   "id": "46966afdcbd9e84c"
  },
  {
   "metadata": {
    "ExecuteTime": {
     "end_time": "2024-05-26T16:16:47.735309Z",
     "start_time": "2024-05-26T16:16:47.731327Z"
    }
   },
   "cell_type": "code",
   "source": [
    "'''\n",
    "# Making the Hamiltonian in its full form and getting the lowest eigenvalue and eigenvector\n",
    "ee = NumPyMinimumEigensolver()\n",
    "result = ee.compute_minimum_eigenvalue(qubitOp)\n",
    "\n",
    "print(\"energy:\", result.eigenvalue.real)\n",
    "print(\"MST objective:\", result.eigenvalue.real + offset)\n",
    "x = sample_most_likely(result.eigenstate)\n",
    "print(\"feasible:\", qubo.is_feasible(x))\n",
    "'''"
   ],
   "id": "c8a72d92a1dac353",
   "execution_count": 68,
   "outputs": []
  },
  {
   "metadata": {},
   "cell_type": "markdown",
   "source": "### Runing it on Quantum Simulator",
   "id": "69d2c57670f37503"
  },
  {
   "metadata": {
    "ExecuteTime": {
     "end_time": "2024-05-26T16:16:47.767217Z",
     "start_time": "2024-05-26T16:16:47.762897Z"
    }
   },
   "cell_type": "code",
   "source": [
    "from qiskit.circuit.library import TwoLocal\n",
    "from qiskit_algorithms.optimizers import SPSA\n",
    "from qiskit.primitives import Sampler\n",
    "'''\n",
    "# construct SamplingVQE\n",
    "optimizer = SPSA(maxiter=300)\n",
    "ry = TwoLocal(qubitOp.num_qubits, \"ry\", \"cz\", reps=5, entanglement=\"linear\")\n",
    "vqe = SamplingVQE(sampler=Sampler(), ansatz=ry, optimizer=optimizer)\n",
    "\n",
    "# run SamplingVQE\n",
    "result = vqe.compute_minimum_eigenvalue(qubitOp)\n",
    "\n",
    "# print results\n",
    "print(\"energy:\", result.eigenvalue.real)\n",
    "print(\"time:\", result.optimizer_time)\n",
    "x = sample_most_likely(result.eigenstate)\n",
    "print(\"feasible:\", qubo.is_feasible(x))\n",
    "\n",
    "#draw \n",
    "draw_graph(graph, seed, result.variables_dict)\n",
    "\n",
    "\n",
    "# create minimum eigen optimizer based on SamplingVQE\n",
    "vqe_optimizer = MinimumEigenOptimizer(vqe)\n",
    "\n",
    "# solve quadratic program\n",
    "result = vqe_optimizer.solve(qp)\n",
    "print(result.prettyprint())\n",
    "\n",
    "#draw\n",
    "draw_graph(graph, seed, result.variables_dict)\n",
    "'''"
   ],
   "id": "51e7326ccf4fb632",
   "execution_count": 69,
   "outputs": []
  },
  {
   "metadata": {},
   "cell_type": "markdown",
   "source": [
    "## QAOA Variational Form\n",
    "\n",
    "Write a function that takes as input a quadratic program and a parameter $p$, and produces as output the corresponding QAOA circuit with $p$ layers.The basic construct of the function is provided below, but you will have to insert the parts where the cost and mixer layers are applied.You will need to calculate the angles of the rotational gates as described in the final equations above.In the code below, we refer to the qubo matrix $Q$ as `qubo_matrix`, and to the vector $c$ as `qubo_linearity`.Make sure not to include any measurements in the circuit.\n",
    "\n"
   ],
   "id": "cb30caeaf1a6edf4"
  },
  {
   "metadata": {
    "ExecuteTime": {
     "end_time": "2024-05-26T16:16:47.797717Z",
     "start_time": "2024-05-26T16:16:47.793674Z"
    }
   },
   "cell_type": "code",
   "source": [
    "from qiskit.circuit.library.n_local.qaoa_ansatz import QAOAAnsatz\n",
    "from qiskit.circuit import Parameter, ParameterVector\n",
    "\n",
    "def qaoa_circuit_conversion(qubo: QuadraticProgram, p: int = 1):\n",
    "    \"\"\"\n",
    "    Given a QUBO instance and the number of layers p, constructs the corresponding parameterized QAOA circuit with p layers.\n",
    "    Args:\n",
    "        qubo: The quadratic program instance\n",
    "        p: The number of layers in the QAOA circuit\n",
    "    Returns:\n",
    "        The parameterized QAOA circuit\n",
    "    \"\"\"\n",
    "    size = qubo.get_num_vars()\n",
    "    operator, value = qubo.to_ising()\n",
    "    p=1\n",
    "    \n",
    "    qaoa_circuit = QAOAAnsatz(cost_operator=operator, reps=p)\n",
    "    parameters = [Parameter(f'γ_{i}') for i in range(p)] + [Parameter(f'β_{i}') for i in range(p)]\n",
    "    qaoa_circuit.assign_parameters(parameters, inplace=True)\n",
    "    \n",
    "    qaoa_circuit.draw('mpl')\n",
    "    \n",
    "    return qaoa_circuit"
   ],
   "id": "5cffc637a48b76c0",
   "execution_count": 70,
   "outputs": []
  },
  {
   "metadata": {
    "ExecuteTime": {
     "end_time": "2024-05-26T16:16:47.825947Z",
     "start_time": "2024-05-26T16:16:47.807722Z"
    }
   },
   "cell_type": "code",
   "source": [
    "circuit = qaoa_circuit_conversion(qubo)\n",
    "# circuit.decompose(reps=1).draw('mpl', style=\"iqp\")"
   ],
   "id": "b7da0ede8e39c056",
   "execution_count": 71,
   "outputs": []
  },
  {
   "metadata": {},
   "cell_type": "markdown",
   "source": "# Hardware Code Execution",
   "id": "96e5e401f1ef8791"
  },
  {
   "metadata": {
    "ExecuteTime": {
     "end_time": "2024-05-26T16:17:03.101301Z",
     "start_time": "2024-05-26T16:16:47.826954Z"
    }
   },
   "cell_type": "code",
   "source": [
    "from qiskit_ibm_runtime import QiskitRuntimeService, Session\n",
    "from qiskit_ibm_runtime import EstimatorV2 as Estimator\n",
    "from qiskit_ibm_runtime import SamplerV2 as Sampler\n",
    "from qiskit.transpiler.preset_passmanagers import generate_preset_pass_manager\n",
    "from qiskit_aer import AerSimulator\n",
    "\n",
    "\n",
    "service = QiskitRuntimeService(channel=\"ibm_quantum\")\n",
    "\n",
    "# To execute in real hardware, set this variable to true!\n",
    "RUN_MODE = False\n",
    "\n",
    "if RUN_MODE:\n",
    "    # To run on hardware, select the backend with the fewest number of jobs in the queue\n",
    "    backend = service.least_busy(operational=True, simulator=False)\n",
    "else:\n",
    "    real_backend = service.backend(\"ibm_brisbane\")\n",
    "    backend = AerSimulator.from_backend(real_backend)\n",
    "\n",
    "pm = generate_preset_pass_manager(backend=backend, optimization_level=1)\n",
    "\n",
    "# Ansatz Optimization\n",
    "ansatz_isa = pm.run(circuit)\n",
    "ansatz_isa.draw(output=\"mpl\", idle_wires=False, style=\"iqp\")\n",
    "\n",
    "# ISA Observables\n",
    "hamiltonian, _ = qubo.to_ising()\n",
    "hamiltonian_isa = hamiltonian.apply_layout(ansatz_isa.layout)\n",
    "\n",
    "# Executing Qiskit Primitives\n",
    "session = Session(backend=backend)\n",
    "\n",
    "# Configure estimator\n",
    "estimator = Estimator(session=session)\n",
    "estimator.options.default_shots = 10_000\n",
    "estimator.options.dynamical_decoupling.enable = True\n",
    "\n",
    "# Configure sampler\n",
    "sampler = Sampler(session=session)\n",
    "sampler.options.default_shots = 10_000\n",
    "sampler.options.dynamical_decoupling.enable = True\n"
   ],
   "id": "eb2eda9d4390f601",
   "execution_count": 72,
   "outputs": []
  },
  {
   "metadata": {},
   "cell_type": "markdown",
   "source": "### Optimize the Circuit",
   "id": "8102aaf9fe52aa09"
  },
  {
   "metadata": {
    "ExecuteTime": {
     "end_time": "2024-05-26T16:17:03.105581Z",
     "start_time": "2024-05-26T16:17:03.102311Z"
    }
   },
   "cell_type": "code",
   "source": [
    "def cost_func(params, ansatz, hamiltonian, estimator):\n",
    "    \"\"\"Return estimate of energy from estimator\n",
    "\n",
    "    Parameters:\n",
    "        params (ndarray): Array of ansatz parameters\n",
    "        ansatz (QuantumCircuit): Parameterized ansatz circuit\n",
    "        hamiltonian (SparsePauliOp): Operator representation of Hamiltonian\n",
    "        estimator (EstimatorV2): Estimator primitive instance\n",
    "\n",
    "    Returns:\n",
    "        float: Energy estimate\n",
    "    \"\"\"\n",
    "    pub = (ansatz, [hamiltonian], [params])\n",
    "    result = estimator.run(pubs=[pub]).result()\n",
    "    cost = result[0].data.evs[0]\n",
    "\n",
    "    return cost"
   ],
   "id": "deb26383e1df5eb0",
   "execution_count": 73,
   "outputs": []
  },
  {
   "metadata": {},
   "cell_type": "markdown",
   "source": [
    "### Callback to monitor progress\n",
    "Do we need a callback?"
   ],
   "id": "79ca3ae46fa7ec41"
  },
  {
   "metadata": {
    "ExecuteTime": {
     "end_time": "2024-05-26T16:17:03.109918Z",
     "start_time": "2024-05-26T16:17:03.105581Z"
    }
   },
   "cell_type": "code",
   "source": [
    "def build_callback(ansatz, hamiltonian, estimator, callback_dict):\n",
    "    \"\"\"Return callback function that uses Estimator instance,\n",
    "    and stores intermediate values into a dictionary.\n",
    "\n",
    "    Parameters:\n",
    "        ansatz (QuantumCircuit): Parameterized ansatz circuit\n",
    "        hamiltonian (SparsePauliOp): Operator representation of Hamiltonian\n",
    "        estimator (EstimatorV2): Estimator primitive instance\n",
    "        callback_dict (dict): Mutable dict for storing values\n",
    "\n",
    "    Returns:\n",
    "        Callable: Callback function object\n",
    "    \"\"\"\n",
    "\n",
    "    def callback(current_vector):\n",
    "        \"\"\"Callback function storing previous solution vector,\n",
    "        computing the intermediate cost value, and displaying number\n",
    "        of completed iterations and average time per iteration.\n",
    "\n",
    "        Values are stored in pre-defined 'callback_dict' dictionary.\n",
    "\n",
    "        Parameters:\n",
    "            current_vector (ndarray): Current vector of parameters\n",
    "                                      returned by optimizer\n",
    "        \"\"\"\n",
    "        # Keep track of the number of iterations\n",
    "        callback_dict[\"iters\"] += 1\n",
    "        # Set the prev_vector to the latest one\n",
    "        callback_dict[\"prev_vector\"] = current_vector\n",
    "        # Compute the value of the cost function at the current vector\n",
    "        # This adds an additional function evaluation\n",
    "        pub = (ansatz, [hamiltonian], [current_vector])\n",
    "        result = estimator.run(pubs=[pub]).result()\n",
    "        current_cost = result[0].data.evs[0]\n",
    "        callback_dict[\"cost_history\"].append(current_cost)\n",
    "        # Print to screen on single line\n",
    "        print(\n",
    "            \"Iters. done: {} [Current cost: {}]\".format(callback_dict[\"iters\"], current_cost),\n",
    "            end=\"\\r\",\n",
    "            flush=True,\n",
    "        )\n",
    "\n",
    "    return callback\n",
    "\n",
    "callback_dict = {\n",
    "    \"prev_vector\": None,\n",
    "    \"iters\": 0,\n",
    "    \"cost_history\": [],\n",
    "}"
   ],
   "id": "806c42b907e58059",
   "execution_count": 74,
   "outputs": []
  },
  {
   "metadata": {
    "ExecuteTime": {
     "end_time": "2024-05-26T16:20:38.023044Z",
     "start_time": "2024-05-26T16:17:03.110924Z"
    }
   },
   "cell_type": "code",
   "source": [
    "# SciPy minimizer routine\n",
    "from scipy.optimize import minimize\n",
    "\n",
    "# Initial Parameters\n",
    "x0 = 2 * np.pi * np.random.rand(ansatz_isa.num_parameters)\n",
    "\n",
    "with Session(backend=backend) as session:\n",
    "    estimator = Estimator(session=session)\n",
    "    estimator.options.default_shots = 10000\n",
    "\n",
    "    callback = build_callback(ansatz_isa, hamiltonian_isa, estimator, callback_dict)\n",
    "\n",
    "    res = minimize(\n",
    "        cost_func,\n",
    "        x0,\n",
    "        args=(ansatz_isa, hamiltonian_isa, estimator),\n",
    "        method=\"cobyla\",\n",
    "        callback=callback,\n",
    "    )\n",
    "    print(res)"
   ],
   "id": "b31f877091742ce5",
   "execution_count": 75,
   "outputs": []
  },
  {
   "metadata": {},
   "cell_type": "markdown",
   "source": "# 4. Post-process, return result in classical format.",
   "id": "dedb3596a0ad9e3d"
  },
  {
   "metadata": {
    "ExecuteTime": {
     "end_time": "2024-05-26T16:20:42.199646Z",
     "start_time": "2024-05-26T16:20:38.024050Z"
    }
   },
   "cell_type": "code",
   "source": [
    "from qiskit.visualization import plot_distribution\n",
    "\n",
    "# Assign solution parameters to ansatz\n",
    "qc = circuit.assign_parameters(res.x)\n",
    "# Add measurements to our circuit\n",
    "qc.measure_all()\n",
    "qc_isa = pm.run(qc)\n",
    "qc_isa.draw(output=\"mpl\", idle_wires=False, style=\"iqp\")\n",
    "\n",
    "result = sampler.run([qc_isa]).result()\n",
    "samp_dist = result[0].data.meas.get_counts()\n",
    "# Close the session since we are now done with it\n",
    "session.close()\n",
    "\n",
    "plot_distribution(samp_dist, figsize=(30, 5))"
   ],
   "id": "561b171c09f45a6c",
   "execution_count": 76,
   "outputs": []
  },
  {
   "metadata": {
    "ExecuteTime": {
     "end_time": "2024-05-26T16:28:44.047311Z",
     "start_time": "2024-05-26T16:28:44.043663Z"
    }
   },
   "cell_type": "code",
   "source": [
    "def cost_from_bistring(bitstring: str, qubo: QuadraticProgram) -> float:\n",
    "    \"\"\"\n",
    "    Calculate the cost value of a bitstring for a given QUBO instance.\n",
    "\n",
    "    Args:\n",
    "        bitstring (str): A bitstring representing the solution.\n",
    "        qubo (QuadraticProgram): A QUBO instance.\n",
    "\n",
    "    Returns:\n",
    "        float: The cost value of the bitstring.\n",
    "    \"\"\"\n",
    "    \n",
    "    # Convert bitstring to a numpy array of integers\n",
    "    x = np.array([int(bit) for bit in bitstring])\n",
    "    \n",
    "    # Initialize cost\n",
    "    cost = 0.0\n",
    "\n",
    "    # Calculate linear term contribution\n",
    "    for i, var in enumerate(qubo.objective.linear.to_dict()):\n",
    "        cost += qubo.objective.linear[i] * x[i]\n",
    "\n",
    "    # Calculate quadratic term contribution\n",
    "    for (i, j), coeff in qubo.objective.quadratic.to_dict().items():\n",
    "        cost += coeff * x[i] * x[j]\n",
    "\n",
    "    return cost"
   ],
   "id": "a18e8acdf8cad2e9",
   "execution_count": 89,
   "outputs": []
  },
  {
   "metadata": {},
   "cell_type": "markdown",
   "source": "### Check the cost values the results are mapped to and orther them by frequency",
   "id": "cebb131c73370175"
  },
  {
   "metadata": {
    "ExecuteTime": {
     "end_time": "2024-05-26T16:42:35.462838Z",
     "start_time": "2024-05-26T16:42:35.448044Z"
    }
   },
   "cell_type": "code",
   "source": [
    "import plotly.graph_objects as go\n",
    "def plot_samples(samples):\n",
    "    \"\"\"\n",
    "    Plots a bar diagram for the samples of a quantum algorithm\n",
    "    Args:\n",
    "        samples\n",
    "    \"\"\"\n",
    "    #Sort samples by probability\n",
    "    samples = sorted(samples.items(), key=lambda kv: kv[1])\n",
    "    print(samples)\n",
    "    \n",
    "    #Get list of probabilities, function values and bitstrings\n",
    "    probabilities = [sample[1] for sample in samples]\n",
    "    bitstrings = [sample[0] for sample in samples]\n",
    "    values = [cost_from_bistring(sample[0], qubo) for sample in samples]\n",
    "    print(values)\n",
    "    #Plot bar diagram\n",
    "    sample_plot = go.Bar(x = bitstrings, y = probabilities, marker=dict(color=values, colorscale = 'plasma',colorbar=dict(title='Function Value')))\n",
    "    fig = go.Figure(\n",
    "        data=sample_plot, \n",
    "        layout = dict(\n",
    "            xaxis=dict(\n",
    "                type = 'category'\n",
    "            )\n",
    "        )\n",
    "    )\n",
    "    fig.show()\n",
    "plot_samples(samp_dist)\n",
    "#print(samp_dist)"
   ],
   "id": "bba705b26749d11e",
   "execution_count": 101,
   "outputs": []
  },
  {
   "metadata": {
    "ExecuteTime": {
     "end_time": "2024-05-26T16:44:30.872360Z",
     "start_time": "2024-05-26T16:44:30.868288Z"
    }
   },
   "cell_type": "code",
   "source": [
    "# Print linear coefficients\n",
    "print(\"Linear Coefficients:\")\n",
    "for i, coeff in enumerate(qubo.objective.linear.to_dict()):\n",
    "    print(f\"x_{i}: {coeff}\")\n",
    "\n",
    "# Print quadratic coefficients\n",
    "print(\"Quadratic Coefficients:\")\n",
    "for (i, j), coeff in qubo.objective.quadratic.to_dict().items():\n",
    "    print(f\"x_{i} * x_{j}: {coeff}\")\n",
    "\n",
    "# Print the offset if applicable\n",
    "if hasattr(qubo, 'offset'):\n",
    "    print(\"Offset:\", qubo.offset)"
   ],
   "id": "47d7129fa171505",
   "execution_count": 102,
   "outputs": []
  },
  {
   "metadata": {
    "ExecuteTime": {
     "end_time": "2024-05-26T16:51:33.788473Z",
     "start_time": "2024-05-26T16:51:33.785085Z"
    }
   },
   "cell_type": "code",
   "source": [
    "def bitstring_to_edges(bitstring: str, G: Graph) -> list:\n",
    "    \"\"\"\n",
    "    Translate a bitstring back to the selected edges in the graph.\n",
    "    \n",
    "    Args:\n",
    "        bitstring (str): A bitstring representing the solution.\n",
    "        G (Graph): The original graph.\n",
    "    \n",
    "    Returns:\n",
    "        list: A list of edges (tuples) that are selected.\n",
    "    \"\"\"\n",
    "    selected_edges = []\n",
    "    edge_list = list(G.edges())\n",
    "    \n",
    "    # Iterate through the bitstring and the edges\n",
    "    for bit, edge in zip(bitstring, edge_list):\n",
    "        if bit == '1':\n",
    "            selected_edges.append(edge)\n",
    "    \n",
    "    return selected_edges"
   ],
   "id": "4c8eda19b8561ba1",
   "execution_count": 105,
   "outputs": []
  },
  {
   "metadata": {
    "ExecuteTime": {
     "end_time": "2024-05-26T16:53:40.319539Z",
     "start_time": "2024-05-26T16:53:40.315319Z"
    }
   },
   "cell_type": "code",
   "source": [
    "samples = sorted(samp_dist.items(), key=lambda kv: kv[1])\n",
    "\n",
    "for sample in samples:\n",
    "    print(\"String\", sample[0],\" with selected edges:\", bitstring_to_edges(sample[0], graph))"
   ],
   "id": "fa8f03335847af86",
   "execution_count": 108,
   "outputs": []
  },
  {
   "metadata": {
    "ExecuteTime": {
     "end_time": "2024-05-26T16:20:42.241804Z",
     "start_time": "2024-05-26T16:20:42.240797Z"
    }
   },
   "cell_type": "code",
   "source": [
    "'''\n",
    "# Credentials Login\n",
    "from qiskit_ibm_runtime import QiskitRuntimeService\n",
    "\n",
    "gmail_token = 'ec8c90467f71da5bb79c7192307ad7e1adeb07cbffe3ffc4d9d3c9dfc61700ac672e478f753e611ba1dba599bcfce14ea118ab39e4a48793c9709f5706c0d85c'\n",
    "token = \"210b071a2d234c2363d69efbe21a792e4d11cbc52ac1e8c8caa4f2110fca3422dd63c308624c1df9956cfde32f5e3abc332b9a77b2a1283eada66cbc14c85f40\"\n",
    "QiskitRuntimeService.save_account(channel=\"ibm_quantum\", token=gmail_token)\n",
    "'''\n",
    "#session.close()"
   ],
   "id": "5889855855df325",
   "execution_count": null,
   "outputs": []
  },
  {
   "metadata": {},
   "cell_type": "code",
   "source": [
    "# Disable the current account\n",
    "''''\n",
    "\n",
    "import os\n",
    "\n",
    "# Disable the current account\n",
    "QiskitRuntimeService.delete_account()\n",
    "\n",
    "# Delete the local file storing the token\n",
    "config_path = os.path.expanduser(\"~/.qiskit/qiskit-ibm.json\")\n",
    "if os.path.exists(config_path):\n",
    "    os.remove(config_path)\n",
    "'''"
   ],
   "id": "720039edf0b689c",
   "execution_count": null,
   "outputs": []
  },
  {
   "metadata": {},
   "cell_type": "code",
   "source": "",
   "id": "eebdf9f6d39de86b",
   "execution_count": null,
   "outputs": []
  }
 ],
 "metadata": {
  "kernelspec": {
   "display_name": "Python 3",
   "language": "python",
   "name": "python3"
  },
  "language_info": {
   "codemirror_mode": {
    "name": "ipython",
    "version": 2
   },
   "file_extension": ".py",
   "mimetype": "text/x-python",
   "name": "python",
   "nbconvert_exporter": "python",
   "pygments_lexer": "ipython2",
   "version": "2.7.6"
  }
 },
 "nbformat": 4,
 "nbformat_minor": 5
}
