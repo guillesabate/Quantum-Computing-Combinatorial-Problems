{
 "cells": [
  {
   "metadata": {},
   "cell_type": "markdown",
   "source": [
    "# Lab 2: Introduction to Variational Algorithms\n",
    "\n",
    "In this Lab, you will learn about\n",
    "- variational quantum algorithms, in particular Variational Quantum Eigensolvers\n",
    "- how to create and work with parameterized circuits and quadratic programs in Qiskit\n",
    "- how to solve optimization problems using QAOA "
   ],
   "id": "3c72385557f32ce5"
  },
  {
   "metadata": {
    "jupyter": {
     "is_executing": true
    }
   },
   "cell_type": "code",
   "source": [
    "import networkx as nx\n",
    "import numpy as np\n",
    "import plotly.graph_objects as go\n",
    "import matplotlib as mpl\n",
    "import pandas as pd\n",
    "from IPython.display import clear_output\n",
    "from plotly.subplots import make_subplots\n",
    "from matplotlib import pyplot as plt\n",
    "#from qiskit import Aer\n",
    "from qiskit import QuantumCircuit\n",
    "from qiskit.visualization import plot_state_city\n",
    "#from qiskit.algorithms.optimizers import COBYLA, SLSQP, ADAM\n",
    "from time import time\n",
    "from copy import copy\n",
    "from typing import List\n",
    "from qc_grader import graphs\n",
    "mpl.rcParams['figure.dpi'] = 300"
   ],
   "id": "8a50d3ee71f8da34",
   "execution_count": null,
   "outputs": []
  },
  {
   "metadata": {},
   "cell_type": "markdown",
   "source": [
    "## 1) Introduction\n",
    "This section serves as an introduction to the topic of variational quantum algorithms and as a recap of the material covered in the previous lecture.\n",
    "\n",
    "### Variational quantum algorithms\n",
    "In the most general sense, a variational quantum circuit is a circuit that depends on a set of parameters $\\theta$. Typically, a variational quantum algorithm queries a quantum computer to sample the output of this parameterized quantum circuit for some fixed parameters and evaluates a given cost function $C(\\theta)$ based on this output. A classical optimizer is then used to update the circuit parameters in order to maximize or minimize the objective function $C$. These steps are repeated in a quantum-classical hybrid loop that eventually terminates when the classical optimization has found optimal parameters $\\theta^*$.<br>\n",
    "\n",
    "Variational Quantum Algorithms are often seen as a promising method of achieving quantum advantage on near term devices. In a lot of cases they do not require the execution of deep quantum circuits and systematic errors can partly be mitigated by outsourcing the optimization procedure to a classical optimizer. Nevertheless, VQAs also face a number of challenges, in particular the questions of whether they are efficiently trainable and produce solutions that are in fact superior to those obtained by classical algorithms. \n",
    "Despite these challenges, VQAs have been proposed for a variety of problem settings, amongst others the following.\n",
    "\n",
    "- [Variational Quantum Eigensolvers](/course/ch-applications/simulating-molecules-using-vqe): \n",
    "VQEs attempt to approximate the ground state and corresponding energy of a quantum system described by a Hamiltonian $H$ (i.e. the lowest eigenvalue and eigenvector of the corresponding hermitian matrix) (see [below](#variational-quantum-eigensolvers)).\n",
    "\n",
    "- [QAOA](/course/ch-applications/solving-combinatorial-optimization-problems-using-qaoa): An approximate optimization algorithm used for combinatorial optimization problems. QAOA can be seen as a VQE that solves optimization problems by encoding the cost function as a problem Hamiltonian (see [Section 4](#qaoa)).\n",
    "\n",
    "- Variational Classifiers: A variational classifier is a quantum circuit that is trained on a data set to classify unseen data samples, reminiscent of classical machine learning classifiers. \n",
    "\n",
    "- [Variational Quantum Linear Solvers](/course/ch-applications/the-variational-quantum-linear-solver): VQLS solves systems of linear equations by leveraging the basic ideas behind VQEs.\n",
    "\n",
    "\n",
    "\n",
    "In this lab, we will focus on QAOA as a special case of the Variational Quantum Eigensolver. \n",
    "\n",
    "### The Variational Method\n",
    "Consider a Hermitian operator $H$ describing a quantum system with corresponding ground state $\\vert \\psi^* \\rangle$ and ground state energy $E_0$.\n",
    "The variational method is a technique to approximate $\\vert \\psi^* \\rangle$ and $E_0$. This is done by choosing a parameterized trial state $\\vert \\psi(\\theta) \\rangle$, where $\\theta$ denotes a set or vector of parameters. Recall that the energy of the system in the state $\\vert \\psi \\rangle$ is given by its expectation value with respect to $H$\n",
    "$$\n",
    "E(\\vert \\psi \\rangle)= \\langle \\psi \\vert H \\vert \\psi \\rangle\n",
    "$$\n",
    "Since the ground state of the system is the lowest energy eigenstate, by definition it holds that\n",
    "$$\n",
    "E_0 = \\langle \\psi^* \\vert H \\vert \\psi^* \\rangle \\leq \\langle \\psi(\\theta) \\vert H \\vert \\psi(\\theta) \\rangle,\n",
    "$$\n",
    "for any parameters $\\theta$. Thus, by minimizing the expectation value of the trial state $\\psi(\\theta)$, that is, finding parameters $\\theta$ for which the expectation value $\\langle \\psi(\\theta) \\vert H \\vert \\psi(\\theta) \\rangle$ becomes as small as possible, we obtain an upper bound on the ground state energy $E_0$ and an approximation of the ground state itself. Naturally, the choice of a good trial state $\\psi(\\theta)$ is principal to the success of the variational method.\n",
    "\n",
    "### Variational Quantum Eigensolvers\n",
    "Variational quantum eigensolvers use the variational method to approximate the ground state and minimal eigenvalue of a Hamiltonian $H$. The trial state now corresponds to a quantum state prepared by a variational quantum circuit and the corresponding expectation value is measured by executing the circuit on a quantum computer. A classical optimizer is then used to tune the circuit parameters and minimize the measured expectation value.<br>\n",
    "\n",
    "Apart from being applicable to problems in chemistry or quantum mechanics itself, where we are directly interested in the ground state of a given Hamiltonian, one can also use the concept of variational quantum eigensolvers for optimization problems, by encoding the cost function that should be optimized as a Hamiltonian whose ground state corresponds to the optimal solution of the problem. This idea lies at the heart of QAOA.\n",
    "\n"
   ],
   "id": "a22be983ddbadd57"
  },
  {
   "metadata": {},
   "cell_type": "markdown",
   "source": [
    "## Parameterized Quantum Circuits\n",
    "In this section, we will learn how to construct parameterized circuits and assign values to circuit parameters in Qiskit, allowing us to build custom variational forms."
   ],
   "id": "e851e23dcd71fbf9"
  },
  {
   "metadata": {},
   "cell_type": "markdown",
   "source": [
    "### Constructing a parameterized circuit\n",
    "Creating a quantum circuit with parameters in Qiskit is not much different from creating a standard quantum circuit. We simply initialize parameters using Qiskit's ```Parameter``` class and use them accordingly when appending gates to the constructed circuit. In the following example, we use parameters for the rotation angle of rotational quantum gates."
   ],
   "id": "5055d87450379896"
  },
  {
   "metadata": {
    "jupyter": {
     "is_executing": true
    }
   },
   "cell_type": "code",
   "source": [
    "from qiskit.circuit import Parameter, ParameterVector\n",
    "#Parameters are initialized with a simple string identifier\n",
    "parameter_0 = Parameter('θ[0]')\n",
    "parameter_1 = Parameter('θ[1]')\n",
    "circuit = QuantumCircuit(1)\n",
    "#We can then pass the initialized parameters as the rotation angle argument to the Rx and Ry gates\n",
    "circuit.ry(theta = parameter_0, qubit = 0)\n",
    "circuit.rx(theta = parameter_1, qubit = 0)\n",
    "circuit.draw('mpl')"
   ],
   "id": "479fd463ef98b774",
   "execution_count": null,
   "outputs": []
  },
  {
   "metadata": {},
   "cell_type": "markdown",
   "source": "The same parameter can also be used multiple times within the same circuit. Consider the circuit form as above, but with the same parameter used repeatedly for different gates.",
   "id": "16619a29b463cee5"
  },
  {
   "metadata": {
    "jupyter": {
     "is_executing": true
    }
   },
   "cell_type": "code",
   "source": [
    "parameter = Parameter('θ')\n",
    "circuit = QuantumCircuit(1)\n",
    "circuit.ry(theta = parameter, qubit = 0)\n",
    "circuit.rx(theta = parameter, qubit = 0)\n",
    "circuit.draw('mpl')"
   ],
   "id": "694e9326c1c2cc11",
   "execution_count": null,
   "outputs": []
  },
  {
   "metadata": {},
   "cell_type": "markdown",
   "source": "For convenience, there also exists a ```ParameterVector``` class in Qiskit which allows for the creation of multiple parameters at once. Consider the following example of a RealAmplitudes circuit, which consists of alternating layers of parameterized $R_Y$ gates and entangling $CX$ gates. The [RealAmplitudes](https://qiskit.org/documentation/stubs/qiskit.circuit.library.RealAmplitudes.html) variational form is commonly used for classification in quantum machine learning and can also be found in the [circuit library](https://qiskit.org/documentation/apidoc/circuit_library.html) of Qiskit.",
   "id": "cc773c80de5afa38"
  },
  {
   "metadata": {
    "jupyter": {
     "is_executing": true
    }
   },
   "cell_type": "code",
   "source": [
    "#Set the number of layers and qubits\n",
    "n=3\n",
    "num_layers = 2\n",
    "\n",
    "#ParameterVectors are initialized with a string identifier and an integer specifying the vector length\n",
    "parameters = ParameterVector('θ', n*(num_layers+1))\n",
    "\n",
    "\n",
    "circuit = QuantumCircuit(n, n)\n",
    "for layer in range(num_layers):\n",
    "    #Appending the parameterized Ry gates using parameters from the vector constructed above\n",
    "    for i in range(n):\n",
    "        circuit.ry(parameters[n*layer+i], i)\n",
    "    circuit.barrier()\n",
    "\n",
    "    #Appending the entangling CNOT gates\n",
    "    for i in range(n):\n",
    "        for j in range(i):\n",
    "                circuit.cx(j,i)\n",
    "    circuit.barrier()\n",
    "\n",
    "#Appending one additional layer of parameterized Ry gates\n",
    "for i in range(n):\n",
    "    circuit.ry(parameters[n*num_layers+i], i)\n",
    "circuit.barrier()\n",
    "\n",
    "circuit.draw('mpl')"
   ],
   "id": "3e7726aed22be449",
   "execution_count": null,
   "outputs": []
  },
  {
   "metadata": {},
   "cell_type": "markdown",
   "source": "We can inspect the parameters that are part of a quantum circuit.\n",
   "id": "6aea2c43dd7c9029"
  },
  {
   "metadata": {
    "jupyter": {
     "is_executing": true
    }
   },
   "cell_type": "code",
   "source": "print(circuit.parameters)",
   "id": "84fa8cd71aa5409f",
   "execution_count": null,
   "outputs": []
  },
  {
   "metadata": {},
   "cell_type": "markdown",
   "source": [
    "### Assigning values to parameters\n",
    "A parameterized circuit cannot be executed on a quantum backend until the parameters have been assigned fixed values. To do so, we can use the `QuantumCircuit` methods \n",
    "```\n",
    "assign_parameters(parameters, inplace = False)\n",
    "bind_parameters(values)\n",
    "```\n",
    "`bind_parameters` assigns numeric values to the parameters of the circuit, always yielding a new circuit. With `assign_parameters`, one can assign numeric values or substitute parameters by other parameter expressions. Additionally, with `assign_parameters` it is possible to substitute parameters in place instead of yielding a new circuit. The values or parameter expressions that should be assigned to the circuit parameters can be provided either as a dictionary, where the dictionary keys correspond to the parameters in the circuit and the dictionary values are the values to bind, or as an iterable of values. In the latter case values are assigned to parameters in the same order as parameters were added to the circuit."
   ],
   "id": "4167eaebfdb43d82"
  },
  {
   "metadata": {
    "jupyter": {
     "is_executing": true
    }
   },
   "cell_type": "code",
   "source": [
    "#Create parameter dictionary with random values to bind\n",
    "param_dict = {parameter: np.random.random() for parameter in parameters}\n",
    "print(param_dict)\n",
    "#Assign parameters using the assign_parameters method\n",
    "bound_circuit = circuit.assign_parameters(parameters = param_dict)\n",
    "bound_circuit.draw('mpl')"
   ],
   "id": "ac7f3f77ba30e53b",
   "execution_count": null,
   "outputs": []
  },
  {
   "metadata": {},
   "cell_type": "markdown",
   "source": "Consider also the following circuit, where we substitute a parameter from the original circuit by another parameter expression.",
   "id": "7a709f300e82c640"
  },
  {
   "metadata": {
    "jupyter": {
     "is_executing": true
    }
   },
   "cell_type": "code",
   "source": [
    "new_parameters = ParameterVector('Ψ',9)\n",
    "new_circuit = circuit.assign_parameters(parameters = [k*new_parameters[k] for k in range(9)])\n",
    "new_circuit.draw('mpl')"
   ],
   "id": "88d8f1c04ed2363b",
   "execution_count": null,
   "outputs": []
  },
  {
   "metadata": {},
   "cell_type": "markdown",
   "source": "The bound version of the circuit can now be executed on a quantum device. Attempting to execute a parameterized quantum circuit with non-assigned parameters will throw an error.",
   "id": "7b72cc61b721b9f3"
  },
  {
   "metadata": {
    "jupyter": {
     "is_executing": true
    }
   },
   "cell_type": "code",
   "source": [
    "#Run the circuit with assigned parameters on Aer's statevector simulator\n",
    "'''\n",
    "simulator = Aer.get_backend('statevector_simulator')\n",
    "result = simulator.run(bound_circuit).result()\n",
    "statevector = result.get_statevector(bound_circuit)\n",
    "plot_state_city(statevector)\n",
    "'''"
   ],
   "id": "2b90562cf5587597",
   "execution_count": null,
   "outputs": []
  },
  {
   "metadata": {
    "jupyter": {
     "is_executing": true
    }
   },
   "cell_type": "code",
   "source": [
    "#The following line produces an error when run because 'circuit' still contains non-assigned parameters\n",
    "#result = simulator.run(circuit).result()"
   ],
   "id": "6050d19d36d89b5c",
   "execution_count": null,
   "outputs": []
  },
  {
   "metadata": {},
   "cell_type": "markdown",
   "source": [
    "## Quadratic Programs\n",
    "In this section, we will review the MaxCut problem and learn how to construct quadratic programs in Qiskit. "
   ],
   "id": "351d090099cd1dab"
  },
  {
   "metadata": {},
   "cell_type": "markdown",
   "source": [
    "### MaxCut\n",
    "In the MaxCut problem, the input is a (possibly weighted) graph and one attempts to find a partition of the graph vertices into two disjoint sets, such that the cumulative weight of edges connecting vertices from different cuts is maximized. <br>\n",
    "\n",
    "<div>\n",
    "<img src=\"attachment:maxcut_visualization.png\"/>\n",
    "</div>\n",
    "\n",
    "Let $G=(V,E)$ be a (weighted) graph with $n$ vertices. By numbering the vertices $v_1, \\dots, v_n$, and assigning each vertex either the value 0 or 1, we can identify any cut of the graph with a vector $x \\in \\{0,1\\}^n$. The weight of a cut $x$ is then determined by the cost function\n",
    "$$\n",
    "C(x) = \\sum_{i,j=1}^n W_{ij} x_i (1-x_j)\n",
    "$$\n",
    "where $W_{ij} = W_{ji}$ determines the weight of the edge connecting vertices $v_i$ and $v_j$, and $W_{ij} = 0$ if $v_i$ and $v_j$ are not connected by an edge. It is easy to see that each edge weight contributes exactly once to the sum if and only if $x_i \\neq x_j$. <br>\n",
    "\n",
    "The dictionary `graphs` defined below contains a number of different graph instances for you to explore. The name ending for each graph specifies the kinds of weights used."
   ],
   "id": "568f157e88e8dc04"
  },
  {
   "metadata": {
    "jupyter": {
     "is_executing": true
    }
   },
   "cell_type": "code",
   "source": [
    "'''\n",
    "for key in graphs.keys():\n",
    "    print(key)\n",
    "    '''"
   ],
   "id": "9f4c7eb1879a1b3d",
   "execution_count": null,
   "outputs": []
  },
  {
   "metadata": {},
   "cell_type": "markdown",
   "source": "Let us create one more graph instance using the `networkx` module and add it to the dictionary. You can use the widget below to explore cuts of different graph instances. The two groups of vertices are marked in light and dark blue, respectively, and edges that connect vertices from different groups (and therefore contribute to the cut weight) are marked in red.",
   "id": "6889fcf4fc02a8f1"
  },
  {
   "metadata": {
    "jupyter": {
     "is_executing": true
    }
   },
   "cell_type": "code",
   "source": [
    "graph = nx.Graph()\n",
    "#Add nodes and edges\n",
    "graph.add_nodes_from(np.arange(0,6,1))\n",
    "edges = [(0,1,2.0),(0,2,3.0),(0,3,2.0),(0,4,4.0),(0,5,1.0),(1,2,4.0),(1,3,1.0),(1,4,1.0),(1,5,3.0),(2,4,2.0),(2,5,3.0),(3,4,5.0),(3,5,1.0)]\n",
    "graph.add_weighted_edges_from(edges)\n",
    "graphs['custom'] = graph\n",
    "#Display widget\n",
    "display_maxcut_widget(graphs['custom'])"
   ],
   "id": "6668c1c1367bb19",
   "execution_count": null,
   "outputs": []
  },
  {
   "metadata": {},
   "cell_type": "markdown",
   "source": [
    "<div class=\"alert alert-block alert-success\">\n",
    "\n",
    "<p style=\"font-size:25px\">\n",
    "Exercise 1: MaxCut\n",
    "</p>\n",
    "\n",
    "For the newly defined graph above, find the maximum cut and pass it as a list of bits '$x=$\\[$x_0, x_1, ..., x_n$\\]' to the grader. You can use the following function which displays a bar plot of the cost function values for all possible bitstrings, but you need to add the code that computes the maxcut cost function value for a particular bitstring $x$. The numpy matrix `weight_matrix` refers to $W$ and you can access its elements $W_{ij}$ via `weight_matrix[i,j]`.\n",
    "\n",
    "</div>"
   ],
   "id": "abf495735912d79f"
  },
  {
   "metadata": {
    "jupyter": {
     "is_executing": true
    }
   },
   "cell_type": "code",
   "source": [
    "def maxcut_cost_fn(graph: nx.Graph, bitstring: List[int]) -> float:\n",
    "    \"\"\"\n",
    "    Computes the maxcut cost function value for a given graph and cut represented by some bitstring\n",
    "    Args:\n",
    "        graph: The graph to compute cut values for\n",
    "        bitstring: A list of integer values '0' or '1' specifying a cut of the graph\n",
    "    Returns:\n",
    "        The value of the cut\n",
    "    \"\"\"\n",
    "    #Get the weight matrix of the graph\n",
    "    weight_matrix = nx.adjacency_matrix(graph).toarray()\n",
    "    size = weight_matrix.shape[0]\n",
    "    value = 0.\n",
    "\n",
    "    #INSERT YOUR CODE TO COMPUTE THE CUT VALUE HERE\n",
    "\n",
    "    return value\n",
    "\n",
    "def plot_maxcut_histogram(graph: nx.Graph) -> None:\n",
    "    \"\"\"\n",
    "    Plots a bar diagram with the values for all possible cuts of a given graph.\n",
    "    Args:\n",
    "        graph: The graph to compute cut values for\n",
    "    \"\"\"\n",
    "    num_vars = graph.number_of_nodes()\n",
    "    #Create list of bitstrings and corresponding cut values\n",
    "    bitstrings = ['{:b}'.format(i).rjust(num_vars, '0')[::-1] for i in range(2**num_vars)]\n",
    "    values = [maxcut_cost_fn(graph = graph, bitstring = [int(x) for x in bitstring]) for bitstring in bitstrings]\n",
    "    #Sort both lists by largest cut value\n",
    "    values, bitstrings = zip(*sorted(zip(values, bitstrings)))\n",
    "    #Plot bar diagram\n",
    "    bar_plot = go.Bar(x = bitstrings, y = values, marker=dict(color=values, colorscale = 'plasma', colorbar=dict(title='Cut Value')))\n",
    "    fig = go.Figure(data=bar_plot, layout = dict(xaxis=dict(type = 'category'), width = 1500, height = 600))\n",
    "    fig.show()\n"
   ],
   "id": "1a7f85375b061985",
   "execution_count": null,
   "outputs": []
  },
  {
   "metadata": {
    "jupyter": {
     "is_executing": true
    }
   },
   "cell_type": "code",
   "source": "plot_maxcut_histogram(graph = graphs['custom'])",
   "id": "6ec5c4b281f82338",
   "execution_count": null,
   "outputs": []
  },
  {
   "metadata": {
    "jupyter": {
     "is_executing": true
    }
   },
   "cell_type": "code",
   "source": [
    "from qc_grader import grade_lab2_ex1\n",
    "bitstring = [0, 0, 0, 0, 0, 0] #DEFINE THE CORRECT MAXCUT BITSTRING HERE\n",
    "\n",
    "# Note that the grading function is expecting a list of integers '0' and '1'\n",
    "grade_lab2_ex1(bitstring)"
   ],
   "id": "14e1a12f9439bfd9",
   "execution_count": null,
   "outputs": []
  },
  {
   "metadata": {},
   "cell_type": "markdown",
   "source": [
    "### Quadratic Programs\n",
    "\n",
    "A quadratically constrained quadratic program is an optimization problem with a quadratic objective function and linear and quadratic constraints on the optimization variables. In other words, it can be written in the following form\n",
    "$$\n",
    "\\begin{align}\n",
    "\\text{minimize} &&x^T Q x + c^T x &&\\\\\n",
    "&& && \\\\\n",
    "\\text{subject to} &&Ax \\leq b  &&\\\\\n",
    "&& x^TQ_ix + a_i^Tx \\leq r_i \\\\\n",
    "&& l_j \\leq x_j \\leq u_j \\\\\n",
    "\\end{align}\n",
    "$$\n",
    "where $Q \\in \\mathbb{R}^{n \\times n}$ is a symmetric real-valued $n \\times n$-matrix and $c \\in \\mathbb{R}^n$ is a real-valued vector specifying the quadratic and linear parts of the objective function. The optimization variables $x_i, i \\in \\{1, \\dots, n\\}$ can be binary, integer- or real-valued, depending on the problem at hand.\n",
    "\n",
    "In Qiskit, we can create quadratic programs with the `QuadraticProgram` class, located in the `qiskit_optimization` module. To generate a new model, simply call the initializer with the desired problem name."
   ],
   "id": "f899ef5463cfae91"
  },
  {
   "metadata": {
    "jupyter": {
     "is_executing": true
    }
   },
   "cell_type": "code",
   "source": [
    "from qiskit_optimization import QuadraticProgram\n",
    "quadratic_program = QuadraticProgram('sample_problem')\n",
    "print(quadratic_program.export_as_lp_string())"
   ],
   "id": "2f29e3f4b30befb4",
   "execution_count": null,
   "outputs": []
  },
  {
   "metadata": {},
   "cell_type": "markdown",
   "source": "We can add binary, integer or continuous optimization variables by calling the respective methods `binary_var`, `integer_var` and `continuous_var`. Any variable added to the quadratic program is specified by a name. We can also specify variable bounds for integer and continuous variables, using the `lowerbound` and `upperbound` arguments.",
   "id": "e64a465b4c754a3f"
  },
  {
   "metadata": {
    "jupyter": {
     "is_executing": true
    }
   },
   "cell_type": "code",
   "source": [
    "quadratic_program.binary_var(name = 'x_0')\n",
    "quadratic_program.integer_var(name = 'x_1')\n",
    "quadratic_program.continuous_var(name = 'x_2', lowerbound = -2.5, upperbound = 1.8)"
   ],
   "id": "abbb5e3f6c691710",
   "execution_count": null,
   "outputs": []
  },
  {
   "metadata": {},
   "cell_type": "markdown",
   "source": [
    "To set the objective function, use the methods `minimize` or `maximize`, depending on whether it is a minimization or maximization problem. The quadratic and linear terms can be specified by passing either a list, a matrix or a dictionary for the arguments `linear` and `quadratic`. It is also possible to specify a constant offset with the argument `constant`. <br>\n",
    "\n",
    "Finally, to print the quadratic program in a readable format, use the method `export_as_lp_string`."
   ],
   "id": "100aaa15372de83d"
  },
  {
   "metadata": {
    "jupyter": {
     "is_executing": true
    }
   },
   "cell_type": "code",
   "source": [
    "quadratic = [[0,1,2],[0,1,2],[0,1,2]]\n",
    "linear = [10,20,30]\n",
    "quadratic_program.minimize(quadratic = quadratic, linear = linear, constant = -5)\n",
    "print(quadratic_program.export_as_lp_string())"
   ],
   "id": "c75e8f1ca831ff48",
   "execution_count": null,
   "outputs": []
  },
  {
   "metadata": {},
   "cell_type": "markdown",
   "source": "Instead of creating quadratic programs from scratch, we can also convert an existing `docplex` model, explained in more detail in this [tutorial](https://qiskit.org/documentation/tutorials/optimization/1_quadratic_program.html) on quadratic programs.",
   "id": "64565cafb7249cda"
  },
  {
   "metadata": {},
   "cell_type": "markdown",
   "source": [
    "### MaxCut as a Quadratic Program\n",
    "We can formulate any MaxCut problem as a quadratic program. Consider again the cost function for a MaxCut problem with symmetric weight matrix $W$\n",
    "$$\n",
    "C(x) = \\sum_{i,j=1}^n W_{ij} x_i (1-x_j).\n",
    "$$\n",
    "This is clearly a quadratic cost function and we can reformulate it in the standard form for quadratic programs as written above.\n",
    "$$\n",
    "\\begin{align}\n",
    "\\sum_{i,j=1}^n W_{ij} x_i (1-x_j) &= \\sum_{i,j=1}^n W_{ij} x_i - W_{ij}x_i x_j  \\\\\n",
    "&= \\sum_{i=1}^n \\left( \\sum_{j=1}^n W_{ij} \\right) x_i - \\sum_{i,j = 1}^n W_{ij}x_i x_j \\\\\n",
    "&= c^T x + x^T Q x, \\\\\n",
    "\\end{align}\n",
    "$$\n",
    "for $Q$ and $c$ defined as follows\n",
    "$$\n",
    "Q_{ij} = -W_{ij} \\qquad c_i = \\sum_{j=1}^n W_{ij}.\n",
    "$$\n",
    "Thus, we obtain an optimization instance with binary variables, a quadratic objective function and without any variable constraints. A quadratic program of that form is also called a quadratic unconstrained binary optimization instance, or QUBO for short. In the next section, we will learn how to use QAOA to optimize problems of that type."
   ],
   "id": "1ac6bf99f26e6069"
  },
  {
   "metadata": {},
   "cell_type": "markdown",
   "source": [
    "<div class=\"alert alert-block alert-success\">\n",
    "    \n",
    "<p style=\"font-size:25px\">\n",
    "Exercise 2: MaxCut to QUBO \n",
    "</p>\n",
    "    \n",
    "The following function should construct a quadratic program from a MaxCut problem instance defined by a graph. Complete the code, using the methods explained in the previous section. You will have to add binary variables to the quadratic program which should be named 'x_0', 'x_1', ..., 'x_n'. We refer to the weight matrix $W$ as `weight_matrix` and to the qubo matrix $Q$ as `qubo_matrix`.\n",
    "\n",
    "</div>"
   ],
   "id": "4794499a389941b3"
  },
  {
   "metadata": {
    "jupyter": {
     "is_executing": true
    }
   },
   "cell_type": "code",
   "source": [
    "def quadratic_program_from_graph(graph: nx.Graph) -> QuadraticProgram:\n",
    "    \"\"\"Constructs a quadratic program from a given graph for a MaxCut problem instance.\n",
    "    Args:\n",
    "        graph: Underlying graph of the problem.\n",
    "    Returns:\n",
    "        QuadraticProgram\n",
    "    \"\"\"\n",
    "    #Get weight matrix of graph\n",
    "    weight_matrix = nx.adjacency_matrix(graph)\n",
    "    shape = weight_matrix.shape\n",
    "    size = shape[0]\n",
    "    #Build qubo matrix Q from weight matrix W\n",
    "    qubo_matrix = np.zeros((size, size))\n",
    "    qubo_vector = np.zeros(size)\n",
    "    for i in range(size):\n",
    "        for j in range(size):\n",
    "            qubo_matrix[i, j] -= weight_matrix[i, j]\n",
    "    for i in range(size):\n",
    "        for j in range(size):\n",
    "            qubo_vector[i] += weight_matrix[i,j]\n",
    "\n",
    "    #INSERT YOUR CODE HERE\n",
    "    \n",
    "    return quadratic_program"
   ],
   "id": "2773a47ff03fd1ff",
   "execution_count": null,
   "outputs": []
  },
  {
   "metadata": {
    "jupyter": {
     "is_executing": true
    }
   },
   "cell_type": "code",
   "source": [
    "quadratic_program = quadratic_program_from_graph(graphs['custom'])\n",
    "print(quadratic_program.export_as_lp_string())"
   ],
   "id": "7c0664aa4a18f830",
   "execution_count": null,
   "outputs": []
  },
  {
   "metadata": {
    "jupyter": {
     "is_executing": true
    }
   },
   "cell_type": "code",
   "source": [
    "##=from qc_grader import grade_lab2_ex2\n",
    "\n",
    "# Note that the grading function is expecting a quadratic program\n",
    "#grade_lab2_ex2(quadratic_program)"
   ],
   "id": "57a0470319ef3c76",
   "execution_count": null,
   "outputs": []
  },
  {
   "metadata": {},
   "cell_type": "markdown",
   "source": [
    "## QAOA\n",
    "In this section, we will implement our own version of the QAOA variational form and solve the MaxCut problem defined in the sections above, using the Quantum Approximate Optimization Algorithm (QAOA) implemented in Qiskit. "
   ],
   "id": "359d56ba9f83bcce"
  },
  {
   "metadata": {},
   "cell_type": "markdown",
   "source": [
    "### QAOA Variational Form \n",
    "Recall that the variational form for QAOA has the following layerized structure <br>\n",
    "\n",
    "<div>\n",
    "<img src=\"attachment:qaoa_structure.png\"/>\n",
    "</div>\n",
    "\n",
    "where $H_C$ refers to a cost Hamiltonian that encodes the cost function of the optimization problem and $H_M$ is a mixer hamiltonian. <br>\n",
    "In the original version of QAOA, the initial prepared state is the equal superposition state \n",
    "$$\n",
    "\\vert + \\rangle = \\sum_{x \\in \\{0,1\\}^{n}} \\frac{1}{\\sqrt{2^n}}  \\vert x \\rangle\n",
    "$$\n",
    "and the mixer Hamiltonian is defined as the sum of single Pauli $X$-operators on all qubits\n",
    "$$\n",
    "H_M = \\sum_{i=1}^n{X_i}.\n",
    "$$\n",
    "For a QUBO instance with corresponding matrix $Q$, we would like to encode the cost function $C(x)$ as the cost Hamiltonian $H_C$, that is we are trying to find an operator $H_C$, such that\n",
    "$$\n",
    "H_C \\vert x \\rangle = \\left( x^T Q x + c^T x \\right) \\vert x \\rangle = \\left( \\sum_{i,j=1}^n x_i Q_{ij} x_j + \\sum_{i=1}^n c_ix_i \\right) \\vert x \\rangle\n",
    "$$\n",
    "for all computational basis states $x \\in \\{0,1\\}^n$.<br>\n",
    "Using the fact that\n",
    "$$\n",
    "Z_i\\vert x \\rangle = (-1)^{x_i}  \\vert x \\rangle = \\left( 1-2x_i \\right) \\vert x \\rangle \\implies x_i \\vert x \\rangle = \\frac{\\mathbb{I}-Z_i}{2}\\vert x \\rangle,\n",
    "$$\n",
    "where $\\mathbb{I}$ denotes the unit operator and $Z_i$ the Pauli-Z matrix for qubit $i$, we can write $H_C$ as a sum of Pauli-Z operators, by carrying out the substitution $x_i \\to  \\frac{\\mathbb{I}-Z_i}{2}$ in the cost function expression $C(x)$. This yields the following expression for $H_C$\n",
    "$$\n",
    "H_C = \\sum_{i,j=1}^n \\frac{1}{4}Q_{ij} Z_iZ_j - \\sum_{i=1}^n \\frac{1}{2} \\left(c_i + \\sum_{j=1}^n Q_{ij} \\right) Z_i +  \\left( \\sum_{i,j=1}^n \\frac{Q_{ij}}{4} + \\sum_{i=1}^n \\frac{c_i}{2} \\right)\n",
    "$$\n",
    "Exponentiating both Hamiltonians, we obtain a variational from consisting of $R_Z$ and $R_{ZZ}$ gates in the cost layer and $R_X$ gates in the mixer layer\n",
    "$$\n",
    "e^{- i \\beta H_M} = \\prod_{i=1}^n R_{X_i}(2\\beta) \\quad \\quad e^{- i \\gamma H_C} = \\prod_{i,j=1 \\\\ i \\neq j}^n R_{Z_iZ_j} \\left( \\frac{1}{2} Q_{ij} \\gamma \\right) \\prod_{i=1}^nR_{Z_i} \\left( \\left( c_i + \\sum_{j=1}^n Q_{ij} \\right) \\gamma \\right)\n",
    "$$\n",
    "As an example, consider the QAOA variational form for the QUBO of the MaxCut instance defined above (for $p=1$). <br>\n",
    "\n",
    "<div>\n",
    "<img src=\"attachment:maxcut_qaoa.svg\"/>\n",
    "</div>"
   ],
   "id": "13e305feb2702703"
  },
  {
   "metadata": {},
   "cell_type": "markdown",
   "source": "The $R_{ZZ}$ gates in the circuit above have been decomposed as a combination of two $CNOT$ gates and one single rotational $R_Z$ gate. Note also that in QAOA circuits for MaxCut QUBO instances, the angle of the single rotational $R_Z$ gates is always equal to 0.",
   "id": "c59ed271d7cbefe2"
  },
  {
   "metadata": {},
   "cell_type": "markdown",
   "source": [
    "<div class=\"alert alert-block alert-success\">\n",
    "\n",
    "<p style=\"font-size:25px\">\n",
    "Exercise 3: QAOA Variational Form\n",
    "</p>\n",
    "\n",
    "Write a function that takes as input a quadratic program and a parameter $p$, and produces as output the corresponding QAOA circuit with $p$ layers. The basic construct of the function is provided below, but you will have to insert the parts where the cost and mixer layers are applied. You will need to calculate the angles of the rotational gates as described in the final equations above. In the code below, we refer to the qubo matrix $Q$ as `qubo_matrix`, and to the vector $c$ as `qubo_linearity`. Make sure not to include any measurements in the circuit.\n",
    "\n",
    "</div>"
   ],
   "id": "9e4719510cb64c7f"
  },
  {
   "metadata": {
    "jupyter": {
     "is_executing": true
    }
   },
   "cell_type": "code",
   "source": [
    "def qaoa_circuit(qubo: QuadraticProgram, p: int = 1):\n",
    "    \"\"\"\n",
    "    Given a QUBO instance and the number of layers p, constructs the corresponding parameterized QAOA circuit with p layers.\n",
    "    Args:\n",
    "        qubo: The quadratic program instance\n",
    "        p: The number of layers in the QAOA circuit\n",
    "    Returns:\n",
    "        The parameterized QAOA circuit\n",
    "    \"\"\"\n",
    "    size = len(qubo.variables)\n",
    "    qubo_matrix = qubo.objective.quadratic.to_array(symmetric=True)\n",
    "    qubo_linearity = qubo.objective.linear.to_array()\n",
    "\n",
    "    #Prepare the quantum and classical registers\n",
    "    qaoa_circuit = QuantumCircuit(size,size)\n",
    "    #Apply the initial layer of Hadamard gates to all qubits\n",
    "    qaoa_circuit.h(range(size))\n",
    "\n",
    "    #Create the parameters to be used in the circuit\n",
    "    gammas = ParameterVector('gamma', p)\n",
    "    betas = ParameterVector('beta', p)\n",
    "\n",
    "    #Outer loop to create each layer\n",
    "    #for i in range(p):\n",
    "\n",
    "        #Apply R_Z rotational gates from cost layer\n",
    "        #INSERT YOUR CODE HERE\n",
    "\n",
    "        #Apply R_ZZ rotational gates for entangled qubit rotations from cost layer\n",
    "        #INSERT YOUR CODE HERE\n",
    "                        \n",
    "        # Apply single qubit X - rotations with angle 2*beta_i to all qubits\n",
    "        #INSERT YOUR CODE HERE\n",
    "\n",
    "    return qaoa_circuit"
   ],
   "id": "a65458b0e629dc72",
   "execution_count": null,
   "outputs": []
  },
  {
   "metadata": {},
   "cell_type": "markdown",
   "source": "Once you have finished the exercises above, you can explore the QAOA circuits of different graph instances.",
   "id": "195e26a1e7a2bed8"
  },
  {
   "metadata": {
    "jupyter": {
     "is_executing": true
    }
   },
   "cell_type": "code",
   "source": [
    "quadratic_program = quadratic_program_from_graph(graphs['custom'])\n",
    "custom_circuit = qaoa_circuit(qubo = quadratic_program)"
   ],
   "id": "cfae9503b896df9d",
   "execution_count": null,
   "outputs": []
  },
  {
   "metadata": {
    "jupyter": {
     "is_executing": true
    }
   },
   "cell_type": "code",
   "source": "test = custom_circuit.assign_parameters(parameters=[1.0]*len(custom_circuit.parameters))",
   "id": "1074d24bfebcea0f",
   "execution_count": null,
   "outputs": []
  },
  {
   "metadata": {
    "jupyter": {
     "is_executing": true
    }
   },
   "cell_type": "code",
   "source": [
    "from qc_grader import grade_lab2_ex3\n",
    "\n",
    "# Note that the grading function is expecting a quantum circuit\n",
    "grade_lab2_ex3(test)"
   ],
   "id": "d3362e23c3e7326e",
   "execution_count": null,
   "outputs": []
  },
  {
   "metadata": {},
   "cell_type": "markdown",
   "source": [
    "### The QAOA and MinimumEigenOptimizer class\n",
    "If you have managed to complete the previous exercises, congratulations! You have implemented your own version of QAOA that can solve general QUBO instances and in particular MaxCut problems by running on a quantum computer. Qiskit also provides its own implementation of QAOA which allows us to solve optimization problems with only a few lines of code. <br>\n",
    "The [`QAOA`](https://qiskit.org/documentation/stubs/qiskit.algorithms.QAOA.html) class in Qiskit is located in `qiskit.algorithms` and directly inherits from the Variational Quantum Eigensolver class [`VQE`](https://qiskit.org/documentation/stubs/qiskit.aqua.algorithms.VQE.html). The initializer for `QAOA` takes the following input parameters, amongst others\n",
    "- `optimizer`: This argument refers to the classical optimizer used for updating the circuit parameters. Qiskit offers a number of different [optimizers](https://qiskit.org/documentation/apidoc/qiskit.aqua.components.optimizers.html) and you can also define your own by subclassing Qiskit's native [`Optimizer`](https://qiskit.org/documentation/stubs/qiskit.aqua.components.optimizers.Optimizer.html#qiskit.aqua.components.optimizers.Optimizer) class. Some of the basic optimizers offered by Qiskit are the following: <br>\n",
    "    - [COBYLA](https://qiskit.org/documentation/stubs/qiskit.aqua.components.optimizers.COBYLA.html#qiskit.aqua.components.optimizers.COBYLA): Constrained Optimization By Linear Approximation optimizer.\n",
    "    - [SLSQP](https://qiskit.org/documentation/stubs/qiskit.aqua.components.optimizers.SLSQP.html#qiskit.aqua.components.optimizers.SLSQP): Sequential Least SQuares Programming optimizer.\n",
    "    - [ADAM](https://qiskit.org/documentation/stubs/qiskit.aqua.components.optimizers.ADAM.html#qiskit.aqua.components.optimizers.ADAM):  A gradient-based optimization algorithm that is relies on adaptive estimates of lower-order moments.\n",
    "- `reps`: The number of layers $p$ in the QAOA variational form, i.e. the depth of the algorithm. For higher values of $p$, QAOA can theoretically obtain better results but the quantum circuit becomes deeper and there are more parameters to optimize.\n",
    "- `initial_point`: Optional initial parameter values (values for $\\beta$ and $\\gamma$) to start the optimization with.\n",
    "- `quantum_instance`: The quantum instance to run the algorithm on. This can be a simulator or a real hardware device.\n",
    "- `callback`: A callback function that can be used to monitor the optimization process.\n",
    "\n",
    "Below, you will be able to test the effect of some of these arguments on the optimization procedure of QAOA."
   ],
   "id": "94ad42a764c7125d"
  },
  {
   "metadata": {},
   "cell_type": "markdown",
   "source": "The [`MinimumEigenOptimizer`](https://qiskit.org/documentation/tutorials/optimization/3_minimum_eigen_optimizer.html) object provides a wrapper for the optimization process that handles the conversion from a quadratic program to a qubit operator as well as calling a given [`MinimumEigenSolver`](https://qiskit.org/documentation/stubs/qiskit.aqua.algorithms.MinimumEigensolver.html), such as QAOA to obtain the corresponding optimization result. The initializer takes as input the `MinimumEigenSolver` to use for the optimization, and the optimization is run by calling the `optimize` method with a quadratic program as input. Putting it all together, we can obtain a solution for the MaxCut problem defined above with only a couple of lines of code.",
   "id": "e572d13709e85345"
  },
  {
   "metadata": {
    "jupyter": {
     "is_executing": true
    }
   },
   "cell_type": "code",
   "source": [
    "from qiskit.algorithms import QAOA\n",
    "from qiskit_optimization.algorithms import MinimumEigenOptimizer\n",
    "backend = Aer.get_backend('statevector_simulator')\n",
    "qaoa = QAOA(optimizer = ADAM(), quantum_instance = backend, reps=1, initial_point = [0.1,0.1])\n",
    "eigen_optimizer = MinimumEigenOptimizer(min_eigen_solver = qaoa)\n",
    "quadratic_program = quadratic_program_from_graph(graphs['custom'])\n",
    "result = eigen_optimizer.solve(quadratic_program)\n",
    "print(result)\n"
   ],
   "id": "f59c3e71a2cced70",
   "execution_count": null,
   "outputs": []
  },
  {
   "metadata": {},
   "cell_type": "markdown",
   "source": "As you can see, the optimizer indeed manages to find the optimum within only a few optimization steps. We can also plot the optimized statevector to see which bitstrings are more likely to be sampled after optimization of the parameters has concluded.",
   "id": "e68e07a44cf50a94"
  },
  {
   "metadata": {
    "jupyter": {
     "is_executing": true
    }
   },
   "cell_type": "code",
   "source": [
    "def plot_samples(samples):\n",
    "    \"\"\"\n",
    "    Plots a bar diagram for the samples of a quantum algorithm\n",
    "    Args:\n",
    "        samples\n",
    "    \"\"\"\n",
    "    #Sort samples by probability\n",
    "    samples = sorted(samples, key = lambda x: x.probability)\n",
    "    #Get list of probabilities, function values and bitstrings\n",
    "    probabilities = [sample.probability for sample in samples]\n",
    "    values = [sample.fval for sample in samples]\n",
    "    bitstrings = [''.join([str(int(i)) for i in sample.x]) for sample in samples]\n",
    "    #Plot bar diagram\n",
    "    sample_plot = go.Bar(x = bitstrings, y = probabilities, marker=dict(color=values, colorscale = 'plasma',colorbar=dict(title='Function Value')))\n",
    "    fig = go.Figure(\n",
    "        data=sample_plot, \n",
    "        layout = dict(\n",
    "            xaxis=dict(\n",
    "                type = 'category'\n",
    "            )\n",
    "        )\n",
    "    )\n",
    "    fig.show()\n",
    "\n",
    "plot_samples(result.samples)"
   ],
   "id": "f633ba89fae831a7",
   "execution_count": null,
   "outputs": []
  },
  {
   "metadata": {},
   "cell_type": "markdown",
   "source": [
    "\n",
    "### Explore: The QAOA Optimization Process \n",
    "\n",
    "The following widget shows a precomputed energy landscape for the MaxCut problem defined above and visualizes the QAOA optimization process at depth $p=1$, showing how the statevector and average function value change with each parameter update. Try using different classical optimizers and initial points to see how it affects the optimization process. Note that the first value in `initial_point` sets the initial value for the $\\gamma$ parameter and the second value sets the initial value for the $\\beta$ parameter."
   ],
   "id": "c729b7471179cbf8"
  },
  {
   "metadata": {
    "jupyter": {
     "is_executing": true
    }
   },
   "cell_type": "code",
   "source": [
    "graph_name = 'custom'\n",
    "quadratic_program = quadratic_program_from_graph(graph=graphs[graph_name])\n",
    "\n",
    "trajectory={'beta_0':[], 'gamma_0':[], 'energy':[]}\n",
    "offset = 1/4*quadratic_program.objective.quadratic.to_array(symmetric  = True).sum() + 1/2*quadratic_program.objective.linear.to_array().sum()\n",
    "def callback(eval_count, params, mean, std_dev):\n",
    "    trajectory['beta_0'].append(params[1])\n",
    "    trajectory['gamma_0'].append(params[0])\n",
    "    trajectory['energy'].append(-mean + offset)\n",
    "\n",
    "optimizers = {\n",
    "    'cobyla': COBYLA(),\n",
    "    'slsqp': SLSQP(),\n",
    "    'adam': ADAM()\n",
    "}\n",
    "qaoa = QAOA(optimizer = optimizers['cobyla'], quantum_instance = backend, reps=1, initial_point = [6.2,1.8],callback = callback)\n",
    "eigen_optimizer = MinimumEigenOptimizer(min_eigen_solver = qaoa)\n",
    "result = eigen_optimizer.solve(quadratic_program)\n",
    "fig = QAOA_widget(landscape_file=f'./resources/energy_landscapes/{graph_name}.csv', trajectory = trajectory, samples = result.samples)\n",
    "fig.show()\n"
   ],
   "id": "c1104e377f65b2ab",
   "execution_count": null,
   "outputs": []
  },
  {
   "metadata": {},
   "cell_type": "markdown",
   "source": "Observe the periodicity in the cost function landscape plotted above. This is a direct consequence of the periodicity of the rotational gates used in the QAOA variational form. Since all rotational gates have a periodicity of $2\\pi$ and the MaxCut example we investigate here only has edges with integer weights, we observe a periodicity of $2 \\pi$ in the $\\gamma$ parameter and a periodicity of $\\pi$ in the $\\beta$ parameter.",
   "id": "19cd7446b41409ac"
  },
  {
   "metadata": {},
   "cell_type": "markdown",
   "source": [
    "### Higher values of $p$\n",
    "\n",
    "With higher values of $p$, QAOA is theoretically able to reach a quantum state with a better energy value with respect to the cost Hamiltonian since increasing the number of layers strictly increases the space of quantum states, one is able to reach. That is, if \n",
    "$$\n",
    "M_p = \\max_{\\beta, \\gamma \\in \\mathbb{R}^p} \\langle \\psi_p(\\beta, \\gamma) \\vert H_C  \\vert \\psi_p(\\beta, \\gamma) \\rangle\n",
    "$$\n",
    "denotes the maximal energy value reachable with a QAOA variational form of depth $p$, it holds that\n",
    "$$\n",
    "M_{p+1} \\geq M_p.\n",
    "$$\n",
    "In fact, using the adiabatic theorem, one can prove, that in the infinite limit, we are able to reach the maximal cost function value $C_{max}$\n",
    "$$\n",
    "\\lim\\limits_{p \\to \\inf} M_p = C_{max}.\n",
    "$$\n",
    "While the connection to adiabatic quantum computing serves as a justification of why we might expect QAOA to yield good optimization results, it only holds in the infinite limit, which in turn corresponds to an infinitely long quantum algorithm.\n",
    "One also needs to be mindful of the fact that the number of parameters increases with the number of layers, and finding the global optimum becomes increasingly harder when introducing more parameters.<br>\n",
    "The following plots show the evolution of the optimal QAOA state found for increasing values of $p$ and give some idea of how the circuit depth affects QAOA performance."
   ],
   "id": "398e6f3e12637f2"
  },
  {
   "metadata": {
    "jupyter": {
     "is_executing": true
    }
   },
   "cell_type": "code",
   "source": [
    "\n",
    "graph_name = 'custom'\n",
    "quadratic_program = quadratic_program_from_graph(graphs[graph_name])\n",
    "#Create callback to record total number of evaluations\n",
    "max_evals = 0\n",
    "def callback(eval_count, params, mean, std_dev):\n",
    "    global max_evals\n",
    "    max_evals = eval_count\n",
    "\n",
    "#Create empty lists to track values\n",
    "energies = []\n",
    "runtimes = []\n",
    "num_evals=[]\n",
    "    \n",
    "#Run QAOA for different values of p\n",
    "for p in range(1,10):\n",
    "    print(f'Evaluating for p = {p}...')\n",
    "    qaoa = QAOA(optimizer = optimizers['cobyla'], quantum_instance = backend, reps=p, callback=callback)\n",
    "    eigen_optimizer = MinimumEigenOptimizer(min_eigen_solver = qaoa)\n",
    "    start = time()\n",
    "    result = eigen_optimizer.solve(quadratic_program)\n",
    "    runtimes.append(time()-start)\n",
    "    num_evals.append(max_evals)\n",
    "    #Calculate energy of final state from samples\n",
    "    avg_value = 0.\n",
    "    for sample in result.samples:\n",
    "        avg_value += sample.probability*sample.fval\n",
    "    energies.append(avg_value)\n",
    "\n",
    "#Create and display plots\n",
    "energy_plot = go.Scatter(x = list(range(1,10)), y =energies, marker=dict(color=energies, colorscale = 'plasma'))\n",
    "runtime_plot = go.Scatter(x = list(range(1,10)), y =runtimes, marker=dict(color=runtimes, colorscale = 'plasma'))\n",
    "num_evals_plot = go.Scatter(x = list(range(1,10)), y =num_evals, marker=dict(color=num_evals, colorscale = 'plasma'))\n",
    "fig = make_subplots(rows = 1, cols = 3, subplot_titles = ['Energy value', 'Runtime', 'Number of evaluations'])\n",
    "fig.update_layout(width=1800,height=600, showlegend=False)\n",
    "fig.add_trace(energy_plot, row=1, col=1)\n",
    "fig.add_trace(runtime_plot, row=1, col=2)\n",
    "fig.add_trace(num_evals_plot, row=1, col=3)\n",
    "clear_output()\n",
    "fig.show()"
   ],
   "id": "5550a2b4768c3dfd",
   "execution_count": null,
   "outputs": []
  },
  {
   "metadata": {},
   "cell_type": "markdown",
   "source": [
    "### CVaR\n",
    "One recently proposed adaptation to QAOA is the idea of calculating the Conditional Value at Risk (or CVaR). Here, instead of calculating the mean of all cut values $c_i$ obtained from the measurement outcomes of the circuit to compute the cost function $f$, the algorithm only takes into account a fraction $\\alpha$ of the highest measured cut values.\n",
    "$$\n",
    "f(\\theta) = \\frac{1}{n}\\sum_{i=1}^n c_i \\to f(\\theta) = \\frac{1}{\\lceil \\alpha n \\rceil}\\sum_{i=1}^{\\lceil \\alpha n \\rceil} c_i,\n",
    "$$\n",
    "where the $c_i$ are ordered decreasing in size.\n",
    "Since we are only interested in obtaining a single good solution for the original optimization problem, looking only at a fraction of the best cuts can help to speed up the optimization process. Let us explore how adding CVaR can change the energy landscape of a QAOA instance. The following code creates and plots a QAOA energy landscape of a given MaxCut instance using your code from the previous exercises and returns the optimal parameters obtained during a grid search. Calculating the energy landscape might take a while.\n"
   ],
   "id": "57e38f94245070b7"
  },
  {
   "metadata": {
    "jupyter": {
     "is_executing": true
    }
   },
   "cell_type": "code",
   "source": [
    "def plot_qaoa_energy_landscape(graph: nx.Graph, cvar: float = None):\n",
    "    num_shots = 1000\n",
    "    seed = 42\n",
    "    simulator = Aer.get_backend('qasm_simulator')\n",
    "    simulator.set_options(seed_simulator = 42)\n",
    "\n",
    "    #Generate circuit\n",
    "    circuit = qaoa_circuit(qubo = quadratic_program_from_graph(graph), p=1)\n",
    "    circuit.measure(range(graph.number_of_nodes()),range(graph.number_of_nodes()))\n",
    "\n",
    "    #Create dictionary with precomputed cut values for all bitstrings \n",
    "    cut_values = {}\n",
    "    size = graph.number_of_nodes()\n",
    "    for i in range(2**size):\n",
    "        bitstr = '{:b}'.format(i).rjust(size, '0')[::-1]\n",
    "        x = [int(bit) for bit in bitstr]\n",
    "        cut_values[bitstr] = maxcut_cost_fn(graph, x)\n",
    "\n",
    "    #Perform grid search over all parameters\n",
    "    data_points = []\n",
    "    max_energy = None\n",
    "    for beta in np.linspace(0,np.pi, 50):\n",
    "        for gamma in np.linspace(0, 4*np.pi, 50):\n",
    "            bound_circuit = circuit.assign_parameters([beta, gamma])\n",
    "            result = simulator.run(bound_circuit, shots = num_shots).result()\n",
    "            statevector = result.get_counts(bound_circuit)\n",
    "            energy = 0\n",
    "            measured_cuts = []\n",
    "            for bitstring, count in statevector.items():\n",
    "                measured_cuts =  measured_cuts + [cut_values[bitstring]]*count\n",
    "\n",
    "            if cvar is None:\n",
    "                #Calculate the mean of all cut values\n",
    "                energy = sum(measured_cuts)/num_shots\n",
    "            else:\n",
    "                raise NotImplementedError()\n",
    "                #INSERT YOUR CODE HERE\n",
    "\n",
    "            #Update optimal parameters\n",
    "            if max_energy is None or energy > max_energy:\n",
    "                max_energy = energy\n",
    "                optimum = {'beta': beta, 'gamma': gamma, 'energy': energy}\n",
    "\n",
    "            #Update data\n",
    "            data_points.append({'beta': beta, 'gamma': gamma, 'energy': energy})\n",
    "\n",
    "\n",
    "    #Create and display surface plot from data_points\n",
    "    df = pd.DataFrame(data_points)\n",
    "    df = df.pivot(index='beta', columns='gamma', values='energy')\n",
    "    matrix = df.to_numpy()\n",
    "    beta_values = df.index.tolist()\n",
    "    gamma_values = df.columns.tolist()\n",
    "\n",
    "    surface_plot = go.Surface(\n",
    "        x=gamma_values, \n",
    "        y=beta_values,\n",
    "        z=matrix,\n",
    "        coloraxis = 'coloraxis'\n",
    "    )\n",
    "    fig = go.Figure(data = surface_plot)\n",
    "    fig.show()\n",
    "\n",
    "    #Return optimum\n",
    "    return optimum\n",
    "\n"
   ],
   "id": "d707efb736322f7b",
   "execution_count": null,
   "outputs": []
  },
  {
   "metadata": {
    "jupyter": {
     "is_executing": true
    }
   },
   "cell_type": "code",
   "source": [
    "graph = graphs['custom']\n",
    "optimal_parameters = plot_qaoa_energy_landscape(graph = graph)\n",
    "print('Optimal parameters:')\n",
    "print(optimal_parameters)"
   ],
   "id": "e1d2eba1d7808c08",
   "execution_count": null,
   "outputs": []
  },
  {
   "metadata": {},
   "cell_type": "markdown",
   "source": [
    "<div class=\"alert alert-block alert-success\">\n",
    "\n",
    "<p style=\"font-size:25px\">\n",
    "Exercise 4: CVaR\n",
    "</p>\n",
    "\n",
    "Adapt the code above, so instead of taking the mean of all sampled cut values, the algorithm calculates the conditional value at risk and observe how different settings of the parameter $\\alpha$ change the QAOA energy landscape. What are the energy and optimal parameters we obtain by the grid search when setting the CVaR parameter to $\\alpha = 0.2$ when using 1000 shots and setting the random seed of the qasm simulator to 42 (as is already done in the code above)?\n",
    "</div>"
   ],
   "id": "9501bced56fc746b"
  },
  {
   "metadata": {
    "jupyter": {
     "is_executing": true
    }
   },
   "cell_type": "code",
   "source": [
    "optimal_parameters = plot_qaoa_energy_landscape(graph = graph, cvar = 0.2)\n",
    "print(optimal_parameters)"
   ],
   "id": "fd73877fe40ef3b8",
   "execution_count": null,
   "outputs": []
  },
  {
   "metadata": {
    "jupyter": {
     "is_executing": true
    }
   },
   "cell_type": "code",
   "source": [
    "from qc_grader import grade_lab2_ex4\n",
    "\n",
    "# Note that the grading function is expecting a python dictionary\n",
    "# with the entries 'beta', 'gamma' and 'energy'\n",
    "grade_lab2_ex4(optimal_parameters)"
   ],
   "id": "bf2bf006f5b692fa",
   "execution_count": null,
   "outputs": []
  },
  {
   "metadata": {},
   "cell_type": "markdown",
   "source": [
    "## Additional Resources\n",
    "\n",
    "- [Tutorial on VQEs](/course/ch-applications/simulating-molecules-using-vqe) in Qiskit Textbook\n",
    "- [Tutorial on combinatorial optimization with QAOA](/course/ch-applications/solving-combinatorial-optimization-problems-using-qaoa) in Qiskit Textbook\n",
    "- E. Farhi, J. Goldstone, and S. Gutmann, [A Quantum Approximate Optimization Algorithm (2014)](https://arxiv.org/abs/1411.4028): The original QAOA paper \n",
    "- [Qiskit Optimization Tutorials](https://qiskit.org/documentation/tutorials/optimization/index.html) including\n",
    "    - [Quadratic Programs](https://qiskit.org/documentation/tutorials/optimization/1_quadratic_program.html)\n",
    "    - [Quadratic Program Converters](https://qiskit.org/documentation/tutorials/optimization/2_converters_for_quadratic_programs.html)\n",
    "    - [Minimum Eigen Optimizer](https://qiskit.org/documentation/tutorials/optimization/3_minimum_eigen_optimizer.html)\n",
    "- Talk by E. Farhi on [recent results for QAOA](https://www.youtube.com/watch?v=8GnRRxlZuZo) at the Simons Institute for the Theory of Computing\n"
   ],
   "id": "e0f507c1fefecfb6"
  },
  {
   "metadata": {
    "jupyter": {
     "is_executing": true
    }
   },
   "cell_type": "code",
   "source": "",
   "id": "ba5a4626b5d5b064",
   "execution_count": null,
   "outputs": []
  }
 ],
 "metadata": {
  "kernelspec": {
   "display_name": "Python 3",
   "language": "python",
   "name": "python3"
  },
  "language_info": {
   "codemirror_mode": {
    "name": "ipython",
    "version": 2
   },
   "file_extension": ".py",
   "mimetype": "text/x-python",
   "name": "python",
   "nbconvert_exporter": "python",
   "pygments_lexer": "ipython2",
   "version": "2.7.6"
  }
 },
 "nbformat": 4,
 "nbformat_minor": 5
}
