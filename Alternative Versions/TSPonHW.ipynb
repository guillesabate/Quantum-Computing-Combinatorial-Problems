{
 "cells": [
  {
   "metadata": {},
   "cell_type": "markdown",
   "source": "# TSP Implementation on Hardware\n",
   "id": "67ac8c0778b10428"
  },
  {
   "metadata": {
    "ExecuteTime": {
     "end_time": "2024-05-16T11:55:57.274801Z",
     "start_time": "2024-05-16T11:55:57.271544Z"
    }
   },
   "cell_type": "code",
   "source": [
    "# useful additional packages\n",
    "import matplotlib.pyplot as plt\n",
    "import numpy as np\n",
    "import networkx as nx\n",
    "\n",
    "from qiskit.circuit.library import TwoLocal\n",
    "from qiskit_optimization.applications import Maxcut, Tsp\n",
    "from qiskit_algorithms import SamplingVQE, NumPyMinimumEigensolver\n",
    "from qiskit_algorithms.optimizers import SPSA\n",
    "from qiskit_algorithms.utils import algorithm_globals\n",
    "from qiskit.primitives import Sampler\n",
    "from qiskit_optimization.algorithms import MinimumEigenOptimizer\n",
    "\n",
    "from itertools import permutations\n"
   ],
   "id": "e39a2660387c7b1c",
   "execution_count": 7,
   "outputs": []
  },
  {
   "metadata": {},
   "cell_type": "markdown",
   "source": [
    "## Drawing Functions for the display of graphs\n",
    "### Draw function for the base graph"
   ],
   "id": "327ea330847bea40"
  },
  {
   "metadata": {
    "ExecuteTime": {
     "end_time": "2024-05-16T11:55:57.335205Z",
     "start_time": "2024-05-16T11:55:57.331809Z"
    }
   },
   "cell_type": "code",
   "source": [
    "def draw_graph(G, colors, pos):\n",
    "    default_axes = plt.axes(frameon=True)\n",
    "    nx.draw_networkx(G, node_color=colors, node_size=600, alpha=0.8, ax=default_axes, pos=pos)\n",
    "    edge_labels = nx.get_edge_attributes(G, \"weight\")\n",
    "    nx.draw_networkx_edge_labels(G, pos=pos, edge_labels=edge_labels)"
   ],
   "id": "f8b9f857529571c3",
   "execution_count": 8,
   "outputs": []
  },
  {
   "metadata": {},
   "cell_type": "markdown",
   "source": "### Draw function for the TSP solution",
   "id": "9794b201a7a5c3dc"
  },
  {
   "metadata": {
    "ExecuteTime": {
     "end_time": "2024-05-16T11:55:57.339732Z",
     "start_time": "2024-05-16T11:55:57.336213Z"
    }
   },
   "cell_type": "code",
   "source": [
    "def draw_tsp_solution(G, order, colors, pos):\n",
    "    G2 = nx.DiGraph()\n",
    "    G2.add_nodes_from(G)\n",
    "    n = len(order)\n",
    "    for i in range(n):\n",
    "        j = (i + 1) % n\n",
    "        G2.add_edge(order[i], order[j], weight=G[order[i]][order[j]][\"weight\"])\n",
    "    default_axes = plt.axes(frameon=True)\n",
    "    nx.draw_networkx(\n",
    "        G2, node_color=colors, edge_color=\"b\", node_size=600, alpha=0.8, ax=default_axes, pos=pos\n",
    "    )\n",
    "    edge_labels = nx.get_edge_attributes(G2, \"weight\")\n",
    "    nx.draw_networkx_edge_labels(G2, pos, font_color=\"b\", edge_labels=edge_labels)"
   ],
   "id": "d5d8e34d523d1e8d",
   "execution_count": 9,
   "outputs": []
  },
  {
   "metadata": {},
   "cell_type": "markdown",
   "source": "### Bruteforce the TSP search through a graph",
   "id": "1f9734b88576a979"
  },
  {
   "metadata": {
    "ExecuteTime": {
     "end_time": "2024-05-16T11:55:57.351701Z",
     "start_time": "2024-05-16T11:55:57.347737Z"
    }
   },
   "cell_type": "code",
   "source": [
    "def brute_force_tsp(w, N):\n",
    "    a = list(permutations(range(1, N)))\n",
    "    last_best_distance = 1e10\n",
    "    for i in a:\n",
    "        distance = 0\n",
    "        pre_j = 0\n",
    "        for j in i:\n",
    "            distance = distance + w[j, pre_j]\n",
    "            pre_j = j\n",
    "        distance = distance + w[pre_j, 0]\n",
    "        order = (0,) + i\n",
    "        if distance < last_best_distance:\n",
    "            best_order = order\n",
    "            last_best_distance = distance\n",
    "            print(\"order = \" + str(order) + \" Distance = \" + str(distance))\n",
    "    return last_best_distance, best_order"
   ],
   "id": "ba4e622b4353778c",
   "execution_count": 10,
   "outputs": []
  },
  {
   "metadata": {},
   "cell_type": "markdown",
   "source": "### Generating a graph of n nodes\n",
   "id": "3f24455f06fad530"
  },
  {
   "metadata": {
    "ExecuteTime": {
     "end_time": "2024-05-16T11:55:57.440018Z",
     "start_time": "2024-05-16T11:55:57.369708Z"
    }
   },
   "cell_type": "code",
   "source": [
    "n = 4\n",
    "num_qubits = n**2\n",
    "tsp = Tsp.create_random_instance(n, seed=123)\n",
    "adj_matrix = nx.to_numpy_array(tsp.graph)\n",
    "print(\"distance\\n\", adj_matrix)\n",
    "\n",
    "colors = [\"r\" for node in tsp.graph.nodes]\n",
    "pos = [tsp.graph.nodes[node][\"pos\"] for node in tsp.graph.nodes]\n",
    "draw_graph(tsp.graph, colors, pos)"
   ],
   "id": "6f97f97f072b4215",
   "execution_count": 11,
   "outputs": []
  },
  {
   "metadata": {},
   "cell_type": "markdown",
   "source": "### Solve through bruteforce",
   "id": "c271eae0e26d2a3e"
  },
  {
   "metadata": {
    "ExecuteTime": {
     "end_time": "2024-05-16T11:55:57.704956Z",
     "start_time": "2024-05-16T11:55:57.441027Z"
    }
   },
   "cell_type": "code",
   "source": [
    "# Bruteforce Approach\n",
    "best_distance, best_order = brute_force_tsp(adj_matrix, n)\n",
    "print(\n",
    "    \"Best order from brute force = \"\n",
    "    + str(best_order)\n",
    "    + \" with total distance = \"\n",
    "    + str(best_distance)\n",
    ")\n",
    "\n",
    "draw_tsp_solution(tsp.graph, best_order, colors, pos)\n",
    "    \n",
    "# Mapping Ising to the Problem\n",
    "qp = tsp.to_quadratic_program()\n",
    "print(qp.prettyprint())\n",
    "\n",
    "from qiskit_optimization.converters import QuadraticProgramToQubo\n",
    "\n",
    "qp2qubo = QuadraticProgramToQubo()\n",
    "qubo = qp2qubo.convert(qp)\n",
    "qubitOp, offset = qubo.to_ising()\n",
    "operators = qubitOp.to_operator()\n",
    "\n",
    "print(\"Offset:\", offset)\n",
    "print(\"Ising Hamiltonian:\")\n",
    "print(str(qubitOp))\n",
    "print(\"Operators:\", operators)\n",
    "\n",
    "# solving Quadratic Program using exact classical eigensolver\n",
    "exact = MinimumEigenOptimizer(NumPyMinimumEigensolver())\n",
    "result = exact.solve(qp)\n",
    "print(result.prettyprint())"
   ],
   "id": "4d1e426afd475be3",
   "execution_count": 12,
   "outputs": []
  },
  {
   "metadata": {},
   "cell_type": "markdown",
   "source": "### Checking that the full Hamiltonian gives the right cost",
   "id": "aaaeebe5603a90f3"
  },
  {
   "metadata": {
    "ExecuteTime": {
     "end_time": "2024-05-16T11:55:57.777522Z",
     "start_time": "2024-05-16T11:55:57.704956Z"
    }
   },
   "cell_type": "code",
   "source": [
    "# Making the Hamiltonian in its full form and getting the lowest eigenvalue and eigenvector\n",
    "ee = NumPyMinimumEigensolver()\n",
    "result = ee.compute_minimum_eigenvalue(qubitOp)\n",
    "\n",
    "print(\"energy:\", result.eigenvalue.real)\n",
    "print(\"tsp objective:\", result.eigenvalue.real + offset)\n",
    "x = tsp.sample_most_likely(result.eigenstate)\n",
    "print(\"feasible:\", qubo.is_feasible(x))\n",
    "z = tsp.interpret(x)\n",
    "print(\"solution:\", z)\n",
    "print(\"solution objective:\", tsp.tsp_value(z, adj_matrix))\n",
    "draw_tsp_solution(tsp.graph, z, colors, pos)"
   ],
   "id": "77f3304444bf30d",
   "execution_count": 13,
   "outputs": []
  },
  {
   "metadata": {},
   "cell_type": "markdown",
   "source": "## Running it on a simulated Quantum computer",
   "id": "9af26a5468c6b6ce"
  },
  {
   "metadata": {
    "ExecuteTime": {
     "end_time": "2024-05-16T11:55:57.780985Z",
     "start_time": "2024-05-16T11:55:57.778531Z"
    }
   },
   "cell_type": "code",
   "source": [
    "algorithm_globals.random_seed = 123\n",
    "seed = 10598"
   ],
   "id": "9b04b5baf3ff6d33",
   "execution_count": 14,
   "outputs": []
  },
  {
   "metadata": {
    "ExecuteTime": {
     "end_time": "2024-05-16T11:56:04.065721Z",
     "start_time": "2024-05-16T11:55:57.780985Z"
    }
   },
   "cell_type": "code",
   "source": [
    "optimizer = SPSA(maxiter=300)\n",
    "ry = TwoLocal(qubitOp.num_qubits, \"ry\", \"cz\", reps=5, entanglement=\"linear\")\n",
    "vqe = SamplingVQE(sampler=Sampler(), ansatz=ry, optimizer=optimizer)\n",
    "\n",
    "result = vqe.compute_minimum_eigenvalue(qubitOp)\n",
    "\n",
    "print(\"energy:\", result.eigenvalue.real)\n",
    "print(\"time:\", result.optimizer_time)    \n",
    "x = tsp.sample_most_likely(result.eigenstate)\n",
    "print(\"feasible:\", qubo.is_feasible(x))\n",
    "z = tsp.interpret(x)\n",
    "print(\"solution:\", z)\n",
    "print(\"solution objective:\", tsp.tsp_value(z, adj_matrix))\n",
    "draw_tsp_solution(tsp.graph, z, colors, pos)"
   ],
   "id": "f620a6d2826b6d4d",
   "execution_count": 15,
   "outputs": []
  },
  {
   "metadata": {},
   "cell_type": "markdown",
   "source": "## Running on Quantum Computer",
   "id": "cae0b1a637f33aef"
  },
  {
   "metadata": {
    "ExecuteTime": {
     "end_time": "2024-05-16T11:56:04.773269Z",
     "start_time": "2024-05-16T11:56:04.066727Z"
    }
   },
   "cell_type": "code",
   "source": [
    "# Optimize for Backend execution\n",
    "from qiskit_ibm_runtime import QiskitRuntimeService\n",
    "from qiskit.transpiler.preset_passmanagers import generate_preset_pass_manager\n",
    "\n",
    "backend_name = \"ibm_brisbane\"\n",
    "backend = QiskitRuntimeService().get_backend(backend_name)\n",
    "pass_manager = generate_preset_pass_manager(optimization_level=1, backend=backend)\n",
    "\n",
    "qc_transpiled = pass_manager.run(ry)\n",
    "operators_transpiled_list = [op.apply_layout(qc_transpiled.layout) for op in operators]"
   ],
   "id": "844b0e5fef6fe3f9",
   "execution_count": 16,
   "outputs": []
  },
  {
   "metadata": {
    "ExecuteTime": {
     "end_time": "2024-05-16T11:56:04.773269Z",
     "start_time": "2024-05-16T11:56:04.773269Z"
    }
   },
   "cell_type": "code",
   "source": [
    "# Execute on Backend\n",
    "from qiskit_ibm_runtime import EstimatorV2 as Estimator\n",
    "from qiskit_ibm_runtime import EstimatorOptions\n",
    "\n",
    "options = EstimatorOptions()\n",
    "options.resilience_level = 1\n",
    "options.optimization_level = 0\n",
    "options.dynamical_decoupling.enable = True\n",
    "options.dynamical_decoupling.sequence_type = \"XY4\"\n",
    "\n",
    "estimator = Estimator(backend, options=options)\n",
    "\n",
    "job = estimator.run([(qc_transpiled, operators_transpiled_list)])\n",
    "job_id = job.job_id()\n",
    "print(job_id)"
   ],
   "id": "327f3f54dbda3ad8",
   "execution_count": null,
   "outputs": []
  },
  {
   "metadata": {
    "ExecuteTime": {
     "end_time": "2024-05-16T11:56:04.774275Z",
     "start_time": "2024-05-16T11:56:04.774275Z"
    }
   },
   "cell_type": "code",
   "source": [
    "# create mini mum eigen optimizer based on SamplingVQE\n",
    "vqe_optimizer = MinimumEigenOptimizer(vqe)\n",
    "\n",
    "# solve quadratic program\n",
    "result = vqe_optimizer.solve(qp)\n",
    "print(result.prettyprint())\n",
    "\n",
    "z = tsp.interpret(x)\n",
    "print(\"solution:\", z)\n",
    "print(\"solution objective:\", tsp.tsp_value(z, adj_matrix))\n",
    "draw_tsp_solution(tsp.graph, z, colors, pos)\n"
   ],
   "id": "5af8f1303c3465eb",
   "execution_count": null,
   "outputs": []
  }
 ],
 "metadata": {
  "kernelspec": {
   "display_name": "Python 3",
   "language": "python",
   "name": "python3"
  },
  "language_info": {
   "codemirror_mode": {
    "name": "ipython",
    "version": 2
   },
   "file_extension": ".py",
   "mimetype": "text/x-python",
   "name": "python",
   "nbconvert_exporter": "python",
   "pygments_lexer": "ipython2",
   "version": "2.7.6"
  }
 },
 "nbformat": 4,
 "nbformat_minor": 5
}
