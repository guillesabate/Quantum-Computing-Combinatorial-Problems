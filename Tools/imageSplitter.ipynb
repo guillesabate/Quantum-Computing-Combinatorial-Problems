{
 "cells": [
  {
   "metadata": {},
   "cell_type": "markdown",
   "source": [
    "# Code to split images into different word pages\n",
    "\n",
    "## Parameters\n",
    "Introduce the paths for the source and destination files"
   ],
   "id": "182bc6276db4440d"
  },
  {
   "metadata": {
    "ExecuteTime": {
     "end_time": "2024-08-31T05:26:45.888870Z",
     "start_time": "2024-08-31T05:26:45.885910Z"
    }
   },
   "cell_type": "code",
   "source": [
    "image_path_folder = \"../Images/\"\n",
    "image_name = \"MaxCutISAFullCircuit.png\"\n",
    "output_folder = \"C:/Users/guill/Desktop/Final Thesis Engineering/Images/MaxCutISACircuit\"\n",
    "output_doc = None\n",
    "segment_height = 2447"
   ],
   "id": "a9a816ca8a4fefe0",
   "outputs": [],
   "execution_count": 3
  },
  {
   "metadata": {
    "ExecuteTime": {
     "end_time": "2024-08-31T05:26:46.765330Z",
     "start_time": "2024-08-31T05:26:45.889876Z"
    }
   },
   "cell_type": "code",
   "source": [
    "from PIL import Image\n",
    "from docx import Document\n",
    "from docx.shared import Inches\n",
    "import os\n",
    "\n",
    "def split_image(file, path, output_folder, segment_height):\n",
    "    image_path = path + file\n",
    "    img = Image.open(image_path)\n",
    "    width, height = img.size\n",
    "    segments = (height // segment_height) + 1\n",
    "    \n",
    "    print(width, height)\n",
    "    \n",
    "    for i in range(segments):\n",
    "        left = 0\n",
    "        upper = i * segment_height\n",
    "        right = width\n",
    "        lower = (i + 1) * segment_height if (i + 1) * segment_height < height else height\n",
    "        \n",
    "        bbox = (left, upper, right, lower)\n",
    "        segment = img.crop(bbox)\n",
    "        segment.save(f\"{output_folder}/{file}_segment_{i + 1}.png\")\n",
    "\n",
    "def insert_images_into_word(image_folder, output_doc):\n",
    "    doc = Document()\n",
    "    \n",
    "    images = sorted([img for img in os.listdir(image_folder) if img.endswith(\".png\")])\n",
    "    \n",
    "    for img in images:\n",
    "        doc.add_picture(os.path.join(image_folder, img), width=Inches(6))\n",
    "        doc.add_page_break()\n",
    "    \n",
    "    doc.save(output_doc)\n",
    "\n",
    "\n",
    "# Ensure the output folder exists\n",
    "os.makedirs(output_folder, exist_ok=True)\n",
    "\n",
    "# Split the image and insert into Word\n",
    "split_image(image_name, image_path_folder, output_folder, segment_height)\n",
    "#insert_images_into_word(output_folder, output_doc)\n"
   ],
   "id": "298f391870cef3ef",
   "outputs": [
    {
     "name": "stdout",
     "output_type": "stream",
     "text": [
      "1776 14415\n"
     ]
    }
   ],
   "execution_count": 4
  },
  {
   "metadata": {},
   "cell_type": "markdown",
   "source": "TEXT FIXER",
   "id": "8b7f760b85a1ee08"
  }
 ],
 "metadata": {
  "kernelspec": {
   "display_name": "Python 3",
   "language": "python",
   "name": "python3"
  },
  "language_info": {
   "codemirror_mode": {
    "name": "ipython",
    "version": 2
   },
   "file_extension": ".py",
   "mimetype": "text/x-python",
   "name": "python",
   "nbconvert_exporter": "python",
   "pygments_lexer": "ipython2",
   "version": "2.7.6"
  }
 },
 "nbformat": 4,
 "nbformat_minor": 5
}
